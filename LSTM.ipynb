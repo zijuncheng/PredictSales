{
 "cells": [
  {
   "cell_type": "code",
   "execution_count": 1,
   "metadata": {
    "collapsed": true
   },
   "outputs": [],
   "source": [
    "import numpy as np\n",
    "import pandas as pd\n",
    "import math\n",
    "import seaborn as sns\n",
    "import matplotlib.pyplot as plt\n",
    "from sklearn.metrics import mean_squared_error"
   ]
  },
  {
   "cell_type": "code",
   "execution_count": 2,
   "metadata": {},
   "outputs": [
    {
     "name": "stderr",
     "output_type": "stream",
     "text": [
      "Using TensorFlow backend.\n"
     ]
    }
   ],
   "source": [
    "from keras.models import Sequential\n",
    "from keras.layers import LSTM\n",
    "from keras.layers import Dense\n",
    "from keras.layers import Dropout\n",
    "from keras.optimizers import RMSprop"
   ]
  },
  {
   "cell_type": "code",
   "execution_count": 3,
   "metadata": {
    "collapsed": true
   },
   "outputs": [],
   "source": [
    "#save and load function\n",
    "import pickle\n",
    "def save_obj(obj, name ):\n",
    "    with open('./'+ name + '.pkl', 'wb') as f:\n",
    "        pickle.dump(obj, f, pickle.HIGHEST_PROTOCOL)\n",
    "\n",
    "def load_obj(name ):\n",
    "    with open('./' + name + '.pkl', 'rb') as f:\n",
    "        return pickle.load(f)"
   ]
  },
  {
   "cell_type": "code",
   "execution_count": 4,
   "metadata": {
    "collapsed": true
   },
   "outputs": [],
   "source": [
    "#with missing values\n",
    "X_train_cnt = load_obj(\"data/X_train_LSTM_complete\")\n",
    "X_val_cnt =  load_obj(\"data/X_val_LSTM_complete\")\n",
    "X_test_cnt =  load_obj(\"data/X_test_LSTM_complete\")"
   ]
  },
  {
   "cell_type": "code",
   "execution_count": 5,
   "metadata": {
    "scrolled": true
   },
   "outputs": [
    {
     "data": {
      "text/html": [
       "<div>\n",
       "<style scoped>\n",
       "    .dataframe tbody tr th:only-of-type {\n",
       "        vertical-align: middle;\n",
       "    }\n",
       "\n",
       "    .dataframe tbody tr th {\n",
       "        vertical-align: top;\n",
       "    }\n",
       "\n",
       "    .dataframe thead th {\n",
       "        text-align: right;\n",
       "    }\n",
       "</style>\n",
       "<table border=\"1\" class=\"dataframe\">\n",
       "  <thead>\n",
       "    <tr style=\"text-align: right;\">\n",
       "      <th></th>\n",
       "      <th>shop_id</th>\n",
       "      <th>item_id</th>\n",
       "      <th>item_category_id</th>\n",
       "      <th>top_categories_id</th>\n",
       "      <th>item_price_2</th>\n",
       "      <th>item_price_3</th>\n",
       "      <th>item_price_4</th>\n",
       "      <th>item_price_5</th>\n",
       "      <th>item_price_6</th>\n",
       "      <th>item_price_7</th>\n",
       "      <th>...</th>\n",
       "      <th>item_cnt_day_24</th>\n",
       "      <th>item_cnt_day_25</th>\n",
       "      <th>item_cnt_day_26</th>\n",
       "      <th>item_cnt_day_27</th>\n",
       "      <th>item_cnt_day_28</th>\n",
       "      <th>item_cnt_day_29</th>\n",
       "      <th>item_cnt_day_30</th>\n",
       "      <th>item_cnt_day_31</th>\n",
       "      <th>item_cnt_day_32</th>\n",
       "      <th>item_cnt_day_33</th>\n",
       "    </tr>\n",
       "  </thead>\n",
       "  <tbody>\n",
       "    <tr>\n",
       "      <th>0</th>\n",
       "      <td>0.0</td>\n",
       "      <td>30.0</td>\n",
       "      <td>40.0</td>\n",
       "      <td>13.0</td>\n",
       "      <td>-0.135903</td>\n",
       "      <td>-0.135903</td>\n",
       "      <td>-0.135903</td>\n",
       "      <td>-0.135903</td>\n",
       "      <td>-0.135903</td>\n",
       "      <td>-0.135903</td>\n",
       "      <td>...</td>\n",
       "      <td>0.0</td>\n",
       "      <td>0.0</td>\n",
       "      <td>0.0</td>\n",
       "      <td>0.0</td>\n",
       "      <td>0.0</td>\n",
       "      <td>0.0</td>\n",
       "      <td>0.0</td>\n",
       "      <td>0.0</td>\n",
       "      <td>0.0</td>\n",
       "      <td>0.0</td>\n",
       "    </tr>\n",
       "    <tr>\n",
       "      <th>2393</th>\n",
       "      <td>0.0</td>\n",
       "      <td>14798.0</td>\n",
       "      <td>40.0</td>\n",
       "      <td>13.0</td>\n",
       "      <td>-0.135903</td>\n",
       "      <td>-0.135903</td>\n",
       "      <td>-0.135903</td>\n",
       "      <td>-0.135903</td>\n",
       "      <td>-0.135903</td>\n",
       "      <td>-0.135903</td>\n",
       "      <td>...</td>\n",
       "      <td>0.0</td>\n",
       "      <td>0.0</td>\n",
       "      <td>0.0</td>\n",
       "      <td>0.0</td>\n",
       "      <td>0.0</td>\n",
       "      <td>0.0</td>\n",
       "      <td>0.0</td>\n",
       "      <td>0.0</td>\n",
       "      <td>0.0</td>\n",
       "      <td>0.0</td>\n",
       "    </tr>\n",
       "    <tr>\n",
       "      <th>2394</th>\n",
       "      <td>0.0</td>\n",
       "      <td>14799.0</td>\n",
       "      <td>37.0</td>\n",
       "      <td>13.0</td>\n",
       "      <td>-0.135903</td>\n",
       "      <td>-0.135903</td>\n",
       "      <td>-0.135903</td>\n",
       "      <td>-0.135903</td>\n",
       "      <td>-0.135903</td>\n",
       "      <td>-0.135903</td>\n",
       "      <td>...</td>\n",
       "      <td>0.0</td>\n",
       "      <td>0.0</td>\n",
       "      <td>0.0</td>\n",
       "      <td>0.0</td>\n",
       "      <td>0.0</td>\n",
       "      <td>0.0</td>\n",
       "      <td>0.0</td>\n",
       "      <td>0.0</td>\n",
       "      <td>0.0</td>\n",
       "      <td>0.0</td>\n",
       "    </tr>\n",
       "    <tr>\n",
       "      <th>2395</th>\n",
       "      <td>0.0</td>\n",
       "      <td>14800.0</td>\n",
       "      <td>40.0</td>\n",
       "      <td>13.0</td>\n",
       "      <td>-0.135903</td>\n",
       "      <td>-0.135903</td>\n",
       "      <td>-0.135903</td>\n",
       "      <td>-0.135903</td>\n",
       "      <td>-0.135903</td>\n",
       "      <td>-0.135903</td>\n",
       "      <td>...</td>\n",
       "      <td>0.0</td>\n",
       "      <td>0.0</td>\n",
       "      <td>0.0</td>\n",
       "      <td>0.0</td>\n",
       "      <td>0.0</td>\n",
       "      <td>0.0</td>\n",
       "      <td>0.0</td>\n",
       "      <td>0.0</td>\n",
       "      <td>0.0</td>\n",
       "      <td>0.0</td>\n",
       "    </tr>\n",
       "    <tr>\n",
       "      <th>2396</th>\n",
       "      <td>0.0</td>\n",
       "      <td>14804.0</td>\n",
       "      <td>37.0</td>\n",
       "      <td>13.0</td>\n",
       "      <td>-0.135903</td>\n",
       "      <td>-0.135903</td>\n",
       "      <td>-0.135903</td>\n",
       "      <td>-0.135903</td>\n",
       "      <td>-0.135903</td>\n",
       "      <td>-0.135903</td>\n",
       "      <td>...</td>\n",
       "      <td>0.0</td>\n",
       "      <td>0.0</td>\n",
       "      <td>0.0</td>\n",
       "      <td>0.0</td>\n",
       "      <td>0.0</td>\n",
       "      <td>0.0</td>\n",
       "      <td>0.0</td>\n",
       "      <td>0.0</td>\n",
       "      <td>0.0</td>\n",
       "      <td>0.0</td>\n",
       "    </tr>\n",
       "  </tbody>\n",
       "</table>\n",
       "<p>5 rows × 68 columns</p>\n",
       "</div>"
      ],
      "text/plain": [
       "      shop_id  item_id  item_category_id  top_categories_id  item_price_2  \\\n",
       "0         0.0     30.0              40.0               13.0     -0.135903   \n",
       "2393      0.0  14798.0              40.0               13.0     -0.135903   \n",
       "2394      0.0  14799.0              37.0               13.0     -0.135903   \n",
       "2395      0.0  14800.0              40.0               13.0     -0.135903   \n",
       "2396      0.0  14804.0              37.0               13.0     -0.135903   \n",
       "\n",
       "      item_price_3  item_price_4  item_price_5  item_price_6  item_price_7  \\\n",
       "0        -0.135903     -0.135903     -0.135903     -0.135903     -0.135903   \n",
       "2393     -0.135903     -0.135903     -0.135903     -0.135903     -0.135903   \n",
       "2394     -0.135903     -0.135903     -0.135903     -0.135903     -0.135903   \n",
       "2395     -0.135903     -0.135903     -0.135903     -0.135903     -0.135903   \n",
       "2396     -0.135903     -0.135903     -0.135903     -0.135903     -0.135903   \n",
       "\n",
       "      ...  item_cnt_day_24  item_cnt_day_25  item_cnt_day_26  item_cnt_day_27  \\\n",
       "0     ...              0.0              0.0              0.0              0.0   \n",
       "2393  ...              0.0              0.0              0.0              0.0   \n",
       "2394  ...              0.0              0.0              0.0              0.0   \n",
       "2395  ...              0.0              0.0              0.0              0.0   \n",
       "2396  ...              0.0              0.0              0.0              0.0   \n",
       "\n",
       "      item_cnt_day_28  item_cnt_day_29  item_cnt_day_30  item_cnt_day_31  \\\n",
       "0                 0.0              0.0              0.0              0.0   \n",
       "2393              0.0              0.0              0.0              0.0   \n",
       "2394              0.0              0.0              0.0              0.0   \n",
       "2395              0.0              0.0              0.0              0.0   \n",
       "2396              0.0              0.0              0.0              0.0   \n",
       "\n",
       "      item_cnt_day_32  item_cnt_day_33  \n",
       "0                 0.0              0.0  \n",
       "2393              0.0              0.0  \n",
       "2394              0.0              0.0  \n",
       "2395              0.0              0.0  \n",
       "2396              0.0              0.0  \n",
       "\n",
       "[5 rows x 68 columns]"
      ]
     },
     "execution_count": 5,
     "metadata": {},
     "output_type": "execute_result"
    }
   ],
   "source": [
    "X_test_cnt.head()"
   ]
  },
  {
   "cell_type": "code",
   "execution_count": 6,
   "metadata": {},
   "outputs": [],
   "source": [
    "cols = X_train_cnt.columns\n",
    "X_val_cnt.columns = cols"
   ]
  },
  {
   "cell_type": "code",
   "execution_count": 7,
   "metadata": {},
   "outputs": [
    {
     "data": {
      "text/plain": [
       "Index(['shop_id', 'item_id', 'item_category_id', 'top_categories_id',\n",
       "       'item_price_0', 'item_price_1', 'item_price_2', 'item_price_3',\n",
       "       'item_price_4', 'item_price_5', 'item_price_6', 'item_price_7',\n",
       "       'item_price_8', 'item_price_9', 'item_price_10', 'item_price_11',\n",
       "       'item_price_12', 'item_price_13', 'item_price_14', 'item_price_15',\n",
       "       'item_price_16', 'item_price_17', 'item_price_18', 'item_price_19',\n",
       "       'item_price_20', 'item_price_21', 'item_price_22', 'item_price_23',\n",
       "       'item_price_24', 'item_price_25', 'item_price_26', 'item_price_27',\n",
       "       'item_price_28', 'item_price_29', 'item_price_30', 'item_price_31',\n",
       "       'item_price_32', 'item_cnt_day_0', 'item_cnt_day_1', 'item_cnt_day_2',\n",
       "       'item_cnt_day_3', 'item_cnt_day_4', 'item_cnt_day_5', 'item_cnt_day_6',\n",
       "       'item_cnt_day_7', 'item_cnt_day_8', 'item_cnt_day_9', 'item_cnt_day_10',\n",
       "       'item_cnt_day_11', 'item_cnt_day_12', 'item_cnt_day_13',\n",
       "       'item_cnt_day_14', 'item_cnt_day_15', 'item_cnt_day_16',\n",
       "       'item_cnt_day_17', 'item_cnt_day_18', 'item_cnt_day_19',\n",
       "       'item_cnt_day_20', 'item_cnt_day_21', 'item_cnt_day_22',\n",
       "       'item_cnt_day_23', 'item_cnt_day_24', 'item_cnt_day_25',\n",
       "       'item_cnt_day_26', 'item_cnt_day_27', 'item_cnt_day_28',\n",
       "       'item_cnt_day_29', 'item_cnt_day_30', 'item_cnt_day_31',\n",
       "       'item_cnt_day_32'],\n",
       "      dtype='object')"
      ]
     },
     "execution_count": 7,
     "metadata": {},
     "output_type": "execute_result"
    }
   ],
   "source": [
    "cols"
   ]
  },
  {
   "cell_type": "code",
   "execution_count": 8,
   "metadata": {},
   "outputs": [],
   "source": [
    "cols_test = cols.drop(['item_price_32','item_cnt_day_32'])"
   ]
  },
  {
   "cell_type": "code",
   "execution_count": 9,
   "metadata": {},
   "outputs": [
    {
     "data": {
      "text/plain": [
       "68"
      ]
     },
     "execution_count": 9,
     "metadata": {},
     "output_type": "execute_result"
    }
   ],
   "source": [
    "len(cols_test)"
   ]
  },
  {
   "cell_type": "code",
   "execution_count": 10,
   "metadata": {},
   "outputs": [],
   "source": [
    "#prepare for \n",
    "X_test_cnt.columns = cols_test"
   ]
  },
  {
   "cell_type": "code",
   "execution_count": 11,
   "metadata": {},
   "outputs": [
    {
     "data": {
      "text/plain": [
       "Index(['item_cnt_day_0', 'item_cnt_day_1', 'item_cnt_day_2', 'item_cnt_day_3',\n",
       "       'item_cnt_day_4', 'item_cnt_day_5', 'item_cnt_day_6', 'item_cnt_day_7',\n",
       "       'item_cnt_day_8', 'item_cnt_day_9', 'item_cnt_day_10',\n",
       "       'item_cnt_day_11', 'item_cnt_day_12', 'item_cnt_day_13',\n",
       "       'item_cnt_day_14', 'item_cnt_day_15', 'item_cnt_day_16',\n",
       "       'item_cnt_day_17', 'item_cnt_day_18', 'item_cnt_day_19',\n",
       "       'item_cnt_day_20', 'item_cnt_day_21', 'item_cnt_day_22',\n",
       "       'item_cnt_day_23', 'item_cnt_day_24', 'item_cnt_day_25',\n",
       "       'item_cnt_day_26', 'item_cnt_day_27', 'item_cnt_day_28',\n",
       "       'item_cnt_day_29', 'item_cnt_day_30', 'item_cnt_day_31',\n",
       "       'item_cnt_day_32'],\n",
       "      dtype='object')"
      ]
     },
     "execution_count": 11,
     "metadata": {},
     "output_type": "execute_result"
    }
   ],
   "source": [
    "cols_select = cols[37:]\n",
    "cols_select"
   ]
  },
  {
   "cell_type": "code",
   "execution_count": 12,
   "metadata": {},
   "outputs": [
    {
     "data": {
      "text/plain": [
       "Index(['item_cnt_day_0', 'item_cnt_day_1', 'item_cnt_day_2', 'item_cnt_day_3',\n",
       "       'item_cnt_day_4', 'item_cnt_day_5', 'item_cnt_day_6', 'item_cnt_day_7',\n",
       "       'item_cnt_day_8', 'item_cnt_day_9', 'item_cnt_day_10',\n",
       "       'item_cnt_day_11', 'item_cnt_day_12', 'item_cnt_day_13',\n",
       "       'item_cnt_day_14', 'item_cnt_day_15', 'item_cnt_day_16',\n",
       "       'item_cnt_day_17', 'item_cnt_day_18', 'item_cnt_day_19',\n",
       "       'item_cnt_day_20', 'item_cnt_day_21', 'item_cnt_day_22',\n",
       "       'item_cnt_day_23', 'item_cnt_day_24', 'item_cnt_day_25',\n",
       "       'item_cnt_day_26', 'item_cnt_day_27', 'item_cnt_day_28',\n",
       "       'item_cnt_day_29', 'item_cnt_day_30', 'item_cnt_day_31'],\n",
       "      dtype='object')"
      ]
     },
     "execution_count": 12,
     "metadata": {},
     "output_type": "execute_result"
    }
   ],
   "source": [
    "cols_select_test = cols_test[36:]\n",
    "cols_select_test"
   ]
  },
  {
   "cell_type": "code",
   "execution_count": 13,
   "metadata": {},
   "outputs": [
    {
     "data": {
      "text/plain": [
       "Index(['item_price_0', 'item_price_1', 'item_price_2', 'item_price_3',\n",
       "       'item_price_4', 'item_price_5', 'item_price_6', 'item_price_7',\n",
       "       'item_price_8', 'item_price_9', 'item_price_10', 'item_price_11',\n",
       "       'item_price_12', 'item_price_13', 'item_price_14', 'item_price_15',\n",
       "       'item_price_16', 'item_price_17', 'item_price_18', 'item_price_19',\n",
       "       'item_price_20', 'item_price_21', 'item_price_22', 'item_price_23',\n",
       "       'item_price_24', 'item_price_25', 'item_price_26', 'item_price_27',\n",
       "       'item_price_28', 'item_price_29', 'item_price_30', 'item_price_31',\n",
       "       'item_price_32'],\n",
       "      dtype='object')"
      ]
     },
     "execution_count": 13,
     "metadata": {},
     "output_type": "execute_result"
    }
   ],
   "source": [
    "cols_select_price = cols[4:37]\n",
    "cols_select_price"
   ]
  },
  {
   "cell_type": "code",
   "execution_count": 14,
   "metadata": {
    "scrolled": true
   },
   "outputs": [
    {
     "data": {
      "text/plain": [
       "Index(['item_price_0', 'item_price_1', 'item_price_2', 'item_price_3',\n",
       "       'item_price_4', 'item_price_5', 'item_price_6', 'item_price_7',\n",
       "       'item_price_8', 'item_price_9', 'item_price_10', 'item_price_11',\n",
       "       'item_price_12', 'item_price_13', 'item_price_14', 'item_price_15',\n",
       "       'item_price_16', 'item_price_17', 'item_price_18', 'item_price_19',\n",
       "       'item_price_20', 'item_price_21', 'item_price_22', 'item_price_23',\n",
       "       'item_price_24', 'item_price_25', 'item_price_26', 'item_price_27',\n",
       "       'item_price_28', 'item_price_29', 'item_price_30', 'item_price_31'],\n",
       "      dtype='object')"
      ]
     },
     "execution_count": 14,
     "metadata": {},
     "output_type": "execute_result"
    }
   ],
   "source": [
    "cols_select_price_test = cols[4:36]\n",
    "cols_select_price_test"
   ]
  },
  {
   "cell_type": "code",
   "execution_count": 15,
   "metadata": {},
   "outputs": [
    {
     "data": {
      "text/plain": [
       "'shop_id'"
      ]
     },
     "execution_count": 15,
     "metadata": {},
     "output_type": "execute_result"
    }
   ],
   "source": [
    "cols_select_shop = cols[0]\n",
    "cols_select_shop"
   ]
  },
  {
   "cell_type": "code",
   "execution_count": 16,
   "metadata": {},
   "outputs": [
    {
     "data": {
      "text/plain": [
       "'item_id'"
      ]
     },
     "execution_count": 16,
     "metadata": {},
     "output_type": "execute_result"
    }
   ],
   "source": [
    "cols_select_item = cols[1]\n",
    "cols_select_item"
   ]
  },
  {
   "cell_type": "code",
   "execution_count": 17,
   "metadata": {},
   "outputs": [
    {
     "data": {
      "text/plain": [
       "'item_category_id'"
      ]
     },
     "execution_count": 17,
     "metadata": {},
     "output_type": "execute_result"
    }
   ],
   "source": [
    "cols_select_cat1 = cols[2]\n",
    "cols_select_cat1"
   ]
  },
  {
   "cell_type": "code",
   "execution_count": 18,
   "metadata": {},
   "outputs": [
    {
     "data": {
      "text/plain": [
       "'top_categories_id'"
      ]
     },
     "execution_count": 18,
     "metadata": {},
     "output_type": "execute_result"
    }
   ],
   "source": [
    "cols_select_cat2 = cols[3]\n",
    "cols_select_cat2"
   ]
  },
  {
   "cell_type": "code",
   "execution_count": 19,
   "metadata": {},
   "outputs": [
    {
     "data": {
      "text/plain": [
       "33"
      ]
     },
     "execution_count": 19,
     "metadata": {},
     "output_type": "execute_result"
    }
   ],
   "source": [
    "cols_dummy = list(range(33))\n",
    "len(cols_dummy)"
   ]
  },
  {
   "cell_type": "code",
   "execution_count": 20,
   "metadata": {},
   "outputs": [
    {
     "data": {
      "text/plain": [
       "32"
      ]
     },
     "execution_count": 20,
     "metadata": {},
     "output_type": "execute_result"
    }
   ],
   "source": [
    "cols_test_dummy = cols_dummy[:-1]\n",
    "len(cols_test_dummy)"
   ]
  },
  {
   "cell_type": "code",
   "execution_count": 175,
   "metadata": {},
   "outputs": [],
   "source": [
    "X_train_cnt_partial = X_train_cnt[cols_select]\n",
    "X_val_cnt_partial = X_val_cnt[cols_select]\n",
    "X_test_cnt_partial = X_test_cnt[cols_select_test]"
   ]
  },
  {
   "cell_type": "code",
   "execution_count": 176,
   "metadata": {},
   "outputs": [],
   "source": [
    "X_train_cnt_partial.columns = cols_dummy\n",
    "X_val_cnt_partial.columns = cols_dummy\n",
    "X_test_cnt_partial.columns = cols_test_dummy"
   ]
  },
  {
   "cell_type": "code",
   "execution_count": 177,
   "metadata": {},
   "outputs": [],
   "source": [
    "X_train_cnt_price = X_train_cnt[cols_select_price]\n",
    "X_val_cnt_price = X_val_cnt[cols_select_price]\n",
    "X_test_cnt_price = X_test_cnt[cols_select_price_test]"
   ]
  },
  {
   "cell_type": "code",
   "execution_count": 178,
   "metadata": {},
   "outputs": [],
   "source": [
    "X_train_cnt_price.columns = cols_dummy\n",
    "X_val_cnt_price.columns = cols_dummy\n",
    "X_test_cnt_price.columns = cols_test_dummy"
   ]
  },
  {
   "cell_type": "code",
   "execution_count": 179,
   "metadata": {},
   "outputs": [
    {
     "data": {
      "text/html": [
       "<div>\n",
       "<style scoped>\n",
       "    .dataframe tbody tr th:only-of-type {\n",
       "        vertical-align: middle;\n",
       "    }\n",
       "\n",
       "    .dataframe tbody tr th {\n",
       "        vertical-align: top;\n",
       "    }\n",
       "\n",
       "    .dataframe thead th {\n",
       "        text-align: right;\n",
       "    }\n",
       "</style>\n",
       "<table border=\"1\" class=\"dataframe\">\n",
       "  <thead>\n",
       "    <tr style=\"text-align: right;\">\n",
       "      <th></th>\n",
       "      <th>0</th>\n",
       "      <th>1</th>\n",
       "      <th>2</th>\n",
       "      <th>3</th>\n",
       "      <th>4</th>\n",
       "      <th>5</th>\n",
       "      <th>6</th>\n",
       "      <th>7</th>\n",
       "      <th>8</th>\n",
       "      <th>9</th>\n",
       "      <th>...</th>\n",
       "      <th>23</th>\n",
       "      <th>24</th>\n",
       "      <th>25</th>\n",
       "      <th>26</th>\n",
       "      <th>27</th>\n",
       "      <th>28</th>\n",
       "      <th>29</th>\n",
       "      <th>30</th>\n",
       "      <th>31</th>\n",
       "      <th>32</th>\n",
       "    </tr>\n",
       "  </thead>\n",
       "  <tbody>\n",
       "    <tr>\n",
       "      <th>0</th>\n",
       "      <td>-0.138812</td>\n",
       "      <td>0.378800</td>\n",
       "      <td>-0.138812</td>\n",
       "      <td>-0.138812</td>\n",
       "      <td>-0.138812</td>\n",
       "      <td>-0.138812</td>\n",
       "      <td>-0.138812</td>\n",
       "      <td>-0.138812</td>\n",
       "      <td>-0.138812</td>\n",
       "      <td>-0.138812</td>\n",
       "      <td>...</td>\n",
       "      <td>-0.138812</td>\n",
       "      <td>-0.138812</td>\n",
       "      <td>-0.138812</td>\n",
       "      <td>-0.138812</td>\n",
       "      <td>-0.138812</td>\n",
       "      <td>-0.138812</td>\n",
       "      <td>-0.138812</td>\n",
       "      <td>-0.138812</td>\n",
       "      <td>-0.138812</td>\n",
       "      <td>-0.138812</td>\n",
       "    </tr>\n",
       "    <tr>\n",
       "      <th>2393</th>\n",
       "      <td>0.384660</td>\n",
       "      <td>0.384660</td>\n",
       "      <td>-0.138812</td>\n",
       "      <td>-0.138812</td>\n",
       "      <td>-0.138812</td>\n",
       "      <td>-0.138812</td>\n",
       "      <td>-0.138812</td>\n",
       "      <td>-0.138812</td>\n",
       "      <td>-0.138812</td>\n",
       "      <td>-0.138812</td>\n",
       "      <td>...</td>\n",
       "      <td>-0.138812</td>\n",
       "      <td>-0.138812</td>\n",
       "      <td>-0.138812</td>\n",
       "      <td>-0.138812</td>\n",
       "      <td>-0.138812</td>\n",
       "      <td>-0.138812</td>\n",
       "      <td>-0.138812</td>\n",
       "      <td>-0.138812</td>\n",
       "      <td>-0.138812</td>\n",
       "      <td>-0.138812</td>\n",
       "    </tr>\n",
       "    <tr>\n",
       "      <th>2394</th>\n",
       "      <td>1.144475</td>\n",
       "      <td>1.144475</td>\n",
       "      <td>-0.138812</td>\n",
       "      <td>-0.138812</td>\n",
       "      <td>-0.138812</td>\n",
       "      <td>-0.138812</td>\n",
       "      <td>-0.138812</td>\n",
       "      <td>-0.138812</td>\n",
       "      <td>-0.138812</td>\n",
       "      <td>-0.138812</td>\n",
       "      <td>...</td>\n",
       "      <td>-0.138812</td>\n",
       "      <td>-0.138812</td>\n",
       "      <td>-0.138812</td>\n",
       "      <td>-0.138812</td>\n",
       "      <td>-0.138812</td>\n",
       "      <td>-0.138812</td>\n",
       "      <td>-0.138812</td>\n",
       "      <td>-0.138812</td>\n",
       "      <td>-0.138812</td>\n",
       "      <td>-0.138812</td>\n",
       "    </tr>\n",
       "    <tr>\n",
       "      <th>2395</th>\n",
       "      <td>0.009635</td>\n",
       "      <td>-0.138812</td>\n",
       "      <td>-0.138812</td>\n",
       "      <td>-0.138812</td>\n",
       "      <td>-0.138812</td>\n",
       "      <td>-0.138812</td>\n",
       "      <td>-0.138812</td>\n",
       "      <td>-0.138812</td>\n",
       "      <td>-0.138812</td>\n",
       "      <td>-0.138812</td>\n",
       "      <td>...</td>\n",
       "      <td>-0.138812</td>\n",
       "      <td>-0.138812</td>\n",
       "      <td>-0.138812</td>\n",
       "      <td>-0.138812</td>\n",
       "      <td>-0.138812</td>\n",
       "      <td>-0.138812</td>\n",
       "      <td>-0.138812</td>\n",
       "      <td>-0.138812</td>\n",
       "      <td>-0.138812</td>\n",
       "      <td>-0.138812</td>\n",
       "    </tr>\n",
       "    <tr>\n",
       "      <th>2396</th>\n",
       "      <td>1.072205</td>\n",
       "      <td>1.072205</td>\n",
       "      <td>-0.138812</td>\n",
       "      <td>-0.138812</td>\n",
       "      <td>-0.138812</td>\n",
       "      <td>-0.138812</td>\n",
       "      <td>-0.138812</td>\n",
       "      <td>-0.138812</td>\n",
       "      <td>-0.138812</td>\n",
       "      <td>-0.138812</td>\n",
       "      <td>...</td>\n",
       "      <td>-0.138812</td>\n",
       "      <td>-0.138812</td>\n",
       "      <td>-0.138812</td>\n",
       "      <td>-0.138812</td>\n",
       "      <td>-0.138812</td>\n",
       "      <td>-0.138812</td>\n",
       "      <td>-0.138812</td>\n",
       "      <td>-0.138812</td>\n",
       "      <td>-0.138812</td>\n",
       "      <td>-0.138812</td>\n",
       "    </tr>\n",
       "  </tbody>\n",
       "</table>\n",
       "<p>5 rows × 33 columns</p>\n",
       "</div>"
      ],
      "text/plain": [
       "            0         1         2         3         4         5         6   \\\n",
       "0    -0.138812  0.378800 -0.138812 -0.138812 -0.138812 -0.138812 -0.138812   \n",
       "2393  0.384660  0.384660 -0.138812 -0.138812 -0.138812 -0.138812 -0.138812   \n",
       "2394  1.144475  1.144475 -0.138812 -0.138812 -0.138812 -0.138812 -0.138812   \n",
       "2395  0.009635 -0.138812 -0.138812 -0.138812 -0.138812 -0.138812 -0.138812   \n",
       "2396  1.072205  1.072205 -0.138812 -0.138812 -0.138812 -0.138812 -0.138812   \n",
       "\n",
       "            7         8         9   ...        23        24        25  \\\n",
       "0    -0.138812 -0.138812 -0.138812  ... -0.138812 -0.138812 -0.138812   \n",
       "2393 -0.138812 -0.138812 -0.138812  ... -0.138812 -0.138812 -0.138812   \n",
       "2394 -0.138812 -0.138812 -0.138812  ... -0.138812 -0.138812 -0.138812   \n",
       "2395 -0.138812 -0.138812 -0.138812  ... -0.138812 -0.138812 -0.138812   \n",
       "2396 -0.138812 -0.138812 -0.138812  ... -0.138812 -0.138812 -0.138812   \n",
       "\n",
       "            26        27        28        29        30        31        32  \n",
       "0    -0.138812 -0.138812 -0.138812 -0.138812 -0.138812 -0.138812 -0.138812  \n",
       "2393 -0.138812 -0.138812 -0.138812 -0.138812 -0.138812 -0.138812 -0.138812  \n",
       "2394 -0.138812 -0.138812 -0.138812 -0.138812 -0.138812 -0.138812 -0.138812  \n",
       "2395 -0.138812 -0.138812 -0.138812 -0.138812 -0.138812 -0.138812 -0.138812  \n",
       "2396 -0.138812 -0.138812 -0.138812 -0.138812 -0.138812 -0.138812 -0.138812  \n",
       "\n",
       "[5 rows x 33 columns]"
      ]
     },
     "execution_count": 179,
     "metadata": {},
     "output_type": "execute_result"
    }
   ],
   "source": [
    "X_train_cnt_price.head()"
   ]
  },
  {
   "cell_type": "code",
   "execution_count": 180,
   "metadata": {},
   "outputs": [
    {
     "data": {
      "text/html": [
       "<div>\n",
       "<style scoped>\n",
       "    .dataframe tbody tr th:only-of-type {\n",
       "        vertical-align: middle;\n",
       "    }\n",
       "\n",
       "    .dataframe tbody tr th {\n",
       "        vertical-align: top;\n",
       "    }\n",
       "\n",
       "    .dataframe thead th {\n",
       "        text-align: right;\n",
       "    }\n",
       "</style>\n",
       "<table border=\"1\" class=\"dataframe\">\n",
       "  <thead>\n",
       "    <tr style=\"text-align: right;\">\n",
       "      <th></th>\n",
       "      <th>0</th>\n",
       "      <th>1</th>\n",
       "      <th>2</th>\n",
       "      <th>3</th>\n",
       "      <th>4</th>\n",
       "      <th>5</th>\n",
       "      <th>6</th>\n",
       "      <th>7</th>\n",
       "      <th>8</th>\n",
       "      <th>9</th>\n",
       "      <th>...</th>\n",
       "      <th>23</th>\n",
       "      <th>24</th>\n",
       "      <th>25</th>\n",
       "      <th>26</th>\n",
       "      <th>27</th>\n",
       "      <th>28</th>\n",
       "      <th>29</th>\n",
       "      <th>30</th>\n",
       "      <th>31</th>\n",
       "      <th>32</th>\n",
       "    </tr>\n",
       "  </thead>\n",
       "  <tbody>\n",
       "    <tr>\n",
       "      <th>0</th>\n",
       "      <td>0.374659</td>\n",
       "      <td>-0.13664</td>\n",
       "      <td>-0.13664</td>\n",
       "      <td>-0.13664</td>\n",
       "      <td>-0.13664</td>\n",
       "      <td>-0.13664</td>\n",
       "      <td>-0.13664</td>\n",
       "      <td>-0.13664</td>\n",
       "      <td>-0.13664</td>\n",
       "      <td>-0.13664</td>\n",
       "      <td>...</td>\n",
       "      <td>-0.13664</td>\n",
       "      <td>-0.13664</td>\n",
       "      <td>-0.13664</td>\n",
       "      <td>-0.13664</td>\n",
       "      <td>-0.13664</td>\n",
       "      <td>-0.13664</td>\n",
       "      <td>-0.13664</td>\n",
       "      <td>-0.13664</td>\n",
       "      <td>-0.13664</td>\n",
       "      <td>-0.13664</td>\n",
       "    </tr>\n",
       "    <tr>\n",
       "      <th>2393</th>\n",
       "      <td>0.380447</td>\n",
       "      <td>-0.13664</td>\n",
       "      <td>-0.13664</td>\n",
       "      <td>-0.13664</td>\n",
       "      <td>-0.13664</td>\n",
       "      <td>-0.13664</td>\n",
       "      <td>-0.13664</td>\n",
       "      <td>-0.13664</td>\n",
       "      <td>-0.13664</td>\n",
       "      <td>-0.13664</td>\n",
       "      <td>...</td>\n",
       "      <td>-0.13664</td>\n",
       "      <td>-0.13664</td>\n",
       "      <td>-0.13664</td>\n",
       "      <td>-0.13664</td>\n",
       "      <td>-0.13664</td>\n",
       "      <td>-0.13664</td>\n",
       "      <td>-0.13664</td>\n",
       "      <td>-0.13664</td>\n",
       "      <td>-0.13664</td>\n",
       "      <td>-0.13664</td>\n",
       "    </tr>\n",
       "    <tr>\n",
       "      <th>2394</th>\n",
       "      <td>1.130996</td>\n",
       "      <td>-0.13664</td>\n",
       "      <td>-0.13664</td>\n",
       "      <td>-0.13664</td>\n",
       "      <td>-0.13664</td>\n",
       "      <td>-0.13664</td>\n",
       "      <td>-0.13664</td>\n",
       "      <td>-0.13664</td>\n",
       "      <td>-0.13664</td>\n",
       "      <td>-0.13664</td>\n",
       "      <td>...</td>\n",
       "      <td>-0.13664</td>\n",
       "      <td>-0.13664</td>\n",
       "      <td>-0.13664</td>\n",
       "      <td>-0.13664</td>\n",
       "      <td>-0.13664</td>\n",
       "      <td>-0.13664</td>\n",
       "      <td>-0.13664</td>\n",
       "      <td>-0.13664</td>\n",
       "      <td>-0.13664</td>\n",
       "      <td>-0.13664</td>\n",
       "    </tr>\n",
       "    <tr>\n",
       "      <th>2395</th>\n",
       "      <td>-0.136640</td>\n",
       "      <td>-0.13664</td>\n",
       "      <td>-0.13664</td>\n",
       "      <td>-0.13664</td>\n",
       "      <td>-0.13664</td>\n",
       "      <td>-0.13664</td>\n",
       "      <td>-0.13664</td>\n",
       "      <td>-0.13664</td>\n",
       "      <td>-0.13664</td>\n",
       "      <td>-0.13664</td>\n",
       "      <td>...</td>\n",
       "      <td>-0.13664</td>\n",
       "      <td>-0.13664</td>\n",
       "      <td>-0.13664</td>\n",
       "      <td>-0.13664</td>\n",
       "      <td>-0.13664</td>\n",
       "      <td>-0.13664</td>\n",
       "      <td>-0.13664</td>\n",
       "      <td>-0.13664</td>\n",
       "      <td>-0.13664</td>\n",
       "      <td>-0.13664</td>\n",
       "    </tr>\n",
       "    <tr>\n",
       "      <th>2396</th>\n",
       "      <td>1.059607</td>\n",
       "      <td>-0.13664</td>\n",
       "      <td>-0.13664</td>\n",
       "      <td>-0.13664</td>\n",
       "      <td>-0.13664</td>\n",
       "      <td>-0.13664</td>\n",
       "      <td>-0.13664</td>\n",
       "      <td>-0.13664</td>\n",
       "      <td>-0.13664</td>\n",
       "      <td>-0.13664</td>\n",
       "      <td>...</td>\n",
       "      <td>-0.13664</td>\n",
       "      <td>-0.13664</td>\n",
       "      <td>-0.13664</td>\n",
       "      <td>-0.13664</td>\n",
       "      <td>-0.13664</td>\n",
       "      <td>-0.13664</td>\n",
       "      <td>-0.13664</td>\n",
       "      <td>-0.13664</td>\n",
       "      <td>-0.13664</td>\n",
       "      <td>-0.13664</td>\n",
       "    </tr>\n",
       "  </tbody>\n",
       "</table>\n",
       "<p>5 rows × 33 columns</p>\n",
       "</div>"
      ],
      "text/plain": [
       "            0        1        2        3        4        5        6        7   \\\n",
       "0     0.374659 -0.13664 -0.13664 -0.13664 -0.13664 -0.13664 -0.13664 -0.13664   \n",
       "2393  0.380447 -0.13664 -0.13664 -0.13664 -0.13664 -0.13664 -0.13664 -0.13664   \n",
       "2394  1.130996 -0.13664 -0.13664 -0.13664 -0.13664 -0.13664 -0.13664 -0.13664   \n",
       "2395 -0.136640 -0.13664 -0.13664 -0.13664 -0.13664 -0.13664 -0.13664 -0.13664   \n",
       "2396  1.059607 -0.13664 -0.13664 -0.13664 -0.13664 -0.13664 -0.13664 -0.13664   \n",
       "\n",
       "           8        9   ...       23       24       25       26       27  \\\n",
       "0    -0.13664 -0.13664  ... -0.13664 -0.13664 -0.13664 -0.13664 -0.13664   \n",
       "2393 -0.13664 -0.13664  ... -0.13664 -0.13664 -0.13664 -0.13664 -0.13664   \n",
       "2394 -0.13664 -0.13664  ... -0.13664 -0.13664 -0.13664 -0.13664 -0.13664   \n",
       "2395 -0.13664 -0.13664  ... -0.13664 -0.13664 -0.13664 -0.13664 -0.13664   \n",
       "2396 -0.13664 -0.13664  ... -0.13664 -0.13664 -0.13664 -0.13664 -0.13664   \n",
       "\n",
       "           28       29       30       31       32  \n",
       "0    -0.13664 -0.13664 -0.13664 -0.13664 -0.13664  \n",
       "2393 -0.13664 -0.13664 -0.13664 -0.13664 -0.13664  \n",
       "2394 -0.13664 -0.13664 -0.13664 -0.13664 -0.13664  \n",
       "2395 -0.13664 -0.13664 -0.13664 -0.13664 -0.13664  \n",
       "2396 -0.13664 -0.13664 -0.13664 -0.13664 -0.13664  \n",
       "\n",
       "[5 rows x 33 columns]"
      ]
     },
     "execution_count": 180,
     "metadata": {},
     "output_type": "execute_result"
    }
   ],
   "source": [
    "X_val_cnt_price.head()"
   ]
  },
  {
   "cell_type": "code",
   "execution_count": 181,
   "metadata": {
    "collapsed": true
   },
   "outputs": [],
   "source": [
    "X_train_cnt_shop = X_train_cnt[cols_select_shop]\n",
    "X_val_cnt_shop = X_val_cnt[cols_select_shop]\n",
    "X_test_cnt_shop = X_test_cnt[cols_select_shop]\n",
    "\n",
    "X_train_cnt_item = X_train_cnt[cols_select_item]\n",
    "X_val_cnt_item = X_val_cnt[cols_select_item]\n",
    "X_test_cnt_item = X_test_cnt[cols_select_item]\n"
   ]
  },
  {
   "cell_type": "markdown",
   "metadata": {},
   "source": [
    "##### Create Dummy Variables for static values such as shop id and item id for each time sequence"
   ]
  },
  {
   "cell_type": "code",
   "execution_count": 182,
   "metadata": {},
   "outputs": [],
   "source": [
    "X_train_cnt_shop_df = pd.DataFrame(X_train_cnt_shop.copy())\n",
    "for c in cols_dummy:\n",
    "    X_train_cnt_shop_df[c] =  X_train_cnt_shop\n",
    "X_train_cnt_shop_df= X_train_cnt_shop_df.drop(columns = [\"shop_id\"]) "
   ]
  },
  {
   "cell_type": "code",
   "execution_count": 183,
   "metadata": {},
   "outputs": [],
   "source": [
    "X_val_cnt_shop_df = pd.DataFrame(X_val_cnt_shop.copy())\n",
    "for c in cols_dummy:\n",
    "    X_val_cnt_shop_df[c] =  X_val_cnt_shop\n",
    "X_val_cnt_shop_df= X_val_cnt_shop_df.drop(columns = [\"shop_id\"]) "
   ]
  },
  {
   "cell_type": "code",
   "execution_count": 184,
   "metadata": {
    "collapsed": true
   },
   "outputs": [],
   "source": [
    "X_test_cnt_shop_df = pd.DataFrame(X_test_cnt_shop.copy())\n",
    "for c in cols_test_dummy:\n",
    "    X_test_cnt_shop_df[c] =  X_test_cnt_shop\n",
    "X_test_cnt_shop_df= X_test_cnt_shop_df.drop(columns = [\"shop_id\"]) "
   ]
  },
  {
   "cell_type": "code",
   "execution_count": 185,
   "metadata": {
    "collapsed": true
   },
   "outputs": [],
   "source": [
    "X_train_cnt_item_df = pd.DataFrame(X_train_cnt_item.copy())\n",
    "for c in cols_dummy:\n",
    "    X_train_cnt_item_df[c] =  X_train_cnt_item\n",
    "X_train_cnt_item_df= X_train_cnt_item_df.drop(columns = [\"item_id\"]) "
   ]
  },
  {
   "cell_type": "code",
   "execution_count": 186,
   "metadata": {
    "collapsed": true
   },
   "outputs": [],
   "source": [
    "X_val_cnt_item_df = pd.DataFrame(X_val_cnt_item.copy())\n",
    "for c in cols_dummy:\n",
    "    X_val_cnt_item_df[c] =  X_val_cnt_item\n",
    "X_val_cnt_item_df= X_val_cnt_item_df.drop(columns = [\"item_id\"]) "
   ]
  },
  {
   "cell_type": "code",
   "execution_count": 187,
   "metadata": {
    "collapsed": true
   },
   "outputs": [],
   "source": [
    "X_test_cnt_item_df = pd.DataFrame(X_test_cnt_item.copy())\n",
    "for c in cols_test_dummy:\n",
    "    X_test_cnt_item_df[c] =  X_test_cnt_item\n",
    "X_test_cnt_item_df= X_test_cnt_item_df.drop(columns = [\"item_id\"]) "
   ]
  },
  {
   "cell_type": "markdown",
   "metadata": {},
   "source": [
    "##### creating summy variables for the 2 category labels"
   ]
  },
  {
   "cell_type": "code",
   "execution_count": 188,
   "metadata": {
    "collapsed": true
   },
   "outputs": [],
   "source": [
    "X_train_cnt_cat1 = X_train_cnt[cols_select_cat1]\n",
    "X_val_cnt_cat1 = X_val_cnt[cols_select_cat1]\n",
    "X_test_cnt_cat1 = X_test_cnt[cols_select_cat1]\n",
    "\n",
    "X_train_cnt_cat2 = X_train_cnt[cols_select_cat2]\n",
    "X_val_cnt_cat2 = X_val_cnt[cols_select_cat2]\n",
    "X_test_cnt_cat2 = X_test_cnt[cols_select_cat2]\n"
   ]
  },
  {
   "cell_type": "code",
   "execution_count": 189,
   "metadata": {
    "collapsed": true
   },
   "outputs": [],
   "source": [
    "X_train_cnt_category0 = pd.DataFrame(X_train_cnt_cat1.copy())\n",
    "for c in cols_dummy:\n",
    "    X_train_cnt_category0[c] =  X_train_cnt_cat1\n",
    "X_train_cnt_category0 = X_train_cnt_category0.drop(columns = [\"item_category_id\"])   "
   ]
  },
  {
   "cell_type": "code",
   "execution_count": 190,
   "metadata": {},
   "outputs": [
    {
     "data": {
      "text/html": [
       "<div>\n",
       "<style scoped>\n",
       "    .dataframe tbody tr th:only-of-type {\n",
       "        vertical-align: middle;\n",
       "    }\n",
       "\n",
       "    .dataframe tbody tr th {\n",
       "        vertical-align: top;\n",
       "    }\n",
       "\n",
       "    .dataframe thead th {\n",
       "        text-align: right;\n",
       "    }\n",
       "</style>\n",
       "<table border=\"1\" class=\"dataframe\">\n",
       "  <thead>\n",
       "    <tr style=\"text-align: right;\">\n",
       "      <th></th>\n",
       "      <th>0</th>\n",
       "      <th>1</th>\n",
       "      <th>2</th>\n",
       "      <th>3</th>\n",
       "      <th>4</th>\n",
       "      <th>5</th>\n",
       "      <th>6</th>\n",
       "      <th>7</th>\n",
       "      <th>8</th>\n",
       "      <th>9</th>\n",
       "      <th>...</th>\n",
       "      <th>23</th>\n",
       "      <th>24</th>\n",
       "      <th>25</th>\n",
       "      <th>26</th>\n",
       "      <th>27</th>\n",
       "      <th>28</th>\n",
       "      <th>29</th>\n",
       "      <th>30</th>\n",
       "      <th>31</th>\n",
       "      <th>32</th>\n",
       "    </tr>\n",
       "  </thead>\n",
       "  <tbody>\n",
       "    <tr>\n",
       "      <th>0</th>\n",
       "      <td>40.0</td>\n",
       "      <td>40.0</td>\n",
       "      <td>40.0</td>\n",
       "      <td>40.0</td>\n",
       "      <td>40.0</td>\n",
       "      <td>40.0</td>\n",
       "      <td>40.0</td>\n",
       "      <td>40.0</td>\n",
       "      <td>40.0</td>\n",
       "      <td>40.0</td>\n",
       "      <td>...</td>\n",
       "      <td>40.0</td>\n",
       "      <td>40.0</td>\n",
       "      <td>40.0</td>\n",
       "      <td>40.0</td>\n",
       "      <td>40.0</td>\n",
       "      <td>40.0</td>\n",
       "      <td>40.0</td>\n",
       "      <td>40.0</td>\n",
       "      <td>40.0</td>\n",
       "      <td>40.0</td>\n",
       "    </tr>\n",
       "    <tr>\n",
       "      <th>2393</th>\n",
       "      <td>40.0</td>\n",
       "      <td>40.0</td>\n",
       "      <td>40.0</td>\n",
       "      <td>40.0</td>\n",
       "      <td>40.0</td>\n",
       "      <td>40.0</td>\n",
       "      <td>40.0</td>\n",
       "      <td>40.0</td>\n",
       "      <td>40.0</td>\n",
       "      <td>40.0</td>\n",
       "      <td>...</td>\n",
       "      <td>40.0</td>\n",
       "      <td>40.0</td>\n",
       "      <td>40.0</td>\n",
       "      <td>40.0</td>\n",
       "      <td>40.0</td>\n",
       "      <td>40.0</td>\n",
       "      <td>40.0</td>\n",
       "      <td>40.0</td>\n",
       "      <td>40.0</td>\n",
       "      <td>40.0</td>\n",
       "    </tr>\n",
       "    <tr>\n",
       "      <th>2394</th>\n",
       "      <td>37.0</td>\n",
       "      <td>37.0</td>\n",
       "      <td>37.0</td>\n",
       "      <td>37.0</td>\n",
       "      <td>37.0</td>\n",
       "      <td>37.0</td>\n",
       "      <td>37.0</td>\n",
       "      <td>37.0</td>\n",
       "      <td>37.0</td>\n",
       "      <td>37.0</td>\n",
       "      <td>...</td>\n",
       "      <td>37.0</td>\n",
       "      <td>37.0</td>\n",
       "      <td>37.0</td>\n",
       "      <td>37.0</td>\n",
       "      <td>37.0</td>\n",
       "      <td>37.0</td>\n",
       "      <td>37.0</td>\n",
       "      <td>37.0</td>\n",
       "      <td>37.0</td>\n",
       "      <td>37.0</td>\n",
       "    </tr>\n",
       "    <tr>\n",
       "      <th>2395</th>\n",
       "      <td>40.0</td>\n",
       "      <td>40.0</td>\n",
       "      <td>40.0</td>\n",
       "      <td>40.0</td>\n",
       "      <td>40.0</td>\n",
       "      <td>40.0</td>\n",
       "      <td>40.0</td>\n",
       "      <td>40.0</td>\n",
       "      <td>40.0</td>\n",
       "      <td>40.0</td>\n",
       "      <td>...</td>\n",
       "      <td>40.0</td>\n",
       "      <td>40.0</td>\n",
       "      <td>40.0</td>\n",
       "      <td>40.0</td>\n",
       "      <td>40.0</td>\n",
       "      <td>40.0</td>\n",
       "      <td>40.0</td>\n",
       "      <td>40.0</td>\n",
       "      <td>40.0</td>\n",
       "      <td>40.0</td>\n",
       "    </tr>\n",
       "    <tr>\n",
       "      <th>2396</th>\n",
       "      <td>37.0</td>\n",
       "      <td>37.0</td>\n",
       "      <td>37.0</td>\n",
       "      <td>37.0</td>\n",
       "      <td>37.0</td>\n",
       "      <td>37.0</td>\n",
       "      <td>37.0</td>\n",
       "      <td>37.0</td>\n",
       "      <td>37.0</td>\n",
       "      <td>37.0</td>\n",
       "      <td>...</td>\n",
       "      <td>37.0</td>\n",
       "      <td>37.0</td>\n",
       "      <td>37.0</td>\n",
       "      <td>37.0</td>\n",
       "      <td>37.0</td>\n",
       "      <td>37.0</td>\n",
       "      <td>37.0</td>\n",
       "      <td>37.0</td>\n",
       "      <td>37.0</td>\n",
       "      <td>37.0</td>\n",
       "    </tr>\n",
       "  </tbody>\n",
       "</table>\n",
       "<p>5 rows × 33 columns</p>\n",
       "</div>"
      ],
      "text/plain": [
       "        0     1     2     3     4     5     6     7     8     9   ...    23  \\\n",
       "0     40.0  40.0  40.0  40.0  40.0  40.0  40.0  40.0  40.0  40.0  ...  40.0   \n",
       "2393  40.0  40.0  40.0  40.0  40.0  40.0  40.0  40.0  40.0  40.0  ...  40.0   \n",
       "2394  37.0  37.0  37.0  37.0  37.0  37.0  37.0  37.0  37.0  37.0  ...  37.0   \n",
       "2395  40.0  40.0  40.0  40.0  40.0  40.0  40.0  40.0  40.0  40.0  ...  40.0   \n",
       "2396  37.0  37.0  37.0  37.0  37.0  37.0  37.0  37.0  37.0  37.0  ...  37.0   \n",
       "\n",
       "        24    25    26    27    28    29    30    31    32  \n",
       "0     40.0  40.0  40.0  40.0  40.0  40.0  40.0  40.0  40.0  \n",
       "2393  40.0  40.0  40.0  40.0  40.0  40.0  40.0  40.0  40.0  \n",
       "2394  37.0  37.0  37.0  37.0  37.0  37.0  37.0  37.0  37.0  \n",
       "2395  40.0  40.0  40.0  40.0  40.0  40.0  40.0  40.0  40.0  \n",
       "2396  37.0  37.0  37.0  37.0  37.0  37.0  37.0  37.0  37.0  \n",
       "\n",
       "[5 rows x 33 columns]"
      ]
     },
     "execution_count": 190,
     "metadata": {},
     "output_type": "execute_result"
    }
   ],
   "source": [
    "X_train_cnt_category0.head()"
   ]
  },
  {
   "cell_type": "code",
   "execution_count": 191,
   "metadata": {
    "collapsed": true
   },
   "outputs": [],
   "source": [
    "X_val_cnt_category0 = pd.DataFrame(X_val_cnt_cat1.copy())\n",
    "for c in cols_dummy:\n",
    "    X_val_cnt_category0[c] =  X_val_cnt_cat1\n",
    "X_val_cnt_category0 = X_val_cnt_category0.drop(columns = [\"item_category_id\"]) "
   ]
  },
  {
   "cell_type": "code",
   "execution_count": 192,
   "metadata": {},
   "outputs": [
    {
     "data": {
      "text/html": [
       "<div>\n",
       "<style scoped>\n",
       "    .dataframe tbody tr th:only-of-type {\n",
       "        vertical-align: middle;\n",
       "    }\n",
       "\n",
       "    .dataframe tbody tr th {\n",
       "        vertical-align: top;\n",
       "    }\n",
       "\n",
       "    .dataframe thead th {\n",
       "        text-align: right;\n",
       "    }\n",
       "</style>\n",
       "<table border=\"1\" class=\"dataframe\">\n",
       "  <thead>\n",
       "    <tr style=\"text-align: right;\">\n",
       "      <th></th>\n",
       "      <th>0</th>\n",
       "      <th>1</th>\n",
       "      <th>2</th>\n",
       "      <th>3</th>\n",
       "      <th>4</th>\n",
       "      <th>5</th>\n",
       "      <th>6</th>\n",
       "      <th>7</th>\n",
       "      <th>8</th>\n",
       "      <th>9</th>\n",
       "      <th>...</th>\n",
       "      <th>23</th>\n",
       "      <th>24</th>\n",
       "      <th>25</th>\n",
       "      <th>26</th>\n",
       "      <th>27</th>\n",
       "      <th>28</th>\n",
       "      <th>29</th>\n",
       "      <th>30</th>\n",
       "      <th>31</th>\n",
       "      <th>32</th>\n",
       "    </tr>\n",
       "  </thead>\n",
       "  <tbody>\n",
       "    <tr>\n",
       "      <th>0</th>\n",
       "      <td>40.0</td>\n",
       "      <td>40.0</td>\n",
       "      <td>40.0</td>\n",
       "      <td>40.0</td>\n",
       "      <td>40.0</td>\n",
       "      <td>40.0</td>\n",
       "      <td>40.0</td>\n",
       "      <td>40.0</td>\n",
       "      <td>40.0</td>\n",
       "      <td>40.0</td>\n",
       "      <td>...</td>\n",
       "      <td>40.0</td>\n",
       "      <td>40.0</td>\n",
       "      <td>40.0</td>\n",
       "      <td>40.0</td>\n",
       "      <td>40.0</td>\n",
       "      <td>40.0</td>\n",
       "      <td>40.0</td>\n",
       "      <td>40.0</td>\n",
       "      <td>40.0</td>\n",
       "      <td>40.0</td>\n",
       "    </tr>\n",
       "    <tr>\n",
       "      <th>2393</th>\n",
       "      <td>40.0</td>\n",
       "      <td>40.0</td>\n",
       "      <td>40.0</td>\n",
       "      <td>40.0</td>\n",
       "      <td>40.0</td>\n",
       "      <td>40.0</td>\n",
       "      <td>40.0</td>\n",
       "      <td>40.0</td>\n",
       "      <td>40.0</td>\n",
       "      <td>40.0</td>\n",
       "      <td>...</td>\n",
       "      <td>40.0</td>\n",
       "      <td>40.0</td>\n",
       "      <td>40.0</td>\n",
       "      <td>40.0</td>\n",
       "      <td>40.0</td>\n",
       "      <td>40.0</td>\n",
       "      <td>40.0</td>\n",
       "      <td>40.0</td>\n",
       "      <td>40.0</td>\n",
       "      <td>40.0</td>\n",
       "    </tr>\n",
       "    <tr>\n",
       "      <th>2394</th>\n",
       "      <td>37.0</td>\n",
       "      <td>37.0</td>\n",
       "      <td>37.0</td>\n",
       "      <td>37.0</td>\n",
       "      <td>37.0</td>\n",
       "      <td>37.0</td>\n",
       "      <td>37.0</td>\n",
       "      <td>37.0</td>\n",
       "      <td>37.0</td>\n",
       "      <td>37.0</td>\n",
       "      <td>...</td>\n",
       "      <td>37.0</td>\n",
       "      <td>37.0</td>\n",
       "      <td>37.0</td>\n",
       "      <td>37.0</td>\n",
       "      <td>37.0</td>\n",
       "      <td>37.0</td>\n",
       "      <td>37.0</td>\n",
       "      <td>37.0</td>\n",
       "      <td>37.0</td>\n",
       "      <td>37.0</td>\n",
       "    </tr>\n",
       "    <tr>\n",
       "      <th>2395</th>\n",
       "      <td>40.0</td>\n",
       "      <td>40.0</td>\n",
       "      <td>40.0</td>\n",
       "      <td>40.0</td>\n",
       "      <td>40.0</td>\n",
       "      <td>40.0</td>\n",
       "      <td>40.0</td>\n",
       "      <td>40.0</td>\n",
       "      <td>40.0</td>\n",
       "      <td>40.0</td>\n",
       "      <td>...</td>\n",
       "      <td>40.0</td>\n",
       "      <td>40.0</td>\n",
       "      <td>40.0</td>\n",
       "      <td>40.0</td>\n",
       "      <td>40.0</td>\n",
       "      <td>40.0</td>\n",
       "      <td>40.0</td>\n",
       "      <td>40.0</td>\n",
       "      <td>40.0</td>\n",
       "      <td>40.0</td>\n",
       "    </tr>\n",
       "    <tr>\n",
       "      <th>2396</th>\n",
       "      <td>37.0</td>\n",
       "      <td>37.0</td>\n",
       "      <td>37.0</td>\n",
       "      <td>37.0</td>\n",
       "      <td>37.0</td>\n",
       "      <td>37.0</td>\n",
       "      <td>37.0</td>\n",
       "      <td>37.0</td>\n",
       "      <td>37.0</td>\n",
       "      <td>37.0</td>\n",
       "      <td>...</td>\n",
       "      <td>37.0</td>\n",
       "      <td>37.0</td>\n",
       "      <td>37.0</td>\n",
       "      <td>37.0</td>\n",
       "      <td>37.0</td>\n",
       "      <td>37.0</td>\n",
       "      <td>37.0</td>\n",
       "      <td>37.0</td>\n",
       "      <td>37.0</td>\n",
       "      <td>37.0</td>\n",
       "    </tr>\n",
       "  </tbody>\n",
       "</table>\n",
       "<p>5 rows × 33 columns</p>\n",
       "</div>"
      ],
      "text/plain": [
       "        0     1     2     3     4     5     6     7     8     9   ...    23  \\\n",
       "0     40.0  40.0  40.0  40.0  40.0  40.0  40.0  40.0  40.0  40.0  ...  40.0   \n",
       "2393  40.0  40.0  40.0  40.0  40.0  40.0  40.0  40.0  40.0  40.0  ...  40.0   \n",
       "2394  37.0  37.0  37.0  37.0  37.0  37.0  37.0  37.0  37.0  37.0  ...  37.0   \n",
       "2395  40.0  40.0  40.0  40.0  40.0  40.0  40.0  40.0  40.0  40.0  ...  40.0   \n",
       "2396  37.0  37.0  37.0  37.0  37.0  37.0  37.0  37.0  37.0  37.0  ...  37.0   \n",
       "\n",
       "        24    25    26    27    28    29    30    31    32  \n",
       "0     40.0  40.0  40.0  40.0  40.0  40.0  40.0  40.0  40.0  \n",
       "2393  40.0  40.0  40.0  40.0  40.0  40.0  40.0  40.0  40.0  \n",
       "2394  37.0  37.0  37.0  37.0  37.0  37.0  37.0  37.0  37.0  \n",
       "2395  40.0  40.0  40.0  40.0  40.0  40.0  40.0  40.0  40.0  \n",
       "2396  37.0  37.0  37.0  37.0  37.0  37.0  37.0  37.0  37.0  \n",
       "\n",
       "[5 rows x 33 columns]"
      ]
     },
     "execution_count": 192,
     "metadata": {},
     "output_type": "execute_result"
    }
   ],
   "source": [
    "X_val_cnt_category0.head()"
   ]
  },
  {
   "cell_type": "code",
   "execution_count": 193,
   "metadata": {
    "collapsed": true
   },
   "outputs": [],
   "source": [
    "X_test_cnt_category0 = pd.DataFrame(X_test_cnt_cat1.copy())\n",
    "for c in cols_test_dummy:\n",
    "    X_test_cnt_category0[c] =  X_test_cnt_cat1\n",
    "X_test_cnt_category0 = X_test_cnt_category0.drop(columns = [\"item_category_id\"]) "
   ]
  },
  {
   "cell_type": "code",
   "execution_count": 194,
   "metadata": {
    "collapsed": true
   },
   "outputs": [],
   "source": [
    "X_train_cnt_category1 = pd.DataFrame(X_train_cnt_cat2.copy())\n",
    "for c in cols_dummy:\n",
    "    X_train_cnt_category1[c] =  X_train_cnt_cat2\n",
    "X_train_cnt_category1 = X_train_cnt_category1.drop(columns = [\"top_categories_id\"])   \n",
    "\n",
    "X_val_cnt_category1 = pd.DataFrame(X_val_cnt_cat2.copy())\n",
    "for c in cols_dummy:\n",
    "    X_val_cnt_category1[c] =  X_val_cnt_cat2\n",
    "X_val_cnt_category1 = X_val_cnt_category1.drop(columns = [\"top_categories_id\"])   "
   ]
  },
  {
   "cell_type": "code",
   "execution_count": 195,
   "metadata": {
    "collapsed": true
   },
   "outputs": [],
   "source": [
    "X_test_cnt_category1 = pd.DataFrame(X_test_cnt_cat2.copy())\n",
    "for c in cols_test_dummy:\n",
    "    X_test_cnt_category1[c] =  X_test_cnt_cat2\n",
    "X_test_cnt_category1 = X_test_cnt_category1.drop(columns = [\"top_categories_id\"])   "
   ]
  },
  {
   "cell_type": "code",
   "execution_count": 196,
   "metadata": {
    "collapsed": true
   },
   "outputs": [],
   "source": [
    "import itertools"
   ]
  },
  {
   "cell_type": "code",
   "execution_count": 197,
   "metadata": {
    "collapsed": true
   },
   "outputs": [],
   "source": [
    "#create the month feature for train data\n",
    "def create_seasonal_feature(total_month_num, start_month):\n",
    "    month_feature = []\n",
    "    n_year = int(total_month_num//12)\n",
    "    m_residual = int(total_month_num % 12)\n",
    "    if n_year > 0:\n",
    "        for i in range(n_year):\n",
    "            month_feature.append(list(range(start_month,start_month+12)))\n",
    "        if m_residual > 0:\n",
    "            month_feature.append(list(range(start_month,m_residual+start_month)))\n",
    "    else:\n",
    "        #assume in this case there's at least one month of data\n",
    "        month_feature.append(list(range(start_month,m_residual+start_month))) \n",
    "        \n",
    "    month_feature_final = list(itertools.chain(*month_feature))\n",
    "    \n",
    "    return month_feature_final"
   ]
  },
  {
   "cell_type": "code",
   "execution_count": 198,
   "metadata": {
    "collapsed": true
   },
   "outputs": [],
   "source": [
    "X_train_cnt_partial = pd.concat([X_train_cnt_partial,X_train_cnt_price])"
   ]
  },
  {
   "cell_type": "code",
   "execution_count": 199,
   "metadata": {
    "collapsed": true
   },
   "outputs": [],
   "source": [
    "X_train_cnt_partial = pd.concat([X_train_cnt_partial,X_train_cnt_shop_df])\n",
    "#X_train_cnt_partial = pd.concat([X_train_cnt_partial,X_train_cnt_item_df])\n",
    "#X_train_cnt_partial = pd.concat([X_train_cnt_partial,X_train_cnt_category0])\n",
    "X_train_cnt_partial = pd.concat([X_train_cnt_partial,X_train_cnt_category1])"
   ]
  },
  {
   "cell_type": "code",
   "execution_count": 200,
   "metadata": {},
   "outputs": [],
   "source": [
    "#create the list for data\n",
    "all_months = create_seasonal_feature(len(cols_dummy)+2, 1)\n",
    "#train_months_df = pd.DataFrame(train_months.T,columns=cols_dummy)"
   ]
  },
  {
   "cell_type": "code",
   "execution_count": 201,
   "metadata": {},
   "outputs": [],
   "source": [
    "train_months = all_months[:len(cols_dummy)]"
   ]
  },
  {
   "cell_type": "code",
   "execution_count": 202,
   "metadata": {},
   "outputs": [],
   "source": [
    "#add month to the last row\n",
    "X_train_cnt_partial.iloc[-1] = train_months"
   ]
  },
  {
   "cell_type": "code",
   "execution_count": 203,
   "metadata": {
    "collapsed": true
   },
   "outputs": [],
   "source": [
    "X_val_cnt_partial = pd.concat([X_val_cnt_partial,X_val_cnt_price])"
   ]
  },
  {
   "cell_type": "code",
   "execution_count": 204,
   "metadata": {
    "collapsed": true
   },
   "outputs": [],
   "source": [
    "X_val_cnt_partial = pd.concat([X_val_cnt_partial,X_val_cnt_shop_df])\n",
    "#X_val_cnt_partial  = pd.concat([X_val_cnt_partial,X_val_cnt_item_df])\n",
    "#X_val_cnt_partial  = pd.concat([X_val_cnt_partial,X_val_cnt_category0])\n",
    "X_val_cnt_partial  = pd.concat([X_val_cnt_partial,X_val_cnt_category1])"
   ]
  },
  {
   "cell_type": "code",
   "execution_count": 205,
   "metadata": {},
   "outputs": [],
   "source": [
    "#create the list for data\n",
    "val_months = all_months[1:len(cols_dummy)+1]\n",
    "X_val_cnt_partial.iloc[-1] = val_months"
   ]
  },
  {
   "cell_type": "code",
   "execution_count": 52,
   "metadata": {
    "collapsed": true
   },
   "outputs": [],
   "source": [
    "#X_test has no target value, it's only for prediction"
   ]
  },
  {
   "cell_type": "code",
   "execution_count": 206,
   "metadata": {
    "collapsed": true
   },
   "outputs": [],
   "source": [
    "X_test_cnt_partial = pd.concat([X_test_cnt_partial,X_test_cnt_price])"
   ]
  },
  {
   "cell_type": "code",
   "execution_count": 207,
   "metadata": {
    "collapsed": true
   },
   "outputs": [],
   "source": [
    "X_test_cnt_partial  = pd.concat([X_test_cnt_partial,X_test_cnt_shop_df])\n",
    "#X_test_cnt_partial  = pd.concat([X_test_cnt_partial,X_test_cnt_item_df])\n",
    "#X_test_cnt_partial  = pd.concat([X_test_cnt_partial,X_test_cnt_category0])\n",
    "X_test_cnt_partial  = pd.concat([X_test_cnt_partial,X_test_cnt_category1])"
   ]
  },
  {
   "cell_type": "code",
   "execution_count": 208,
   "metadata": {},
   "outputs": [],
   "source": [
    "#create the list for test data\n",
    "test_months = all_months[2:-1]\n",
    "X_test_cnt_partial.iloc[-1] = test_months"
   ]
  },
  {
   "cell_type": "code",
   "execution_count": 209,
   "metadata": {
    "collapsed": true
   },
   "outputs": [],
   "source": [
    "X_train = X_train_cnt_partial.iloc[:,:-1]\n",
    "y_train = X_train_cnt_partial.iloc[:,-1]"
   ]
  },
  {
   "cell_type": "code",
   "execution_count": 210,
   "metadata": {},
   "outputs": [
    {
     "data": {
      "text/html": [
       "<div>\n",
       "<style scoped>\n",
       "    .dataframe tbody tr th:only-of-type {\n",
       "        vertical-align: middle;\n",
       "    }\n",
       "\n",
       "    .dataframe tbody tr th {\n",
       "        vertical-align: top;\n",
       "    }\n",
       "\n",
       "    .dataframe thead th {\n",
       "        text-align: right;\n",
       "    }\n",
       "</style>\n",
       "<table border=\"1\" class=\"dataframe\">\n",
       "  <thead>\n",
       "    <tr style=\"text-align: right;\">\n",
       "      <th></th>\n",
       "      <th>0</th>\n",
       "      <th>1</th>\n",
       "      <th>2</th>\n",
       "      <th>3</th>\n",
       "      <th>4</th>\n",
       "      <th>5</th>\n",
       "      <th>6</th>\n",
       "      <th>7</th>\n",
       "      <th>8</th>\n",
       "      <th>9</th>\n",
       "      <th>...</th>\n",
       "      <th>22</th>\n",
       "      <th>23</th>\n",
       "      <th>24</th>\n",
       "      <th>25</th>\n",
       "      <th>26</th>\n",
       "      <th>27</th>\n",
       "      <th>28</th>\n",
       "      <th>29</th>\n",
       "      <th>30</th>\n",
       "      <th>31</th>\n",
       "    </tr>\n",
       "  </thead>\n",
       "  <tbody>\n",
       "    <tr>\n",
       "      <th>0</th>\n",
       "      <td>0.0</td>\n",
       "      <td>31.0</td>\n",
       "      <td>0.0</td>\n",
       "      <td>0.0</td>\n",
       "      <td>0.0</td>\n",
       "      <td>0.0</td>\n",
       "      <td>0.0</td>\n",
       "      <td>0.0</td>\n",
       "      <td>0.0</td>\n",
       "      <td>0.0</td>\n",
       "      <td>...</td>\n",
       "      <td>0.0</td>\n",
       "      <td>0.0</td>\n",
       "      <td>0.0</td>\n",
       "      <td>0.0</td>\n",
       "      <td>0.0</td>\n",
       "      <td>0.0</td>\n",
       "      <td>0.0</td>\n",
       "      <td>0.0</td>\n",
       "      <td>0.0</td>\n",
       "      <td>0.0</td>\n",
       "    </tr>\n",
       "    <tr>\n",
       "      <th>2393</th>\n",
       "      <td>10.0</td>\n",
       "      <td>1.0</td>\n",
       "      <td>0.0</td>\n",
       "      <td>0.0</td>\n",
       "      <td>0.0</td>\n",
       "      <td>0.0</td>\n",
       "      <td>0.0</td>\n",
       "      <td>0.0</td>\n",
       "      <td>0.0</td>\n",
       "      <td>0.0</td>\n",
       "      <td>...</td>\n",
       "      <td>0.0</td>\n",
       "      <td>0.0</td>\n",
       "      <td>0.0</td>\n",
       "      <td>0.0</td>\n",
       "      <td>0.0</td>\n",
       "      <td>0.0</td>\n",
       "      <td>0.0</td>\n",
       "      <td>0.0</td>\n",
       "      <td>0.0</td>\n",
       "      <td>0.0</td>\n",
       "    </tr>\n",
       "    <tr>\n",
       "      <th>2394</th>\n",
       "      <td>2.0</td>\n",
       "      <td>2.0</td>\n",
       "      <td>0.0</td>\n",
       "      <td>0.0</td>\n",
       "      <td>0.0</td>\n",
       "      <td>0.0</td>\n",
       "      <td>0.0</td>\n",
       "      <td>0.0</td>\n",
       "      <td>0.0</td>\n",
       "      <td>0.0</td>\n",
       "      <td>...</td>\n",
       "      <td>0.0</td>\n",
       "      <td>0.0</td>\n",
       "      <td>0.0</td>\n",
       "      <td>0.0</td>\n",
       "      <td>0.0</td>\n",
       "      <td>0.0</td>\n",
       "      <td>0.0</td>\n",
       "      <td>0.0</td>\n",
       "      <td>0.0</td>\n",
       "      <td>0.0</td>\n",
       "    </tr>\n",
       "    <tr>\n",
       "      <th>2395</th>\n",
       "      <td>2.0</td>\n",
       "      <td>0.0</td>\n",
       "      <td>0.0</td>\n",
       "      <td>0.0</td>\n",
       "      <td>0.0</td>\n",
       "      <td>0.0</td>\n",
       "      <td>0.0</td>\n",
       "      <td>0.0</td>\n",
       "      <td>0.0</td>\n",
       "      <td>0.0</td>\n",
       "      <td>...</td>\n",
       "      <td>0.0</td>\n",
       "      <td>0.0</td>\n",
       "      <td>0.0</td>\n",
       "      <td>0.0</td>\n",
       "      <td>0.0</td>\n",
       "      <td>0.0</td>\n",
       "      <td>0.0</td>\n",
       "      <td>0.0</td>\n",
       "      <td>0.0</td>\n",
       "      <td>0.0</td>\n",
       "    </tr>\n",
       "    <tr>\n",
       "      <th>2396</th>\n",
       "      <td>1.0</td>\n",
       "      <td>1.0</td>\n",
       "      <td>0.0</td>\n",
       "      <td>0.0</td>\n",
       "      <td>0.0</td>\n",
       "      <td>0.0</td>\n",
       "      <td>0.0</td>\n",
       "      <td>0.0</td>\n",
       "      <td>0.0</td>\n",
       "      <td>0.0</td>\n",
       "      <td>...</td>\n",
       "      <td>0.0</td>\n",
       "      <td>0.0</td>\n",
       "      <td>0.0</td>\n",
       "      <td>0.0</td>\n",
       "      <td>0.0</td>\n",
       "      <td>0.0</td>\n",
       "      <td>0.0</td>\n",
       "      <td>0.0</td>\n",
       "      <td>0.0</td>\n",
       "      <td>0.0</td>\n",
       "    </tr>\n",
       "  </tbody>\n",
       "</table>\n",
       "<p>5 rows × 32 columns</p>\n",
       "</div>"
      ],
      "text/plain": [
       "        0     1    2    3    4    5    6    7    8    9   ...   22   23   24  \\\n",
       "0      0.0  31.0  0.0  0.0  0.0  0.0  0.0  0.0  0.0  0.0  ...  0.0  0.0  0.0   \n",
       "2393  10.0   1.0  0.0  0.0  0.0  0.0  0.0  0.0  0.0  0.0  ...  0.0  0.0  0.0   \n",
       "2394   2.0   2.0  0.0  0.0  0.0  0.0  0.0  0.0  0.0  0.0  ...  0.0  0.0  0.0   \n",
       "2395   2.0   0.0  0.0  0.0  0.0  0.0  0.0  0.0  0.0  0.0  ...  0.0  0.0  0.0   \n",
       "2396   1.0   1.0  0.0  0.0  0.0  0.0  0.0  0.0  0.0  0.0  ...  0.0  0.0  0.0   \n",
       "\n",
       "       25   26   27   28   29   30   31  \n",
       "0     0.0  0.0  0.0  0.0  0.0  0.0  0.0  \n",
       "2393  0.0  0.0  0.0  0.0  0.0  0.0  0.0  \n",
       "2394  0.0  0.0  0.0  0.0  0.0  0.0  0.0  \n",
       "2395  0.0  0.0  0.0  0.0  0.0  0.0  0.0  \n",
       "2396  0.0  0.0  0.0  0.0  0.0  0.0  0.0  \n",
       "\n",
       "[5 rows x 32 columns]"
      ]
     },
     "execution_count": 210,
     "metadata": {},
     "output_type": "execute_result"
    }
   ],
   "source": [
    "X_train.head()"
   ]
  },
  {
   "cell_type": "code",
   "execution_count": 211,
   "metadata": {
    "collapsed": true
   },
   "outputs": [],
   "source": [
    "X_val = X_val_cnt_partial.iloc[:,:-1]\n",
    "y_val = X_val_cnt_partial.iloc[:,-1]"
   ]
  },
  {
   "cell_type": "code",
   "execution_count": 212,
   "metadata": {
    "collapsed": true
   },
   "outputs": [],
   "source": [
    "X_test = X_test_cnt_partial.copy()"
   ]
  },
  {
   "cell_type": "code",
   "execution_count": 213,
   "metadata": {
    "collapsed": true
   },
   "outputs": [],
   "source": [
    "X_train_array = np.array(X_train)\n",
    "y_train_array = np.array(y_train)"
   ]
  },
  {
   "cell_type": "code",
   "execution_count": 214,
   "metadata": {
    "collapsed": true
   },
   "outputs": [],
   "source": [
    "X_val_array = np.array(X_val)\n",
    "y_val_array = np.array(y_val)"
   ]
  },
  {
   "cell_type": "code",
   "execution_count": 215,
   "metadata": {
    "collapsed": true
   },
   "outputs": [],
   "source": [
    "X_test_array =  np.array(X_test)"
   ]
  },
  {
   "cell_type": "code",
   "execution_count": 216,
   "metadata": {},
   "outputs": [
    {
     "data": {
      "text/plain": [
       "(2107680, 32)"
      ]
     },
     "execution_count": 216,
     "metadata": {},
     "output_type": "execute_result"
    }
   ],
   "source": [
    "X_train_array.shape"
   ]
  },
  {
   "cell_type": "code",
   "execution_count": 217,
   "metadata": {},
   "outputs": [
    {
     "data": {
      "text/plain": [
       "(2107680,)"
      ]
     },
     "execution_count": 217,
     "metadata": {},
     "output_type": "execute_result"
    }
   ],
   "source": [
    "y_train_array.shape"
   ]
  },
  {
   "cell_type": "code",
   "execution_count": 218,
   "metadata": {
    "collapsed": true
   },
   "outputs": [],
   "source": [
    "def create_dataset(dataset, look_back=1):\n",
    "    dataX, dataY = [], []\n",
    "    for i in range(len(dataset)-look_back+1):\n",
    "        a = dataset[i:(i+look_back), :]\n",
    "        dataX.append(a)\n",
    "        dataY.append(dataset[i + look_back - 1, :])\n",
    "    return np.array(dataX), np.array(dataY)"
   ]
  },
  {
   "cell_type": "code",
   "execution_count": 219,
   "metadata": {
    "collapsed": true
   },
   "outputs": [],
   "source": [
    "X_trial,y_trial = create_dataset(X_train_array.T,look_back = 4)"
   ]
  },
  {
   "cell_type": "code",
   "execution_count": 220,
   "metadata": {},
   "outputs": [
    {
     "data": {
      "text/plain": [
       "(29, 4, 2107680)"
      ]
     },
     "execution_count": 220,
     "metadata": {},
     "output_type": "execute_result"
    }
   ],
   "source": [
    "X_trial.shape #27 time sequence samples, each sample has 5 time steps, every sample has 424124 observations"
   ]
  },
  {
   "cell_type": "code",
   "execution_count": 221,
   "metadata": {},
   "outputs": [
    {
     "data": {
      "text/plain": [
       "(29, 2107680)"
      ]
     },
     "execution_count": 221,
     "metadata": {},
     "output_type": "execute_result"
    }
   ],
   "source": [
    "y_trial.shape"
   ]
  },
  {
   "cell_type": "code",
   "execution_count": 222,
   "metadata": {},
   "outputs": [
    {
     "data": {
      "text/plain": [
       "526920"
      ]
     },
     "execution_count": 222,
     "metadata": {},
     "output_type": "execute_result"
    }
   ],
   "source": [
    "n_observation = len(X_train_cnt)\n",
    "n_observation"
   ]
  },
  {
   "cell_type": "code",
   "execution_count": 70,
   "metadata": {
    "collapsed": true
   },
   "outputs": [],
   "source": [
    "#save the train data\n",
    "#save_obj(X_trial,\"data/X_trial\")\n",
    "#save_obj(y_trial,\"data/y_trial\")"
   ]
  },
  {
   "cell_type": "code",
   "execution_count": 71,
   "metadata": {
    "collapsed": true
   },
   "outputs": [],
   "source": [
    "#X_trial = load_obj(\"data/X_trial\")\n",
    "#y_trial = load_obj(\"data/y_trial\")"
   ]
  },
  {
   "cell_type": "code",
   "execution_count": 223,
   "metadata": {},
   "outputs": [
    {
     "data": {
      "text/plain": [
       "2107680"
      ]
     },
     "execution_count": 223,
     "metadata": {},
     "output_type": "execute_result"
    }
   ],
   "source": [
    "n_model = X_trial.shape[2]\n",
    "n_model"
   ]
  },
  {
   "cell_type": "code",
   "execution_count": 224,
   "metadata": {},
   "outputs": [],
   "source": [
    "model = Sequential()\n",
    "#model.add(LSTM(150, input_shape=(5, n_observation),return_sequences=True)) #5 timesteps, #num of observations\n",
    "model.add(LSTM(50, input_shape=(4, n_model), return_sequences=True))\n",
    "model.add(Dropout(0.2)) #control for overfitting\n",
    "model.add(LSTM(32, return_sequences=False))\n",
    "model.add(Dense(n_model, activation='linear'))\n",
    "\n",
    "optimizer = \"adam\"\n",
    "#optimizer = RMSprop(lr=0.005)\n",
    "model.compile(loss='mean_squared_error', optimizer=optimizer)"
   ]
  },
  {
   "cell_type": "code",
   "execution_count": 225,
   "metadata": {},
   "outputs": [
    {
     "data": {
      "text/plain": [
       "(29, 4, 2107680)"
      ]
     },
     "execution_count": 225,
     "metadata": {},
     "output_type": "execute_result"
    }
   ],
   "source": [
    "X_trial.shape"
   ]
  },
  {
   "cell_type": "code",
   "execution_count": 226,
   "metadata": {},
   "outputs": [
    {
     "data": {
      "text/plain": [
       "False"
      ]
     },
     "execution_count": 226,
     "metadata": {},
     "output_type": "execute_result"
    }
   ],
   "source": [
    "X_train_cnt.isnull().any()[2]"
   ]
  },
  {
   "cell_type": "code",
   "execution_count": 227,
   "metadata": {},
   "outputs": [
    {
     "name": "stdout",
     "output_type": "stream",
     "text": [
      "Epoch 1/100\n",
      "29/29 [==============================] - 15s 509ms/step - loss: 366.3746\n",
      "Epoch 2/100\n",
      "29/29 [==============================] - 14s 484ms/step - loss: 365.9956\n",
      "Epoch 3/100\n",
      "29/29 [==============================] - 14s 487ms/step - loss: 365.4642\n",
      "Epoch 4/100\n",
      "29/29 [==============================] - 14s 485ms/step - loss: 364.7797\n",
      "Epoch 5/100\n",
      "29/29 [==============================] - 14s 482ms/step - loss: 363.8681\n",
      "Epoch 6/100\n",
      "29/29 [==============================] - 14s 490ms/step - loss: 362.7080\n",
      "Epoch 7/100\n",
      "29/29 [==============================] - 14s 487ms/step - loss: 361.3555\n",
      "Epoch 8/100\n",
      "29/29 [==============================] - 14s 488ms/step - loss: 359.6739\n",
      "Epoch 9/100\n",
      "29/29 [==============================] - 14s 485ms/step - loss: 357.7202\n",
      "Epoch 10/100\n",
      "29/29 [==============================] - 14s 486ms/step - loss: 355.4860\n",
      "Epoch 11/100\n",
      "29/29 [==============================] - 14s 490ms/step - loss: 353.0738\n",
      "Epoch 12/100\n",
      "29/29 [==============================] - 14s 484ms/step - loss: 350.4159\n",
      "Epoch 13/100\n",
      "29/29 [==============================] - 14s 490ms/step - loss: 347.5909\n",
      "Epoch 14/100\n",
      "29/29 [==============================] - 14s 487ms/step - loss: 344.6472\n",
      "Epoch 15/100\n",
      "29/29 [==============================] - 14s 488ms/step - loss: 341.7432\n",
      "Epoch 16/100\n",
      "29/29 [==============================] - 14s 484ms/step - loss: 338.6358\n",
      "Epoch 17/100\n",
      "29/29 [==============================] - 14s 486ms/step - loss: 335.7686\n",
      "Epoch 18/100\n",
      "29/29 [==============================] - 14s 487ms/step - loss: 332.9284\n",
      "Epoch 19/100\n",
      "29/29 [==============================] - 14s 486ms/step - loss: 330.0372\n",
      "Epoch 20/100\n",
      "29/29 [==============================] - 14s 487ms/step - loss: 327.1551\n",
      "Epoch 21/100\n",
      "29/29 [==============================] - 14s 486ms/step - loss: 324.5098\n",
      "Epoch 22/100\n",
      "29/29 [==============================] - 14s 485ms/step - loss: 321.7903\n",
      "Epoch 23/100\n",
      "29/29 [==============================] - 14s 485ms/step - loss: 319.1798\n",
      "Epoch 24/100\n",
      "29/29 [==============================] - 14s 486ms/step - loss: 316.5718\n",
      "Epoch 25/100\n",
      "29/29 [==============================] - 14s 489ms/step - loss: 314.0650\n",
      "Epoch 26/100\n",
      "29/29 [==============================] - 14s 481ms/step - loss: 311.6142\n",
      "Epoch 27/100\n",
      "29/29 [==============================] - 14s 492ms/step - loss: 309.2252\n",
      "Epoch 28/100\n",
      "29/29 [==============================] - 14s 488ms/step - loss: 306.8891\n",
      "Epoch 29/100\n",
      "29/29 [==============================] - 14s 488ms/step - loss: 304.5879\n",
      "Epoch 30/100\n",
      "29/29 [==============================] - 14s 489ms/step - loss: 302.2860\n",
      "Epoch 31/100\n",
      "29/29 [==============================] - 14s 483ms/step - loss: 300.0765\n",
      "Epoch 32/100\n",
      "29/29 [==============================] - 14s 484ms/step - loss: 297.9009\n",
      "Epoch 33/100\n",
      "29/29 [==============================] - 14s 482ms/step - loss: 295.6659\n",
      "Epoch 34/100\n",
      "29/29 [==============================] - 14s 486ms/step - loss: 293.5795\n",
      "Epoch 35/100\n",
      "29/29 [==============================] - 14s 483ms/step - loss: 291.5246\n",
      "Epoch 36/100\n",
      "29/29 [==============================] - 14s 487ms/step - loss: 289.4277\n",
      "Epoch 37/100\n",
      "29/29 [==============================] - 14s 487ms/step - loss: 287.3868\n",
      "Epoch 38/100\n",
      "29/29 [==============================] - 14s 486ms/step - loss: 285.3574\n",
      "Epoch 39/100\n",
      "29/29 [==============================] - 14s 486ms/step - loss: 283.3420\n",
      "Epoch 40/100\n",
      "29/29 [==============================] - 14s 486ms/step - loss: 281.3975\n",
      "Epoch 41/100\n",
      "29/29 [==============================] - 14s 486ms/step - loss: 279.4685\n",
      "Epoch 42/100\n",
      "29/29 [==============================] - 14s 482ms/step - loss: 277.5639\n",
      "Epoch 43/100\n",
      "29/29 [==============================] - 14s 486ms/step - loss: 275.6411\n",
      "Epoch 44/100\n",
      "29/29 [==============================] - 14s 486ms/step - loss: 273.7868\n",
      "Epoch 45/100\n",
      "29/29 [==============================] - 14s 487ms/step - loss: 271.9540\n",
      "Epoch 46/100\n",
      "29/29 [==============================] - 14s 487ms/step - loss: 270.0810\n",
      "Epoch 47/100\n",
      "29/29 [==============================] - 14s 488ms/step - loss: 268.3029\n",
      "Epoch 48/100\n",
      "29/29 [==============================] - 14s 483ms/step - loss: 266.4953\n",
      "Epoch 49/100\n",
      "29/29 [==============================] - 14s 486ms/step - loss: 264.7334\n",
      "Epoch 50/100\n",
      "29/29 [==============================] - 14s 485ms/step - loss: 262.9894\n",
      "Epoch 51/100\n",
      "29/29 [==============================] - 14s 487ms/step - loss: 261.2470\n",
      "Epoch 52/100\n",
      "29/29 [==============================] - 14s 483ms/step - loss: 259.5709\n",
      "Epoch 53/100\n",
      "29/29 [==============================] - 14s 484ms/step - loss: 257.8406\n",
      "Epoch 54/100\n",
      "29/29 [==============================] - 14s 489ms/step - loss: 256.1452\n",
      "Epoch 55/100\n",
      "29/29 [==============================] - 14s 487ms/step - loss: 254.4830\n",
      "Epoch 56/100\n",
      "29/29 [==============================] - 14s 488ms/step - loss: 252.8447\n",
      "Epoch 57/100\n",
      "29/29 [==============================] - 14s 485ms/step - loss: 251.1994\n",
      "Epoch 58/100\n",
      "29/29 [==============================] - 14s 484ms/step - loss: 249.5851\n",
      "Epoch 59/100\n",
      "29/29 [==============================] - 14s 486ms/step - loss: 247.9799\n",
      "Epoch 60/100\n",
      "29/29 [==============================] - 14s 487ms/step - loss: 246.4141\n",
      "Epoch 61/100\n",
      "29/29 [==============================] - 14s 486ms/step - loss: 244.8285\n",
      "Epoch 62/100\n",
      "29/29 [==============================] - 14s 486ms/step - loss: 243.2443\n",
      "Epoch 63/100\n",
      "29/29 [==============================] - 14s 487ms/step - loss: 241.7173\n",
      "Epoch 64/100\n",
      "29/29 [==============================] - 14s 482ms/step - loss: 240.1790\n",
      "Epoch 65/100\n",
      "29/29 [==============================] - 14s 483ms/step - loss: 238.6575\n",
      "Epoch 66/100\n",
      "29/29 [==============================] - 14s 488ms/step - loss: 237.1457\n",
      "Epoch 67/100\n",
      "29/29 [==============================] - 14s 486ms/step - loss: 235.6345\n",
      "Epoch 68/100\n",
      "29/29 [==============================] - 14s 485ms/step - loss: 234.1858\n",
      "Epoch 69/100\n",
      "29/29 [==============================] - 14s 485ms/step - loss: 232.6935\n",
      "Epoch 70/100\n",
      "29/29 [==============================] - 14s 485ms/step - loss: 231.2554\n",
      "Epoch 71/100\n",
      "29/29 [==============================] - 14s 488ms/step - loss: 229.7986\n",
      "Epoch 72/100\n",
      "29/29 [==============================] - 14s 486ms/step - loss: 228.3682\n",
      "Epoch 73/100\n",
      "29/29 [==============================] - 14s 488ms/step - loss: 226.9659\n",
      "Epoch 74/100\n",
      "29/29 [==============================] - 14s 488ms/step - loss: 225.5382\n",
      "Epoch 75/100\n",
      "29/29 [==============================] - 14s 484ms/step - loss: 224.1451\n",
      "Epoch 76/100\n",
      "29/29 [==============================] - 14s 484ms/step - loss: 222.7628\n",
      "Epoch 77/100\n",
      "29/29 [==============================] - 14s 483ms/step - loss: 221.4167\n",
      "Epoch 78/100\n",
      "29/29 [==============================] - 14s 483ms/step - loss: 220.0297\n",
      "Epoch 79/100\n",
      "29/29 [==============================] - 14s 491ms/step - loss: 218.6702\n",
      "Epoch 80/100\n",
      "29/29 [==============================] - 14s 487ms/step - loss: 217.3353\n",
      "Epoch 81/100\n",
      "29/29 [==============================] - 14s 489ms/step - loss: 216.0036\n",
      "Epoch 82/100\n",
      "29/29 [==============================] - 14s 489ms/step - loss: 214.6882\n",
      "Epoch 83/100\n",
      "29/29 [==============================] - 14s 485ms/step - loss: 213.3718\n",
      "Epoch 84/100\n",
      "29/29 [==============================] - 14s 484ms/step - loss: 212.0637\n",
      "Epoch 85/100\n",
      "29/29 [==============================] - 14s 481ms/step - loss: 210.7808\n",
      "Epoch 86/100\n",
      "29/29 [==============================] - 14s 484ms/step - loss: 209.5057\n",
      "Epoch 87/100\n",
      "29/29 [==============================] - 14s 485ms/step - loss: 208.2347\n",
      "Epoch 88/100\n",
      "29/29 [==============================] - 14s 481ms/step - loss: 206.9678\n",
      "Epoch 89/100\n",
      "29/29 [==============================] - 14s 490ms/step - loss: 205.7146\n",
      "Epoch 90/100\n",
      "29/29 [==============================] - 14s 487ms/step - loss: 204.4803\n",
      "Epoch 91/100\n",
      "29/29 [==============================] - 14s 484ms/step - loss: 203.2549\n",
      "Epoch 92/100\n",
      "29/29 [==============================] - 14s 486ms/step - loss: 202.0169\n",
      "Epoch 93/100\n",
      "29/29 [==============================] - 14s 484ms/step - loss: 200.7977\n",
      "Epoch 94/100\n",
      "29/29 [==============================] - 14s 487ms/step - loss: 199.5930\n",
      "Epoch 95/100\n",
      "29/29 [==============================] - 14s 484ms/step - loss: 198.3965\n",
      "Epoch 96/100\n",
      "29/29 [==============================] - 14s 487ms/step - loss: 197.2075\n",
      "Epoch 97/100\n",
      "29/29 [==============================] - 14s 487ms/step - loss: 196.0135\n",
      "Epoch 98/100\n",
      "29/29 [==============================] - 14s 486ms/step - loss: 194.8630\n",
      "Epoch 99/100\n",
      "29/29 [==============================] - 14s 486ms/step - loss: 193.7001\n",
      "Epoch 100/100\n",
      "29/29 [==============================] - 14s 486ms/step - loss: 192.5475\n"
     ]
    },
    {
     "data": {
      "text/plain": [
       "<keras.callbacks.callbacks.History at 0x7f928c671198>"
      ]
     },
     "execution_count": 227,
     "metadata": {},
     "output_type": "execute_result"
    }
   ],
   "source": [
    "model.fit(X_trial, y_trial, batch_size=10, epochs=100)"
   ]
  },
  {
   "cell_type": "code",
   "execution_count": 228,
   "metadata": {
    "collapsed": true
   },
   "outputs": [],
   "source": [
    "X_val_reshape,y_val_reshape = create_dataset(X_val_array.T,look_back =4)"
   ]
  },
  {
   "cell_type": "code",
   "execution_count": 229,
   "metadata": {},
   "outputs": [
    {
     "data": {
      "text/plain": [
       "(29, 4, 2107680)"
      ]
     },
     "execution_count": 229,
     "metadata": {},
     "output_type": "execute_result"
    }
   ],
   "source": [
    "X_val_reshape.shape"
   ]
  },
  {
   "cell_type": "code",
   "execution_count": 230,
   "metadata": {},
   "outputs": [
    {
     "data": {
      "text/plain": [
       "(29, 2107680)"
      ]
     },
     "execution_count": 230,
     "metadata": {},
     "output_type": "execute_result"
    }
   ],
   "source": [
    "y_val_reshape.shape"
   ]
  },
  {
   "cell_type": "code",
   "execution_count": 313,
   "metadata": {
    "collapsed": true
   },
   "outputs": [],
   "source": [
    "#save the validation data\n",
    "#save_obj(X_val_reshape,\"data/X_val_reshape\")\n",
    "#save_obj(y_val_reshape,\"data/y_val_reshape\")"
   ]
  },
  {
   "cell_type": "code",
   "execution_count": 231,
   "metadata": {},
   "outputs": [],
   "source": [
    "y_val_pred = model.predict(X_val_reshape)"
   ]
  },
  {
   "cell_type": "code",
   "execution_count": 232,
   "metadata": {},
   "outputs": [
    {
     "data": {
      "text/plain": [
       "(29, 2107680)"
      ]
     },
     "execution_count": 232,
     "metadata": {},
     "output_type": "execute_result"
    }
   ],
   "source": [
    "y_val_pred.shape"
   ]
  },
  {
   "cell_type": "code",
   "execution_count": 76,
   "metadata": {},
   "outputs": [
    {
     "data": {
      "text/plain": [
       "4.387210470356987"
      ]
     },
     "execution_count": 76,
     "metadata": {},
     "output_type": "execute_result"
    }
   ],
   "source": [
    "#complete dataset, price+cnt+seasonal factor, 12 month window\n",
    "rmse_LSTM = np.sqrt(mean_squared_error(y_val_reshape[-1][:int(n_observation)],y_val_pred[-1][:int(n_observation)]))\n",
    "rmse_LSTM"
   ]
  },
  {
   "cell_type": "code",
   "execution_count": 77,
   "metadata": {},
   "outputs": [
    {
     "data": {
      "text/plain": [
       "0.7549364791275444"
      ]
     },
     "execution_count": 77,
     "metadata": {},
     "output_type": "execute_result"
    }
   ],
   "source": [
    "val_pred_clip = y_val_pred[-1][:int(n_observation)].clip(0,20)\n",
    "y_val_array_clip = y_val_reshape[-1][:int(n_observation)].clip(0,20)\n",
    "rmse_LSTM_clip = np.sqrt(mean_squared_error(y_val_array_clip,val_pred_clip))\n",
    "rmse_LSTM_clip"
   ]
  },
  {
   "cell_type": "code",
   "execution_count": 115,
   "metadata": {
    "collapsed": true
   },
   "outputs": [],
   "source": [
    "#save test results\n",
    "X_test_reshape,y_test = create_dataset(X_test_array.T,look_back = 4)\n",
    "y_test_pred = model.predict(X_test_reshape)\n",
    "save_obj(y_test_pred[-1][:int(n_observation)], \"data/y_test_pred_cnt_complete_price_cnt_12\")"
   ]
  },
  {
   "cell_type": "code",
   "execution_count": 172,
   "metadata": {},
   "outputs": [
    {
     "data": {
      "text/plain": [
       "4.3664611338665305"
      ]
     },
     "execution_count": 172,
     "metadata": {},
     "output_type": "execute_result"
    }
   ],
   "source": [
    "#complete data all factors, 3 months window\n",
    "rmse_LSTM = np.sqrt(mean_squared_error(y_val_reshape[-1][:int(n_observation)],y_val_pred[-1][:int(n_observation)]))\n",
    "rmse_LSTM"
   ]
  },
  {
   "cell_type": "code",
   "execution_count": 173,
   "metadata": {},
   "outputs": [
    {
     "data": {
      "text/plain": [
       "0.8129897558491831"
      ]
     },
     "execution_count": 173,
     "metadata": {},
     "output_type": "execute_result"
    }
   ],
   "source": [
    "val_pred_clip = y_val_pred[-1][:int(n_observation)].clip(0,20)\n",
    "y_val_array_clip = y_val_reshape[-1][:int(n_observation)].clip(0,20)\n",
    "rmse_LSTM_clip = np.sqrt(mean_squared_error(y_val_array_clip,val_pred_clip))\n",
    "rmse_LSTM_clip"
   ]
  },
  {
   "cell_type": "code",
   "execution_count": 174,
   "metadata": {
    "collapsed": true
   },
   "outputs": [],
   "source": [
    "X_test_reshape,y_test = create_dataset(X_test_array.T,look_back = 3)\n",
    "y_test_pred = model.predict(X_test_reshape)\n",
    "save_obj(y_test_pred[-1][:int(n_observation)], \"data/y_test_pred_complete_everything_3month\")"
   ]
  },
  {
   "cell_type": "code",
   "execution_count": 233,
   "metadata": {},
   "outputs": [
    {
     "data": {
      "text/plain": [
       "4.391848550465688"
      ]
     },
     "execution_count": 233,
     "metadata": {},
     "output_type": "execute_result"
    }
   ],
   "source": [
    "#complete data, cnt+price+seasonal effect+shop+top_catergories, 4 months\n",
    "rmse_LSTM = np.sqrt(mean_squared_error(y_val_reshape[-1][:int(n_observation)],y_val_pred[-1][:int(n_observation)]))\n",
    "rmse_LSTM"
   ]
  },
  {
   "cell_type": "code",
   "execution_count": 234,
   "metadata": {},
   "outputs": [
    {
     "data": {
      "text/plain": [
       "0.7815176474328304"
      ]
     },
     "execution_count": 234,
     "metadata": {},
     "output_type": "execute_result"
    }
   ],
   "source": [
    "val_pred_clip = y_val_pred[-1][:int(n_observation)].clip(0,20)\n",
    "y_val_array_clip = y_val_reshape[-1][:int(n_observation)].clip(0,20)\n",
    "rmse_LSTM_clip = np.sqrt(mean_squared_error(y_val_array_clip,val_pred_clip))\n",
    "rmse_LSTM_clip"
   ]
  },
  {
   "cell_type": "code",
   "execution_count": 235,
   "metadata": {
    "collapsed": true
   },
   "outputs": [],
   "source": [
    "X_test_reshape,y_test = create_dataset(X_test_array.T,look_back = 4)\n",
    "y_test_pred = model.predict(X_test_reshape)\n",
    "save_obj(y_test_pred[-1][:int(n_observation)], \"data/y_test_pred_complete_cnt_price_seasonal_shop_cat1_4month\")"
   ]
  },
  {
   "cell_type": "code",
   "execution_count": 224,
   "metadata": {},
   "outputs": [
    {
     "data": {
      "text/plain": [
       "4.896569445285344"
      ]
     },
     "execution_count": 224,
     "metadata": {},
     "output_type": "execute_result"
    }
   ],
   "source": [
    "#with only cnt,price and month (seasonal effect), 12 months window\n",
    "rmse_LSTM = np.sqrt(mean_squared_error(y_val_reshape[-1][:int(n_observation)],y_val_pred[-1][:int(n_observation)]))\n",
    "rmse_LSTM"
   ]
  },
  {
   "cell_type": "code",
   "execution_count": 225,
   "metadata": {},
   "outputs": [
    {
     "data": {
      "text/plain": [
       "0.8293623938192951"
      ]
     },
     "execution_count": 225,
     "metadata": {},
     "output_type": "execute_result"
    }
   ],
   "source": [
    "val_pred_clip = y_val_pred[-1][:int(n_observation)].clip(0,20)\n",
    "y_val_array_clip = y_val_reshape[-1][:int(n_observation)].clip(0,20)\n",
    "rmse_LSTM_clip = np.sqrt(mean_squared_error(y_val_array_clip,val_pred_clip))\n",
    "rmse_LSTM_clip"
   ]
  },
  {
   "cell_type": "code",
   "execution_count": 113,
   "metadata": {},
   "outputs": [
    {
     "data": {
      "text/plain": [
       "4.379205522900886"
      ]
     },
     "execution_count": 113,
     "metadata": {},
     "output_type": "execute_result"
    }
   ],
   "source": [
    "#complete dataset,with only cnt,price and month (seasonal effect),shop,top category, 4 months window\n",
    "rmse_LSTM = np.sqrt(mean_squared_error(y_val_reshape[-1][:int(n_observation)],y_val_pred[-1][:int(n_observation)]))\n",
    "rmse_LSTM"
   ]
  },
  {
   "cell_type": "code",
   "execution_count": 114,
   "metadata": {},
   "outputs": [
    {
     "data": {
      "text/plain": [
       "0.7980059393925408"
      ]
     },
     "execution_count": 114,
     "metadata": {},
     "output_type": "execute_result"
    }
   ],
   "source": [
    "val_pred_clip = y_val_pred[-1][:int(n_observation)].clip(0,20)\n",
    "y_val_array_clip = y_val_reshape[-1][:int(n_observation)].clip(0,20)\n",
    "rmse_LSTM_clip = np.sqrt(mean_squared_error(y_val_array_clip,val_pred_clip))\n",
    "rmse_LSTM_clip"
   ]
  },
  {
   "cell_type": "code",
   "execution_count": null,
   "metadata": {
    "collapsed": true
   },
   "outputs": [],
   "source": [
    "#save test results\n",
    "X_test_reshape,y_test = create_dataset(X_test_array.T,look_back = 4)\n",
    "y_test_pred = model.predict(X_test_reshape)\n",
    "save_obj(y_test_pred[-1][:int(n_observation)], \"data/y_test_pred_cnt_complete_price_cnt_shop_topcat_4\")"
   ]
  },
  {
   "cell_type": "code",
   "execution_count": 92,
   "metadata": {
    "collapsed": true
   },
   "outputs": [],
   "source": []
  },
  {
   "cell_type": "code",
   "execution_count": null,
   "metadata": {
    "collapsed": true
   },
   "outputs": [],
   "source": []
  }
 ],
 "metadata": {
  "anaconda-cloud": {},
  "kernelspec": {
   "display_name": "venv",
   "language": "python",
   "name": "venv"
  },
  "language_info": {
   "codemirror_mode": {
    "name": "ipython",
    "version": 3
   },
   "file_extension": ".py",
   "mimetype": "text/x-python",
   "name": "python",
   "nbconvert_exporter": "python",
   "pygments_lexer": "ipython3",
   "version": "3.7.3"
  }
 },
 "nbformat": 4,
 "nbformat_minor": 2
}
