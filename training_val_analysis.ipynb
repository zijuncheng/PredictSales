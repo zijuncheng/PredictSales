{
 "cells": [
  {
   "cell_type": "markdown",
   "metadata": {},
   "source": [
    "This notebook transforms the dataset into a time series format (with the option of some nre features such as block averages)\n",
    "\n",
    "It also applies different models (XGboost, Random Forest and MLP) and performs validation on MLP model using parallel processing"
   ]
  },
  {
   "cell_type": "code",
   "execution_count": 1,
   "metadata": {},
   "outputs": [],
   "source": [
    "import numpy as np\n",
    "import pandas as pd\n",
    "import math\n",
    "import seaborn as sns\n",
    "import matplotlib.pyplot as plt\n",
    "import time"
   ]
  },
  {
   "cell_type": "code",
   "execution_count": 2,
   "metadata": {},
   "outputs": [],
   "source": [
    "#save and load function\n",
    "import pickle\n",
    "def save_obj(obj, name ):\n",
    "    with open('./'+ name + '.pkl', 'wb') as f:\n",
    "        pickle.dump(obj, f, pickle.HIGHEST_PROTOCOL)\n",
    "\n",
    "def load_obj(name ):\n",
    "    with open('./' + name + '.pkl', 'rb') as f:\n",
    "        return pickle.load(f)\n",
    "    "
   ]
  },
  {
   "cell_type": "code",
   "execution_count": 3,
   "metadata": {},
   "outputs": [],
   "source": [
    "#load the result from aws service\n",
    "results_raw = load_obj(\"data/results_long_process\")"
   ]
  },
  {
   "cell_type": "code",
   "execution_count": 4,
   "metadata": {},
   "outputs": [
    {
     "data": {
      "text/plain": [
       "60"
      ]
     },
     "execution_count": 4,
     "metadata": {},
     "output_type": "execute_result"
    }
   ],
   "source": [
    "len(results_raw)"
   ]
  },
  {
   "cell_type": "code",
   "execution_count": 5,
   "metadata": {},
   "outputs": [],
   "source": [
    "#add up the dict from each engine\n",
    "def Merge(dict1, dict2): \n",
    "    return(dict2.update(dict1))"
   ]
  },
  {
   "cell_type": "code",
   "execution_count": 6,
   "metadata": {},
   "outputs": [],
   "source": [
    "result_target = {}\n",
    "for d in results_raw:\n",
    "    Merge(d,result_target)"
   ]
  },
  {
   "cell_type": "code",
   "execution_count": 7,
   "metadata": {},
   "outputs": [
    {
     "data": {
      "text/plain": [
       "424124"
      ]
     },
     "execution_count": 7,
     "metadata": {},
     "output_type": "execute_result"
    }
   ],
   "source": [
    "len(result_target)"
   ]
  },
  {
   "cell_type": "code",
   "execution_count": null,
   "metadata": {
    "collapsed": true
   },
   "outputs": [],
   "source": [
    "#save result_target\n",
    "save_obj(result_target,\"data/result_target\")"
   ]
  },
  {
   "cell_type": "code",
   "execution_count": 8,
   "metadata": {},
   "outputs": [],
   "source": [
    "result_target = load_obj(\"data/result_target\")"
   ]
  },
  {
   "cell_type": "code",
   "execution_count": 10,
   "metadata": {
    "scrolled": true
   },
   "outputs": [
    {
     "data": {
      "text/html": [
       "<div>\n",
       "<style scoped>\n",
       "    .dataframe tbody tr th:only-of-type {\n",
       "        vertical-align: middle;\n",
       "    }\n",
       "\n",
       "    .dataframe tbody tr th {\n",
       "        vertical-align: top;\n",
       "    }\n",
       "\n",
       "    .dataframe thead th {\n",
       "        text-align: right;\n",
       "    }\n",
       "</style>\n",
       "<table border=\"1\" class=\"dataframe\">\n",
       "  <thead>\n",
       "    <tr style=\"text-align: right;\">\n",
       "      <th></th>\n",
       "      <th>shop_id</th>\n",
       "      <th>item_id</th>\n",
       "      <th>item_category_id</th>\n",
       "      <th>top_categories_id</th>\n",
       "      <th>item_price</th>\n",
       "      <th>item_cnt_day</th>\n",
       "    </tr>\n",
       "    <tr>\n",
       "      <th>date_block_num</th>\n",
       "      <th></th>\n",
       "      <th></th>\n",
       "      <th></th>\n",
       "      <th></th>\n",
       "      <th></th>\n",
       "      <th></th>\n",
       "    </tr>\n",
       "  </thead>\n",
       "  <tbody>\n",
       "    <tr>\n",
       "      <th>0.0</th>\n",
       "      <td>0.0</td>\n",
       "      <td>15259.0</td>\n",
       "      <td>63.0</td>\n",
       "      <td>16.0</td>\n",
       "      <td>0.0</td>\n",
       "      <td>0.0</td>\n",
       "    </tr>\n",
       "    <tr>\n",
       "      <th>1.0</th>\n",
       "      <td>0.0</td>\n",
       "      <td>15259.0</td>\n",
       "      <td>63.0</td>\n",
       "      <td>16.0</td>\n",
       "      <td>736.0</td>\n",
       "      <td>1.0</td>\n",
       "    </tr>\n",
       "    <tr>\n",
       "      <th>2.0</th>\n",
       "      <td>0.0</td>\n",
       "      <td>15259.0</td>\n",
       "      <td>63.0</td>\n",
       "      <td>16.0</td>\n",
       "      <td>0.0</td>\n",
       "      <td>0.0</td>\n",
       "    </tr>\n",
       "    <tr>\n",
       "      <th>3.0</th>\n",
       "      <td>0.0</td>\n",
       "      <td>15259.0</td>\n",
       "      <td>63.0</td>\n",
       "      <td>16.0</td>\n",
       "      <td>0.0</td>\n",
       "      <td>0.0</td>\n",
       "    </tr>\n",
       "    <tr>\n",
       "      <th>4.0</th>\n",
       "      <td>0.0</td>\n",
       "      <td>15259.0</td>\n",
       "      <td>63.0</td>\n",
       "      <td>16.0</td>\n",
       "      <td>0.0</td>\n",
       "      <td>0.0</td>\n",
       "    </tr>\n",
       "  </tbody>\n",
       "</table>\n",
       "</div>"
      ],
      "text/plain": [
       "                shop_id  item_id  item_category_id  top_categories_id  \\\n",
       "date_block_num                                                          \n",
       "0.0                 0.0  15259.0              63.0               16.0   \n",
       "1.0                 0.0  15259.0              63.0               16.0   \n",
       "2.0                 0.0  15259.0              63.0               16.0   \n",
       "3.0                 0.0  15259.0              63.0               16.0   \n",
       "4.0                 0.0  15259.0              63.0               16.0   \n",
       "\n",
       "                item_price  item_cnt_day  \n",
       "date_block_num                            \n",
       "0.0                    0.0           0.0  \n",
       "1.0                  736.0           1.0  \n",
       "2.0                    0.0           0.0  \n",
       "3.0                    0.0           0.0  \n",
       "4.0                    0.0           0.0  "
      ]
     },
     "execution_count": 10,
     "metadata": {},
     "output_type": "execute_result"
    }
   ],
   "source": [
    "#example shop 2 item 4420\n",
    "result_target[0,15259].head()"
   ]
  },
  {
   "cell_type": "code",
   "execution_count": 11,
   "metadata": {},
   "outputs": [],
   "source": [
    "X_val = load_obj(\"data/X_val\")"
   ]
  },
  {
   "cell_type": "code",
   "execution_count": 12,
   "metadata": {},
   "outputs": [
    {
     "data": {
      "text/html": [
       "<div>\n",
       "<style scoped>\n",
       "    .dataframe tbody tr th:only-of-type {\n",
       "        vertical-align: middle;\n",
       "    }\n",
       "\n",
       "    .dataframe tbody tr th {\n",
       "        vertical-align: top;\n",
       "    }\n",
       "\n",
       "    .dataframe thead th {\n",
       "        text-align: right;\n",
       "    }\n",
       "</style>\n",
       "<table border=\"1\" class=\"dataframe\">\n",
       "  <thead>\n",
       "    <tr style=\"text-align: right;\">\n",
       "      <th></th>\n",
       "      <th>date_block_num</th>\n",
       "      <th>shop_id</th>\n",
       "      <th>item_id</th>\n",
       "      <th>item_category_id</th>\n",
       "      <th>top_categories_id</th>\n",
       "      <th>item_price</th>\n",
       "    </tr>\n",
       "  </thead>\n",
       "  <tbody>\n",
       "    <tr>\n",
       "      <th>54</th>\n",
       "      <td>33</td>\n",
       "      <td>31</td>\n",
       "      <td>22154</td>\n",
       "      <td>37</td>\n",
       "      <td>13</td>\n",
       "      <td>-0.342151</td>\n",
       "    </tr>\n",
       "    <tr>\n",
       "      <th>55</th>\n",
       "      <td>33</td>\n",
       "      <td>42</td>\n",
       "      <td>22154</td>\n",
       "      <td>37</td>\n",
       "      <td>13</td>\n",
       "      <td>-0.342151</td>\n",
       "    </tr>\n",
       "    <tr>\n",
       "      <th>56</th>\n",
       "      <td>33</td>\n",
       "      <td>15</td>\n",
       "      <td>22154</td>\n",
       "      <td>37</td>\n",
       "      <td>13</td>\n",
       "      <td>-0.342151</td>\n",
       "    </tr>\n",
       "    <tr>\n",
       "      <th>57</th>\n",
       "      <td>33</td>\n",
       "      <td>28</td>\n",
       "      <td>22154</td>\n",
       "      <td>37</td>\n",
       "      <td>13</td>\n",
       "      <td>-0.342151</td>\n",
       "    </tr>\n",
       "    <tr>\n",
       "      <th>58</th>\n",
       "      <td>33</td>\n",
       "      <td>24</td>\n",
       "      <td>22154</td>\n",
       "      <td>37</td>\n",
       "      <td>13</td>\n",
       "      <td>-0.342151</td>\n",
       "    </tr>\n",
       "  </tbody>\n",
       "</table>\n",
       "</div>"
      ],
      "text/plain": [
       "    date_block_num  shop_id  item_id  item_category_id  top_categories_id  \\\n",
       "54              33       31    22154                37                 13   \n",
       "55              33       42    22154                37                 13   \n",
       "56              33       15    22154                37                 13   \n",
       "57              33       28    22154                37                 13   \n",
       "58              33       24    22154                37                 13   \n",
       "\n",
       "    item_price  \n",
       "54   -0.342151  \n",
       "55   -0.342151  \n",
       "56   -0.342151  \n",
       "57   -0.342151  \n",
       "58   -0.342151  "
      ]
     },
     "execution_count": 12,
     "metadata": {},
     "output_type": "execute_result"
    }
   ],
   "source": [
    "X_val.head()"
   ]
  },
  {
   "cell_type": "code",
   "execution_count": null,
   "metadata": {
    "collapsed": true
   },
   "outputs": [],
   "source": [
    "#month 0-32 are train data\n",
    "#month 33 is validation\n",
    "#month 34 is test"
   ]
  },
  {
   "cell_type": "code",
   "execution_count": 13,
   "metadata": {},
   "outputs": [],
   "source": [
    "#for test\n",
    "result_test = {}\n",
    "result_test[0,15259]= result_target[0,15259]"
   ]
  },
  {
   "cell_type": "code",
   "execution_count": 14,
   "metadata": {},
   "outputs": [
    {
     "name": "stdout",
     "output_type": "stream",
     "text": [
      "Wall time: 3min 18s\n"
     ]
    }
   ],
   "source": [
    "%%time\n",
    "result_stacked = pd.concat(result_target.values()).reset_index().set_index(['shop_id','item_id','item_category_id','top_categories_id','date_block_num']).unstack('date_block_num')"
   ]
  },
  {
   "cell_type": "code",
   "execution_count": 15,
   "metadata": {},
   "outputs": [],
   "source": [
    "result_stacked.columns = [col[0] + '_' + str(int(col[1])) for col in result_stacked.columns.values]"
   ]
  },
  {
   "cell_type": "code",
   "execution_count": 16,
   "metadata": {},
   "outputs": [],
   "source": [
    "result_stacked.reset_index(inplace = True)"
   ]
  },
  {
   "cell_type": "code",
   "execution_count": 17,
   "metadata": {},
   "outputs": [
    {
     "data": {
      "text/html": [
       "<div>\n",
       "<style scoped>\n",
       "    .dataframe tbody tr th:only-of-type {\n",
       "        vertical-align: middle;\n",
       "    }\n",
       "\n",
       "    .dataframe tbody tr th {\n",
       "        vertical-align: top;\n",
       "    }\n",
       "\n",
       "    .dataframe thead th {\n",
       "        text-align: right;\n",
       "    }\n",
       "</style>\n",
       "<table border=\"1\" class=\"dataframe\">\n",
       "  <thead>\n",
       "    <tr style=\"text-align: right;\">\n",
       "      <th></th>\n",
       "      <th>shop_id</th>\n",
       "      <th>item_id</th>\n",
       "      <th>item_category_id</th>\n",
       "      <th>top_categories_id</th>\n",
       "      <th>item_price_0</th>\n",
       "      <th>item_price_1</th>\n",
       "      <th>item_price_2</th>\n",
       "      <th>item_price_3</th>\n",
       "      <th>item_price_4</th>\n",
       "      <th>item_price_5</th>\n",
       "      <th>...</th>\n",
       "      <th>item_cnt_day_24</th>\n",
       "      <th>item_cnt_day_25</th>\n",
       "      <th>item_cnt_day_26</th>\n",
       "      <th>item_cnt_day_27</th>\n",
       "      <th>item_cnt_day_28</th>\n",
       "      <th>item_cnt_day_29</th>\n",
       "      <th>item_cnt_day_30</th>\n",
       "      <th>item_cnt_day_31</th>\n",
       "      <th>item_cnt_day_32</th>\n",
       "      <th>item_cnt_day_33</th>\n",
       "    </tr>\n",
       "  </thead>\n",
       "  <tbody>\n",
       "    <tr>\n",
       "      <th>0</th>\n",
       "      <td>0.0</td>\n",
       "      <td>30.0</td>\n",
       "      <td>40.0</td>\n",
       "      <td>13.0</td>\n",
       "      <td>0.0</td>\n",
       "      <td>265.0</td>\n",
       "      <td>0.0</td>\n",
       "      <td>0.0</td>\n",
       "      <td>0.0</td>\n",
       "      <td>0.0</td>\n",
       "      <td>...</td>\n",
       "      <td>0.0</td>\n",
       "      <td>0.0</td>\n",
       "      <td>0.0</td>\n",
       "      <td>0.0</td>\n",
       "      <td>0.0</td>\n",
       "      <td>0.0</td>\n",
       "      <td>0.0</td>\n",
       "      <td>0.0</td>\n",
       "      <td>0.0</td>\n",
       "      <td>0.0</td>\n",
       "    </tr>\n",
       "    <tr>\n",
       "      <th>1</th>\n",
       "      <td>0.0</td>\n",
       "      <td>31.0</td>\n",
       "      <td>37.0</td>\n",
       "      <td>13.0</td>\n",
       "      <td>0.0</td>\n",
       "      <td>434.0</td>\n",
       "      <td>0.0</td>\n",
       "      <td>0.0</td>\n",
       "      <td>0.0</td>\n",
       "      <td>0.0</td>\n",
       "      <td>...</td>\n",
       "      <td>0.0</td>\n",
       "      <td>0.0</td>\n",
       "      <td>0.0</td>\n",
       "      <td>0.0</td>\n",
       "      <td>0.0</td>\n",
       "      <td>0.0</td>\n",
       "      <td>0.0</td>\n",
       "      <td>0.0</td>\n",
       "      <td>0.0</td>\n",
       "      <td>0.0</td>\n",
       "    </tr>\n",
       "    <tr>\n",
       "      <th>2</th>\n",
       "      <td>0.0</td>\n",
       "      <td>32.0</td>\n",
       "      <td>40.0</td>\n",
       "      <td>13.0</td>\n",
       "      <td>221.0</td>\n",
       "      <td>221.0</td>\n",
       "      <td>0.0</td>\n",
       "      <td>0.0</td>\n",
       "      <td>0.0</td>\n",
       "      <td>0.0</td>\n",
       "      <td>...</td>\n",
       "      <td>0.0</td>\n",
       "      <td>0.0</td>\n",
       "      <td>0.0</td>\n",
       "      <td>0.0</td>\n",
       "      <td>0.0</td>\n",
       "      <td>0.0</td>\n",
       "      <td>0.0</td>\n",
       "      <td>0.0</td>\n",
       "      <td>0.0</td>\n",
       "      <td>0.0</td>\n",
       "    </tr>\n",
       "    <tr>\n",
       "      <th>3</th>\n",
       "      <td>0.0</td>\n",
       "      <td>33.0</td>\n",
       "      <td>37.0</td>\n",
       "      <td>13.0</td>\n",
       "      <td>347.0</td>\n",
       "      <td>347.0</td>\n",
       "      <td>0.0</td>\n",
       "      <td>0.0</td>\n",
       "      <td>0.0</td>\n",
       "      <td>0.0</td>\n",
       "      <td>...</td>\n",
       "      <td>0.0</td>\n",
       "      <td>0.0</td>\n",
       "      <td>0.0</td>\n",
       "      <td>0.0</td>\n",
       "      <td>0.0</td>\n",
       "      <td>0.0</td>\n",
       "      <td>0.0</td>\n",
       "      <td>0.0</td>\n",
       "      <td>0.0</td>\n",
       "      <td>0.0</td>\n",
       "    </tr>\n",
       "    <tr>\n",
       "      <th>4</th>\n",
       "      <td>0.0</td>\n",
       "      <td>35.0</td>\n",
       "      <td>40.0</td>\n",
       "      <td>13.0</td>\n",
       "      <td>247.0</td>\n",
       "      <td>247.0</td>\n",
       "      <td>0.0</td>\n",
       "      <td>0.0</td>\n",
       "      <td>0.0</td>\n",
       "      <td>0.0</td>\n",
       "      <td>...</td>\n",
       "      <td>0.0</td>\n",
       "      <td>0.0</td>\n",
       "      <td>0.0</td>\n",
       "      <td>0.0</td>\n",
       "      <td>0.0</td>\n",
       "      <td>0.0</td>\n",
       "      <td>0.0</td>\n",
       "      <td>0.0</td>\n",
       "      <td>0.0</td>\n",
       "      <td>0.0</td>\n",
       "    </tr>\n",
       "  </tbody>\n",
       "</table>\n",
       "<p>5 rows × 72 columns</p>\n",
       "</div>"
      ],
      "text/plain": [
       "   shop_id  item_id  item_category_id  top_categories_id  item_price_0  \\\n",
       "0      0.0     30.0              40.0               13.0           0.0   \n",
       "1      0.0     31.0              37.0               13.0           0.0   \n",
       "2      0.0     32.0              40.0               13.0         221.0   \n",
       "3      0.0     33.0              37.0               13.0         347.0   \n",
       "4      0.0     35.0              40.0               13.0         247.0   \n",
       "\n",
       "   item_price_1  item_price_2  item_price_3  item_price_4  item_price_5  ...  \\\n",
       "0         265.0           0.0           0.0           0.0           0.0  ...   \n",
       "1         434.0           0.0           0.0           0.0           0.0  ...   \n",
       "2         221.0           0.0           0.0           0.0           0.0  ...   \n",
       "3         347.0           0.0           0.0           0.0           0.0  ...   \n",
       "4         247.0           0.0           0.0           0.0           0.0  ...   \n",
       "\n",
       "   item_cnt_day_24  item_cnt_day_25  item_cnt_day_26  item_cnt_day_27  \\\n",
       "0              0.0              0.0              0.0              0.0   \n",
       "1              0.0              0.0              0.0              0.0   \n",
       "2              0.0              0.0              0.0              0.0   \n",
       "3              0.0              0.0              0.0              0.0   \n",
       "4              0.0              0.0              0.0              0.0   \n",
       "\n",
       "   item_cnt_day_28  item_cnt_day_29  item_cnt_day_30  item_cnt_day_31  \\\n",
       "0              0.0              0.0              0.0              0.0   \n",
       "1              0.0              0.0              0.0              0.0   \n",
       "2              0.0              0.0              0.0              0.0   \n",
       "3              0.0              0.0              0.0              0.0   \n",
       "4              0.0              0.0              0.0              0.0   \n",
       "\n",
       "   item_cnt_day_32  item_cnt_day_33  \n",
       "0              0.0              0.0  \n",
       "1              0.0              0.0  \n",
       "2              0.0              0.0  \n",
       "3              0.0              0.0  \n",
       "4              0.0              0.0  \n",
       "\n",
       "[5 rows x 72 columns]"
      ]
     },
     "execution_count": 17,
     "metadata": {},
     "output_type": "execute_result"
    }
   ],
   "source": [
    "result_stacked.head()"
   ]
  },
  {
   "cell_type": "code",
   "execution_count": null,
   "metadata": {
    "collapsed": true
   },
   "outputs": [],
   "source": [
    "save_obj(result_stacked,\"data/result_stacked\")"
   ]
  },
  {
   "cell_type": "code",
   "execution_count": 3,
   "metadata": {},
   "outputs": [],
   "source": [
    "result_stacked = load_obj(\"data/result_stacked\")"
   ]
  },
  {
   "cell_type": "code",
   "execution_count": null,
   "metadata": {},
   "outputs": [],
   "source": [
    "#load the NA rows in test"
   ]
  },
  {
   "cell_type": "code",
   "execution_count": 18,
   "metadata": {},
   "outputs": [],
   "source": [
    "#from Test_data_1\n",
    "result_NA = load_obj(\"data/test_merge_NA\")"
   ]
  },
  {
   "cell_type": "code",
   "execution_count": 19,
   "metadata": {},
   "outputs": [],
   "source": [
    "#fill in missing values from test"
   ]
  },
  {
   "cell_type": "code",
   "execution_count": 20,
   "metadata": {},
   "outputs": [
    {
     "data": {
      "text/html": [
       "<div>\n",
       "<style scoped>\n",
       "    .dataframe tbody tr th:only-of-type {\n",
       "        vertical-align: middle;\n",
       "    }\n",
       "\n",
       "    .dataframe tbody tr th {\n",
       "        vertical-align: top;\n",
       "    }\n",
       "\n",
       "    .dataframe thead th {\n",
       "        text-align: right;\n",
       "    }\n",
       "</style>\n",
       "<table border=\"1\" class=\"dataframe\">\n",
       "  <thead>\n",
       "    <tr style=\"text-align: right;\">\n",
       "      <th></th>\n",
       "      <th>shop_id</th>\n",
       "      <th>item_id</th>\n",
       "      <th>ID</th>\n",
       "      <th>item_category_id</th>\n",
       "      <th>top_categories_id</th>\n",
       "      <th>item_cnt_month</th>\n",
       "    </tr>\n",
       "  </thead>\n",
       "  <tbody>\n",
       "    <tr>\n",
       "      <th>0</th>\n",
       "      <td>5</td>\n",
       "      <td>5320</td>\n",
       "      <td>1</td>\n",
       "      <td>55</td>\n",
       "      <td>15</td>\n",
       "      <td>-999</td>\n",
       "    </tr>\n",
       "    <tr>\n",
       "      <th>1</th>\n",
       "      <td>4</td>\n",
       "      <td>5320</td>\n",
       "      <td>5101</td>\n",
       "      <td>55</td>\n",
       "      <td>15</td>\n",
       "      <td>-999</td>\n",
       "    </tr>\n",
       "    <tr>\n",
       "      <th>2</th>\n",
       "      <td>6</td>\n",
       "      <td>5320</td>\n",
       "      <td>10201</td>\n",
       "      <td>55</td>\n",
       "      <td>15</td>\n",
       "      <td>-999</td>\n",
       "    </tr>\n",
       "    <tr>\n",
       "      <th>3</th>\n",
       "      <td>3</td>\n",
       "      <td>5320</td>\n",
       "      <td>15301</td>\n",
       "      <td>55</td>\n",
       "      <td>15</td>\n",
       "      <td>-999</td>\n",
       "    </tr>\n",
       "    <tr>\n",
       "      <th>4</th>\n",
       "      <td>2</td>\n",
       "      <td>5320</td>\n",
       "      <td>20401</td>\n",
       "      <td>55</td>\n",
       "      <td>15</td>\n",
       "      <td>-999</td>\n",
       "    </tr>\n",
       "  </tbody>\n",
       "</table>\n",
       "</div>"
      ],
      "text/plain": [
       "   shop_id  item_id     ID  item_category_id  top_categories_id  \\\n",
       "0        5     5320      1                55                 15   \n",
       "1        4     5320   5101                55                 15   \n",
       "2        6     5320  10201                55                 15   \n",
       "3        3     5320  15301                55                 15   \n",
       "4        2     5320  20401                55                 15   \n",
       "\n",
       "   item_cnt_month  \n",
       "0            -999  \n",
       "1            -999  \n",
       "2            -999  \n",
       "3            -999  \n",
       "4            -999  "
      ]
     },
     "execution_count": 20,
     "metadata": {},
     "output_type": "execute_result"
    }
   ],
   "source": [
    "result_fill = result_NA.copy()\n",
    "result_fill.head()"
   ]
  },
  {
   "cell_type": "code",
   "execution_count": 21,
   "metadata": {},
   "outputs": [],
   "source": [
    "result_fill = result_fill.drop(columns = [\"ID\",\"item_cnt_month\"])"
   ]
  },
  {
   "cell_type": "code",
   "execution_count": 22,
   "metadata": {},
   "outputs": [
    {
     "data": {
      "text/html": [
       "<div>\n",
       "<style scoped>\n",
       "    .dataframe tbody tr th:only-of-type {\n",
       "        vertical-align: middle;\n",
       "    }\n",
       "\n",
       "    .dataframe tbody tr th {\n",
       "        vertical-align: top;\n",
       "    }\n",
       "\n",
       "    .dataframe thead th {\n",
       "        text-align: right;\n",
       "    }\n",
       "</style>\n",
       "<table border=\"1\" class=\"dataframe\">\n",
       "  <thead>\n",
       "    <tr style=\"text-align: right;\">\n",
       "      <th></th>\n",
       "      <th>shop_id</th>\n",
       "      <th>item_id</th>\n",
       "      <th>item_category_id</th>\n",
       "      <th>top_categories_id</th>\n",
       "    </tr>\n",
       "  </thead>\n",
       "  <tbody>\n",
       "    <tr>\n",
       "      <th>0</th>\n",
       "      <td>5</td>\n",
       "      <td>5320</td>\n",
       "      <td>55</td>\n",
       "      <td>15</td>\n",
       "    </tr>\n",
       "    <tr>\n",
       "      <th>1</th>\n",
       "      <td>4</td>\n",
       "      <td>5320</td>\n",
       "      <td>55</td>\n",
       "      <td>15</td>\n",
       "    </tr>\n",
       "    <tr>\n",
       "      <th>2</th>\n",
       "      <td>6</td>\n",
       "      <td>5320</td>\n",
       "      <td>55</td>\n",
       "      <td>15</td>\n",
       "    </tr>\n",
       "    <tr>\n",
       "      <th>3</th>\n",
       "      <td>3</td>\n",
       "      <td>5320</td>\n",
       "      <td>55</td>\n",
       "      <td>15</td>\n",
       "    </tr>\n",
       "    <tr>\n",
       "      <th>4</th>\n",
       "      <td>2</td>\n",
       "      <td>5320</td>\n",
       "      <td>55</td>\n",
       "      <td>15</td>\n",
       "    </tr>\n",
       "  </tbody>\n",
       "</table>\n",
       "</div>"
      ],
      "text/plain": [
       "   shop_id  item_id  item_category_id  top_categories_id\n",
       "0        5     5320                55                 15\n",
       "1        4     5320                55                 15\n",
       "2        6     5320                55                 15\n",
       "3        3     5320                55                 15\n",
       "4        2     5320                55                 15"
      ]
     },
     "execution_count": 22,
     "metadata": {},
     "output_type": "execute_result"
    }
   ],
   "source": [
    "result_fill.head()"
   ]
  },
  {
   "cell_type": "code",
   "execution_count": 23,
   "metadata": {},
   "outputs": [
    {
     "data": {
      "text/plain": [
       "68"
      ]
     },
     "execution_count": 23,
     "metadata": {},
     "output_type": "execute_result"
    }
   ],
   "source": [
    "len(result_stacked.columns[4:])"
   ]
  },
  {
   "cell_type": "code",
   "execution_count": 24,
   "metadata": {},
   "outputs": [],
   "source": [
    "cols_stacked = result_stacked.columns"
   ]
  },
  {
   "cell_type": "code",
   "execution_count": 25,
   "metadata": {},
   "outputs": [],
   "source": [
    "#add 68 columns of zeros for missing values\n",
    "\n",
    "for i in range(68):\n",
    "    result_fill[i] = 0"
   ]
  },
  {
   "cell_type": "code",
   "execution_count": 26,
   "metadata": {},
   "outputs": [],
   "source": [
    "result_fill.columns = cols_stacked "
   ]
  },
  {
   "cell_type": "code",
   "execution_count": 27,
   "metadata": {},
   "outputs": [],
   "source": [
    "#concat\n",
    "result_stacked  = pd.concat([result_stacked ,result_fill])"
   ]
  },
  {
   "cell_type": "code",
   "execution_count": 28,
   "metadata": {},
   "outputs": [],
   "source": [
    "#concat\n",
    "result_stacked = result_stacked.sort_values(by=\"shop_id\")"
   ]
  },
  {
   "cell_type": "code",
   "execution_count": 29,
   "metadata": {},
   "outputs": [
    {
     "data": {
      "text/html": [
       "<div>\n",
       "<style scoped>\n",
       "    .dataframe tbody tr th:only-of-type {\n",
       "        vertical-align: middle;\n",
       "    }\n",
       "\n",
       "    .dataframe tbody tr th {\n",
       "        vertical-align: top;\n",
       "    }\n",
       "\n",
       "    .dataframe thead th {\n",
       "        text-align: right;\n",
       "    }\n",
       "</style>\n",
       "<table border=\"1\" class=\"dataframe\">\n",
       "  <thead>\n",
       "    <tr style=\"text-align: right;\">\n",
       "      <th></th>\n",
       "      <th>shop_id</th>\n",
       "      <th>item_id</th>\n",
       "      <th>item_category_id</th>\n",
       "      <th>top_categories_id</th>\n",
       "      <th>item_price_0</th>\n",
       "      <th>item_price_1</th>\n",
       "      <th>item_price_2</th>\n",
       "      <th>item_price_3</th>\n",
       "      <th>item_price_4</th>\n",
       "      <th>item_price_5</th>\n",
       "      <th>...</th>\n",
       "      <th>item_cnt_day_24</th>\n",
       "      <th>item_cnt_day_25</th>\n",
       "      <th>item_cnt_day_26</th>\n",
       "      <th>item_cnt_day_27</th>\n",
       "      <th>item_cnt_day_28</th>\n",
       "      <th>item_cnt_day_29</th>\n",
       "      <th>item_cnt_day_30</th>\n",
       "      <th>item_cnt_day_31</th>\n",
       "      <th>item_cnt_day_32</th>\n",
       "      <th>item_cnt_day_33</th>\n",
       "    </tr>\n",
       "  </thead>\n",
       "  <tbody>\n",
       "    <tr>\n",
       "      <th>0</th>\n",
       "      <td>0.0</td>\n",
       "      <td>30.0</td>\n",
       "      <td>40.0</td>\n",
       "      <td>13.0</td>\n",
       "      <td>0.0</td>\n",
       "      <td>265.0</td>\n",
       "      <td>0.0</td>\n",
       "      <td>0.0</td>\n",
       "      <td>0.0</td>\n",
       "      <td>0.0</td>\n",
       "      <td>...</td>\n",
       "      <td>0.0</td>\n",
       "      <td>0.0</td>\n",
       "      <td>0.0</td>\n",
       "      <td>0.0</td>\n",
       "      <td>0.0</td>\n",
       "      <td>0.0</td>\n",
       "      <td>0.0</td>\n",
       "      <td>0.0</td>\n",
       "      <td>0.0</td>\n",
       "      <td>0.0</td>\n",
       "    </tr>\n",
       "    <tr>\n",
       "      <th>2393</th>\n",
       "      <td>0.0</td>\n",
       "      <td>14798.0</td>\n",
       "      <td>40.0</td>\n",
       "      <td>13.0</td>\n",
       "      <td>268.0</td>\n",
       "      <td>268.0</td>\n",
       "      <td>0.0</td>\n",
       "      <td>0.0</td>\n",
       "      <td>0.0</td>\n",
       "      <td>0.0</td>\n",
       "      <td>...</td>\n",
       "      <td>0.0</td>\n",
       "      <td>0.0</td>\n",
       "      <td>0.0</td>\n",
       "      <td>0.0</td>\n",
       "      <td>0.0</td>\n",
       "      <td>0.0</td>\n",
       "      <td>0.0</td>\n",
       "      <td>0.0</td>\n",
       "      <td>0.0</td>\n",
       "      <td>0.0</td>\n",
       "    </tr>\n",
       "    <tr>\n",
       "      <th>2394</th>\n",
       "      <td>0.0</td>\n",
       "      <td>14799.0</td>\n",
       "      <td>37.0</td>\n",
       "      <td>13.0</td>\n",
       "      <td>657.0</td>\n",
       "      <td>657.0</td>\n",
       "      <td>0.0</td>\n",
       "      <td>0.0</td>\n",
       "      <td>0.0</td>\n",
       "      <td>0.0</td>\n",
       "      <td>...</td>\n",
       "      <td>0.0</td>\n",
       "      <td>0.0</td>\n",
       "      <td>0.0</td>\n",
       "      <td>0.0</td>\n",
       "      <td>0.0</td>\n",
       "      <td>0.0</td>\n",
       "      <td>0.0</td>\n",
       "      <td>0.0</td>\n",
       "      <td>0.0</td>\n",
       "      <td>0.0</td>\n",
       "    </tr>\n",
       "    <tr>\n",
       "      <th>2395</th>\n",
       "      <td>0.0</td>\n",
       "      <td>14800.0</td>\n",
       "      <td>40.0</td>\n",
       "      <td>13.0</td>\n",
       "      <td>76.0</td>\n",
       "      <td>0.0</td>\n",
       "      <td>0.0</td>\n",
       "      <td>0.0</td>\n",
       "      <td>0.0</td>\n",
       "      <td>0.0</td>\n",
       "      <td>...</td>\n",
       "      <td>0.0</td>\n",
       "      <td>0.0</td>\n",
       "      <td>0.0</td>\n",
       "      <td>0.0</td>\n",
       "      <td>0.0</td>\n",
       "      <td>0.0</td>\n",
       "      <td>0.0</td>\n",
       "      <td>0.0</td>\n",
       "      <td>0.0</td>\n",
       "      <td>0.0</td>\n",
       "    </tr>\n",
       "    <tr>\n",
       "      <th>2396</th>\n",
       "      <td>0.0</td>\n",
       "      <td>14804.0</td>\n",
       "      <td>37.0</td>\n",
       "      <td>13.0</td>\n",
       "      <td>620.0</td>\n",
       "      <td>620.0</td>\n",
       "      <td>0.0</td>\n",
       "      <td>0.0</td>\n",
       "      <td>0.0</td>\n",
       "      <td>0.0</td>\n",
       "      <td>...</td>\n",
       "      <td>0.0</td>\n",
       "      <td>0.0</td>\n",
       "      <td>0.0</td>\n",
       "      <td>0.0</td>\n",
       "      <td>0.0</td>\n",
       "      <td>0.0</td>\n",
       "      <td>0.0</td>\n",
       "      <td>0.0</td>\n",
       "      <td>0.0</td>\n",
       "      <td>0.0</td>\n",
       "    </tr>\n",
       "  </tbody>\n",
       "</table>\n",
       "<p>5 rows × 72 columns</p>\n",
       "</div>"
      ],
      "text/plain": [
       "      shop_id  item_id  item_category_id  top_categories_id  item_price_0  \\\n",
       "0         0.0     30.0              40.0               13.0           0.0   \n",
       "2393      0.0  14798.0              40.0               13.0         268.0   \n",
       "2394      0.0  14799.0              37.0               13.0         657.0   \n",
       "2395      0.0  14800.0              40.0               13.0          76.0   \n",
       "2396      0.0  14804.0              37.0               13.0         620.0   \n",
       "\n",
       "      item_price_1  item_price_2  item_price_3  item_price_4  item_price_5  \\\n",
       "0            265.0           0.0           0.0           0.0           0.0   \n",
       "2393         268.0           0.0           0.0           0.0           0.0   \n",
       "2394         657.0           0.0           0.0           0.0           0.0   \n",
       "2395           0.0           0.0           0.0           0.0           0.0   \n",
       "2396         620.0           0.0           0.0           0.0           0.0   \n",
       "\n",
       "      ...  item_cnt_day_24  item_cnt_day_25  item_cnt_day_26  item_cnt_day_27  \\\n",
       "0     ...              0.0              0.0              0.0              0.0   \n",
       "2393  ...              0.0              0.0              0.0              0.0   \n",
       "2394  ...              0.0              0.0              0.0              0.0   \n",
       "2395  ...              0.0              0.0              0.0              0.0   \n",
       "2396  ...              0.0              0.0              0.0              0.0   \n",
       "\n",
       "      item_cnt_day_28  item_cnt_day_29  item_cnt_day_30  item_cnt_day_31  \\\n",
       "0                 0.0              0.0              0.0              0.0   \n",
       "2393              0.0              0.0              0.0              0.0   \n",
       "2394              0.0              0.0              0.0              0.0   \n",
       "2395              0.0              0.0              0.0              0.0   \n",
       "2396              0.0              0.0              0.0              0.0   \n",
       "\n",
       "      item_cnt_day_32  item_cnt_day_33  \n",
       "0                 0.0              0.0  \n",
       "2393              0.0              0.0  \n",
       "2394              0.0              0.0  \n",
       "2395              0.0              0.0  \n",
       "2396              0.0              0.0  \n",
       "\n",
       "[5 rows x 72 columns]"
      ]
     },
     "execution_count": 29,
     "metadata": {},
     "output_type": "execute_result"
    }
   ],
   "source": [
    "result_stacked.head()"
   ]
  },
  {
   "cell_type": "code",
   "execution_count": 25,
   "metadata": {},
   "outputs": [],
   "source": [
    "#save\n",
    "save_obj(result_stacked,\"data/result_stacked_complete\")"
   ]
  },
  {
   "cell_type": "code",
   "execution_count": 30,
   "metadata": {},
   "outputs": [],
   "source": [
    "train = result_stacked.drop(columns=[\"item_price_32\",\"item_price_33\",\"item_cnt_day_33\"])\n",
    "#normalize\n",
    "mean_train_price = np.mean(np.array(train.iloc[:,4:36]))\n",
    "std_train_price = np.std(np.array(train.iloc[:,4:36]))"
   ]
  },
  {
   "cell_type": "code",
   "execution_count": 31,
   "metadata": {},
   "outputs": [
    {
     "data": {
      "text/plain": [
       "509.66518271282956"
      ]
     },
     "execution_count": 31,
     "metadata": {},
     "output_type": "execute_result"
    }
   ],
   "source": [
    "std_train_price"
   ]
  },
  {
   "cell_type": "code",
   "execution_count": 32,
   "metadata": {},
   "outputs": [],
   "source": [
    "#standardize\n",
    "for c in range(32):\n",
    "    train.iloc[:,c+4] = (train.iloc[:,c+4] - mean_train_price)/std_train_price"
   ]
  },
  {
   "cell_type": "code",
   "execution_count": 33,
   "metadata": {},
   "outputs": [
    {
     "data": {
      "text/html": [
       "<div>\n",
       "<style scoped>\n",
       "    .dataframe tbody tr th:only-of-type {\n",
       "        vertical-align: middle;\n",
       "    }\n",
       "\n",
       "    .dataframe tbody tr th {\n",
       "        vertical-align: top;\n",
       "    }\n",
       "\n",
       "    .dataframe thead th {\n",
       "        text-align: right;\n",
       "    }\n",
       "</style>\n",
       "<table border=\"1\" class=\"dataframe\">\n",
       "  <thead>\n",
       "    <tr style=\"text-align: right;\">\n",
       "      <th></th>\n",
       "      <th>item_cnt_day_31</th>\n",
       "    </tr>\n",
       "  </thead>\n",
       "  <tbody>\n",
       "    <tr>\n",
       "      <th>0</th>\n",
       "      <td>0.0</td>\n",
       "    </tr>\n",
       "    <tr>\n",
       "      <th>2393</th>\n",
       "      <td>0.0</td>\n",
       "    </tr>\n",
       "    <tr>\n",
       "      <th>2394</th>\n",
       "      <td>0.0</td>\n",
       "    </tr>\n",
       "    <tr>\n",
       "      <th>2395</th>\n",
       "      <td>0.0</td>\n",
       "    </tr>\n",
       "    <tr>\n",
       "      <th>2396</th>\n",
       "      <td>0.0</td>\n",
       "    </tr>\n",
       "  </tbody>\n",
       "</table>\n",
       "</div>"
      ],
      "text/plain": [
       "      item_cnt_day_31\n",
       "0                 0.0\n",
       "2393              0.0\n",
       "2394              0.0\n",
       "2395              0.0\n",
       "2396              0.0"
      ]
     },
     "execution_count": 33,
     "metadata": {},
     "output_type": "execute_result"
    }
   ],
   "source": [
    "train.iloc[:,-2:-1].head()"
   ]
  },
  {
   "cell_type": "code",
   "execution_count": 34,
   "metadata": {},
   "outputs": [],
   "source": [
    "#train is 0-31 month of price, 0-31 month of cnt, to predict cnt #32 \n",
    "X_train_cnt = train.drop(columns=[\"item_cnt_day_32\"])\n",
    "y_train_cnt = train[\"item_cnt_day_32\"]"
   ]
  },
  {
   "cell_type": "code",
   "execution_count": 35,
   "metadata": {},
   "outputs": [
    {
     "data": {
      "text/plain": [
       "0      -0.140107\n",
       "2393   -0.140107\n",
       "2394   -0.140107\n",
       "2395   -0.140107\n",
       "2396   -0.140107\n",
       "Name: item_price_31, dtype: float64"
      ]
     },
     "execution_count": 35,
     "metadata": {},
     "output_type": "execute_result"
    }
   ],
   "source": [
    "X_train_cnt.iloc[:,35].head()"
   ]
  },
  {
   "cell_type": "code",
   "execution_count": 36,
   "metadata": {},
   "outputs": [
    {
     "data": {
      "text/html": [
       "<div>\n",
       "<style scoped>\n",
       "    .dataframe tbody tr th:only-of-type {\n",
       "        vertical-align: middle;\n",
       "    }\n",
       "\n",
       "    .dataframe tbody tr th {\n",
       "        vertical-align: top;\n",
       "    }\n",
       "\n",
       "    .dataframe thead th {\n",
       "        text-align: right;\n",
       "    }\n",
       "</style>\n",
       "<table border=\"1\" class=\"dataframe\">\n",
       "  <thead>\n",
       "    <tr style=\"text-align: right;\">\n",
       "      <th></th>\n",
       "      <th>shop_id</th>\n",
       "      <th>item_id</th>\n",
       "      <th>item_category_id</th>\n",
       "      <th>top_categories_id</th>\n",
       "      <th>item_price_0</th>\n",
       "      <th>item_price_1</th>\n",
       "      <th>item_price_2</th>\n",
       "      <th>item_price_3</th>\n",
       "      <th>item_price_4</th>\n",
       "      <th>item_price_5</th>\n",
       "      <th>...</th>\n",
       "      <th>item_cnt_day_22</th>\n",
       "      <th>item_cnt_day_23</th>\n",
       "      <th>item_cnt_day_24</th>\n",
       "      <th>item_cnt_day_25</th>\n",
       "      <th>item_cnt_day_26</th>\n",
       "      <th>item_cnt_day_27</th>\n",
       "      <th>item_cnt_day_28</th>\n",
       "      <th>item_cnt_day_29</th>\n",
       "      <th>item_cnt_day_30</th>\n",
       "      <th>item_cnt_day_31</th>\n",
       "    </tr>\n",
       "  </thead>\n",
       "  <tbody>\n",
       "    <tr>\n",
       "      <th>0</th>\n",
       "      <td>0.0</td>\n",
       "      <td>30.0</td>\n",
       "      <td>40.0</td>\n",
       "      <td>13.0</td>\n",
       "      <td>-0.140107</td>\n",
       "      <td>0.379843</td>\n",
       "      <td>-0.140107</td>\n",
       "      <td>-0.140107</td>\n",
       "      <td>-0.140107</td>\n",
       "      <td>-0.140107</td>\n",
       "      <td>...</td>\n",
       "      <td>0.0</td>\n",
       "      <td>0.0</td>\n",
       "      <td>0.0</td>\n",
       "      <td>0.0</td>\n",
       "      <td>0.0</td>\n",
       "      <td>0.0</td>\n",
       "      <td>0.0</td>\n",
       "      <td>0.0</td>\n",
       "      <td>0.0</td>\n",
       "      <td>0.0</td>\n",
       "    </tr>\n",
       "    <tr>\n",
       "      <th>2393</th>\n",
       "      <td>0.0</td>\n",
       "      <td>14798.0</td>\n",
       "      <td>40.0</td>\n",
       "      <td>13.0</td>\n",
       "      <td>0.385729</td>\n",
       "      <td>0.385729</td>\n",
       "      <td>-0.140107</td>\n",
       "      <td>-0.140107</td>\n",
       "      <td>-0.140107</td>\n",
       "      <td>-0.140107</td>\n",
       "      <td>...</td>\n",
       "      <td>0.0</td>\n",
       "      <td>0.0</td>\n",
       "      <td>0.0</td>\n",
       "      <td>0.0</td>\n",
       "      <td>0.0</td>\n",
       "      <td>0.0</td>\n",
       "      <td>0.0</td>\n",
       "      <td>0.0</td>\n",
       "      <td>0.0</td>\n",
       "      <td>0.0</td>\n",
       "    </tr>\n",
       "    <tr>\n",
       "      <th>2394</th>\n",
       "      <td>0.0</td>\n",
       "      <td>14799.0</td>\n",
       "      <td>37.0</td>\n",
       "      <td>13.0</td>\n",
       "      <td>1.148975</td>\n",
       "      <td>1.148975</td>\n",
       "      <td>-0.140107</td>\n",
       "      <td>-0.140107</td>\n",
       "      <td>-0.140107</td>\n",
       "      <td>-0.140107</td>\n",
       "      <td>...</td>\n",
       "      <td>0.0</td>\n",
       "      <td>0.0</td>\n",
       "      <td>0.0</td>\n",
       "      <td>0.0</td>\n",
       "      <td>0.0</td>\n",
       "      <td>0.0</td>\n",
       "      <td>0.0</td>\n",
       "      <td>0.0</td>\n",
       "      <td>0.0</td>\n",
       "      <td>0.0</td>\n",
       "    </tr>\n",
       "    <tr>\n",
       "      <th>2395</th>\n",
       "      <td>0.0</td>\n",
       "      <td>14800.0</td>\n",
       "      <td>40.0</td>\n",
       "      <td>13.0</td>\n",
       "      <td>0.009011</td>\n",
       "      <td>-0.140107</td>\n",
       "      <td>-0.140107</td>\n",
       "      <td>-0.140107</td>\n",
       "      <td>-0.140107</td>\n",
       "      <td>-0.140107</td>\n",
       "      <td>...</td>\n",
       "      <td>0.0</td>\n",
       "      <td>0.0</td>\n",
       "      <td>0.0</td>\n",
       "      <td>0.0</td>\n",
       "      <td>0.0</td>\n",
       "      <td>0.0</td>\n",
       "      <td>0.0</td>\n",
       "      <td>0.0</td>\n",
       "      <td>0.0</td>\n",
       "      <td>0.0</td>\n",
       "    </tr>\n",
       "    <tr>\n",
       "      <th>2396</th>\n",
       "      <td>0.0</td>\n",
       "      <td>14804.0</td>\n",
       "      <td>37.0</td>\n",
       "      <td>13.0</td>\n",
       "      <td>1.076378</td>\n",
       "      <td>1.076378</td>\n",
       "      <td>-0.140107</td>\n",
       "      <td>-0.140107</td>\n",
       "      <td>-0.140107</td>\n",
       "      <td>-0.140107</td>\n",
       "      <td>...</td>\n",
       "      <td>0.0</td>\n",
       "      <td>0.0</td>\n",
       "      <td>0.0</td>\n",
       "      <td>0.0</td>\n",
       "      <td>0.0</td>\n",
       "      <td>0.0</td>\n",
       "      <td>0.0</td>\n",
       "      <td>0.0</td>\n",
       "      <td>0.0</td>\n",
       "      <td>0.0</td>\n",
       "    </tr>\n",
       "  </tbody>\n",
       "</table>\n",
       "<p>5 rows × 68 columns</p>\n",
       "</div>"
      ],
      "text/plain": [
       "      shop_id  item_id  item_category_id  top_categories_id  item_price_0  \\\n",
       "0         0.0     30.0              40.0               13.0     -0.140107   \n",
       "2393      0.0  14798.0              40.0               13.0      0.385729   \n",
       "2394      0.0  14799.0              37.0               13.0      1.148975   \n",
       "2395      0.0  14800.0              40.0               13.0      0.009011   \n",
       "2396      0.0  14804.0              37.0               13.0      1.076378   \n",
       "\n",
       "      item_price_1  item_price_2  item_price_3  item_price_4  item_price_5  \\\n",
       "0         0.379843     -0.140107     -0.140107     -0.140107     -0.140107   \n",
       "2393      0.385729     -0.140107     -0.140107     -0.140107     -0.140107   \n",
       "2394      1.148975     -0.140107     -0.140107     -0.140107     -0.140107   \n",
       "2395     -0.140107     -0.140107     -0.140107     -0.140107     -0.140107   \n",
       "2396      1.076378     -0.140107     -0.140107     -0.140107     -0.140107   \n",
       "\n",
       "      ...  item_cnt_day_22  item_cnt_day_23  item_cnt_day_24  item_cnt_day_25  \\\n",
       "0     ...              0.0              0.0              0.0              0.0   \n",
       "2393  ...              0.0              0.0              0.0              0.0   \n",
       "2394  ...              0.0              0.0              0.0              0.0   \n",
       "2395  ...              0.0              0.0              0.0              0.0   \n",
       "2396  ...              0.0              0.0              0.0              0.0   \n",
       "\n",
       "      item_cnt_day_26  item_cnt_day_27  item_cnt_day_28  item_cnt_day_29  \\\n",
       "0                 0.0              0.0              0.0              0.0   \n",
       "2393              0.0              0.0              0.0              0.0   \n",
       "2394              0.0              0.0              0.0              0.0   \n",
       "2395              0.0              0.0              0.0              0.0   \n",
       "2396              0.0              0.0              0.0              0.0   \n",
       "\n",
       "      item_cnt_day_30  item_cnt_day_31  \n",
       "0                 0.0              0.0  \n",
       "2393              0.0              0.0  \n",
       "2394              0.0              0.0  \n",
       "2395              0.0              0.0  \n",
       "2396              0.0              0.0  \n",
       "\n",
       "[5 rows x 68 columns]"
      ]
     },
     "execution_count": 36,
     "metadata": {},
     "output_type": "execute_result"
    }
   ],
   "source": [
    "X_train_cnt.head(5)"
   ]
  },
  {
   "cell_type": "code",
   "execution_count": 37,
   "metadata": {},
   "outputs": [
    {
     "data": {
      "text/plain": [
       "0       31.0\n",
       "2393     1.0\n",
       "2394     2.0\n",
       "2395     0.0\n",
       "2396     1.0\n",
       "Name: item_cnt_day_1, dtype: float64"
      ]
     },
     "execution_count": 37,
     "metadata": {},
     "output_type": "execute_result"
    }
   ],
   "source": [
    "#val is 1-32 month of price, 1-32 month of cnt, to predict cnt #33\n",
    "#test is 2-33 month of price, 2-33 month of cnt, to predict cnt #34\n",
    "val = result_stacked.drop(columns=[\"item_price_0\",\"item_cnt_day_0\",\"item_price_33\"])\n",
    "val.iloc[:,36].head()"
   ]
  },
  {
   "cell_type": "code",
   "execution_count": 38,
   "metadata": {},
   "outputs": [
    {
     "data": {
      "text/html": [
       "<div>\n",
       "<style scoped>\n",
       "    .dataframe tbody tr th:only-of-type {\n",
       "        vertical-align: middle;\n",
       "    }\n",
       "\n",
       "    .dataframe tbody tr th {\n",
       "        vertical-align: top;\n",
       "    }\n",
       "\n",
       "    .dataframe thead th {\n",
       "        text-align: right;\n",
       "    }\n",
       "</style>\n",
       "<table border=\"1\" class=\"dataframe\">\n",
       "  <thead>\n",
       "    <tr style=\"text-align: right;\">\n",
       "      <th></th>\n",
       "      <th>item_price_1</th>\n",
       "      <th>item_price_2</th>\n",
       "      <th>item_price_3</th>\n",
       "      <th>item_price_4</th>\n",
       "      <th>item_price_5</th>\n",
       "      <th>item_price_6</th>\n",
       "      <th>item_price_7</th>\n",
       "      <th>item_price_8</th>\n",
       "      <th>item_price_9</th>\n",
       "      <th>item_price_10</th>\n",
       "      <th>...</th>\n",
       "      <th>item_price_23</th>\n",
       "      <th>item_price_24</th>\n",
       "      <th>item_price_25</th>\n",
       "      <th>item_price_26</th>\n",
       "      <th>item_price_27</th>\n",
       "      <th>item_price_28</th>\n",
       "      <th>item_price_29</th>\n",
       "      <th>item_price_30</th>\n",
       "      <th>item_price_31</th>\n",
       "      <th>item_price_32</th>\n",
       "    </tr>\n",
       "  </thead>\n",
       "  <tbody>\n",
       "    <tr>\n",
       "      <th>0</th>\n",
       "      <td>265.0</td>\n",
       "      <td>0.0</td>\n",
       "      <td>0.0</td>\n",
       "      <td>0.0</td>\n",
       "      <td>0.0</td>\n",
       "      <td>0.0</td>\n",
       "      <td>0.0</td>\n",
       "      <td>0.0</td>\n",
       "      <td>0.0</td>\n",
       "      <td>0.0</td>\n",
       "      <td>...</td>\n",
       "      <td>0.0</td>\n",
       "      <td>0.0</td>\n",
       "      <td>0.0</td>\n",
       "      <td>0.0</td>\n",
       "      <td>0.0</td>\n",
       "      <td>0.0</td>\n",
       "      <td>0.0</td>\n",
       "      <td>0.0</td>\n",
       "      <td>0.0</td>\n",
       "      <td>0.0</td>\n",
       "    </tr>\n",
       "    <tr>\n",
       "      <th>2393</th>\n",
       "      <td>268.0</td>\n",
       "      <td>0.0</td>\n",
       "      <td>0.0</td>\n",
       "      <td>0.0</td>\n",
       "      <td>0.0</td>\n",
       "      <td>0.0</td>\n",
       "      <td>0.0</td>\n",
       "      <td>0.0</td>\n",
       "      <td>0.0</td>\n",
       "      <td>0.0</td>\n",
       "      <td>...</td>\n",
       "      <td>0.0</td>\n",
       "      <td>0.0</td>\n",
       "      <td>0.0</td>\n",
       "      <td>0.0</td>\n",
       "      <td>0.0</td>\n",
       "      <td>0.0</td>\n",
       "      <td>0.0</td>\n",
       "      <td>0.0</td>\n",
       "      <td>0.0</td>\n",
       "      <td>0.0</td>\n",
       "    </tr>\n",
       "    <tr>\n",
       "      <th>2394</th>\n",
       "      <td>657.0</td>\n",
       "      <td>0.0</td>\n",
       "      <td>0.0</td>\n",
       "      <td>0.0</td>\n",
       "      <td>0.0</td>\n",
       "      <td>0.0</td>\n",
       "      <td>0.0</td>\n",
       "      <td>0.0</td>\n",
       "      <td>0.0</td>\n",
       "      <td>0.0</td>\n",
       "      <td>...</td>\n",
       "      <td>0.0</td>\n",
       "      <td>0.0</td>\n",
       "      <td>0.0</td>\n",
       "      <td>0.0</td>\n",
       "      <td>0.0</td>\n",
       "      <td>0.0</td>\n",
       "      <td>0.0</td>\n",
       "      <td>0.0</td>\n",
       "      <td>0.0</td>\n",
       "      <td>0.0</td>\n",
       "    </tr>\n",
       "    <tr>\n",
       "      <th>2395</th>\n",
       "      <td>0.0</td>\n",
       "      <td>0.0</td>\n",
       "      <td>0.0</td>\n",
       "      <td>0.0</td>\n",
       "      <td>0.0</td>\n",
       "      <td>0.0</td>\n",
       "      <td>0.0</td>\n",
       "      <td>0.0</td>\n",
       "      <td>0.0</td>\n",
       "      <td>0.0</td>\n",
       "      <td>...</td>\n",
       "      <td>0.0</td>\n",
       "      <td>0.0</td>\n",
       "      <td>0.0</td>\n",
       "      <td>0.0</td>\n",
       "      <td>0.0</td>\n",
       "      <td>0.0</td>\n",
       "      <td>0.0</td>\n",
       "      <td>0.0</td>\n",
       "      <td>0.0</td>\n",
       "      <td>0.0</td>\n",
       "    </tr>\n",
       "    <tr>\n",
       "      <th>2396</th>\n",
       "      <td>620.0</td>\n",
       "      <td>0.0</td>\n",
       "      <td>0.0</td>\n",
       "      <td>0.0</td>\n",
       "      <td>0.0</td>\n",
       "      <td>0.0</td>\n",
       "      <td>0.0</td>\n",
       "      <td>0.0</td>\n",
       "      <td>0.0</td>\n",
       "      <td>0.0</td>\n",
       "      <td>...</td>\n",
       "      <td>0.0</td>\n",
       "      <td>0.0</td>\n",
       "      <td>0.0</td>\n",
       "      <td>0.0</td>\n",
       "      <td>0.0</td>\n",
       "      <td>0.0</td>\n",
       "      <td>0.0</td>\n",
       "      <td>0.0</td>\n",
       "      <td>0.0</td>\n",
       "      <td>0.0</td>\n",
       "    </tr>\n",
       "  </tbody>\n",
       "</table>\n",
       "<p>5 rows × 32 columns</p>\n",
       "</div>"
      ],
      "text/plain": [
       "      item_price_1  item_price_2  item_price_3  item_price_4  item_price_5  \\\n",
       "0            265.0           0.0           0.0           0.0           0.0   \n",
       "2393         268.0           0.0           0.0           0.0           0.0   \n",
       "2394         657.0           0.0           0.0           0.0           0.0   \n",
       "2395           0.0           0.0           0.0           0.0           0.0   \n",
       "2396         620.0           0.0           0.0           0.0           0.0   \n",
       "\n",
       "      item_price_6  item_price_7  item_price_8  item_price_9  item_price_10  \\\n",
       "0              0.0           0.0           0.0           0.0            0.0   \n",
       "2393           0.0           0.0           0.0           0.0            0.0   \n",
       "2394           0.0           0.0           0.0           0.0            0.0   \n",
       "2395           0.0           0.0           0.0           0.0            0.0   \n",
       "2396           0.0           0.0           0.0           0.0            0.0   \n",
       "\n",
       "      ...  item_price_23  item_price_24  item_price_25  item_price_26  \\\n",
       "0     ...            0.0            0.0            0.0            0.0   \n",
       "2393  ...            0.0            0.0            0.0            0.0   \n",
       "2394  ...            0.0            0.0            0.0            0.0   \n",
       "2395  ...            0.0            0.0            0.0            0.0   \n",
       "2396  ...            0.0            0.0            0.0            0.0   \n",
       "\n",
       "      item_price_27  item_price_28  item_price_29  item_price_30  \\\n",
       "0               0.0            0.0            0.0            0.0   \n",
       "2393            0.0            0.0            0.0            0.0   \n",
       "2394            0.0            0.0            0.0            0.0   \n",
       "2395            0.0            0.0            0.0            0.0   \n",
       "2396            0.0            0.0            0.0            0.0   \n",
       "\n",
       "      item_price_31  item_price_32  \n",
       "0               0.0            0.0  \n",
       "2393            0.0            0.0  \n",
       "2394            0.0            0.0  \n",
       "2395            0.0            0.0  \n",
       "2396            0.0            0.0  \n",
       "\n",
       "[5 rows x 32 columns]"
      ]
     },
     "execution_count": 38,
     "metadata": {},
     "output_type": "execute_result"
    }
   ],
   "source": [
    "val.iloc[:,4:36].head()"
   ]
  },
  {
   "cell_type": "code",
   "execution_count": 39,
   "metadata": {},
   "outputs": [],
   "source": [
    "#normalize\n",
    "mean_val_price = np.mean(np.array(val.iloc[:,4:36]))\n",
    "std_val_price = np.std(np.array(val.iloc[:,4:36]))"
   ]
  },
  {
   "cell_type": "code",
   "execution_count": 40,
   "metadata": {},
   "outputs": [],
   "source": [
    "#standardize\n",
    "for c in range(32):\n",
    "    val.iloc[:,c+4] = (val.iloc[:,c+4] - mean_val_price)/std_val_price"
   ]
  },
  {
   "cell_type": "code",
   "execution_count": 41,
   "metadata": {},
   "outputs": [],
   "source": [
    "X_val_cnt = val.drop(columns=[\"item_cnt_day_33\"])\n",
    "y_val_cnt = val[\"item_cnt_day_33\"]"
   ]
  },
  {
   "cell_type": "code",
   "execution_count": 42,
   "metadata": {},
   "outputs": [
    {
     "data": {
      "text/html": [
       "<div>\n",
       "<style scoped>\n",
       "    .dataframe tbody tr th:only-of-type {\n",
       "        vertical-align: middle;\n",
       "    }\n",
       "\n",
       "    .dataframe tbody tr th {\n",
       "        vertical-align: top;\n",
       "    }\n",
       "\n",
       "    .dataframe thead th {\n",
       "        text-align: right;\n",
       "    }\n",
       "</style>\n",
       "<table border=\"1\" class=\"dataframe\">\n",
       "  <thead>\n",
       "    <tr style=\"text-align: right;\">\n",
       "      <th></th>\n",
       "      <th>item_cnt_day_1</th>\n",
       "      <th>item_cnt_day_2</th>\n",
       "      <th>item_cnt_day_3</th>\n",
       "      <th>item_cnt_day_4</th>\n",
       "      <th>item_cnt_day_5</th>\n",
       "      <th>item_cnt_day_6</th>\n",
       "      <th>item_cnt_day_7</th>\n",
       "      <th>item_cnt_day_8</th>\n",
       "      <th>item_cnt_day_9</th>\n",
       "      <th>item_cnt_day_10</th>\n",
       "      <th>...</th>\n",
       "      <th>item_cnt_day_23</th>\n",
       "      <th>item_cnt_day_24</th>\n",
       "      <th>item_cnt_day_25</th>\n",
       "      <th>item_cnt_day_26</th>\n",
       "      <th>item_cnt_day_27</th>\n",
       "      <th>item_cnt_day_28</th>\n",
       "      <th>item_cnt_day_29</th>\n",
       "      <th>item_cnt_day_30</th>\n",
       "      <th>item_cnt_day_31</th>\n",
       "      <th>item_cnt_day_32</th>\n",
       "    </tr>\n",
       "  </thead>\n",
       "  <tbody>\n",
       "    <tr>\n",
       "      <th>0</th>\n",
       "      <td>31.0</td>\n",
       "      <td>0.0</td>\n",
       "      <td>0.0</td>\n",
       "      <td>0.0</td>\n",
       "      <td>0.0</td>\n",
       "      <td>0.0</td>\n",
       "      <td>0.0</td>\n",
       "      <td>0.0</td>\n",
       "      <td>0.0</td>\n",
       "      <td>0.0</td>\n",
       "      <td>...</td>\n",
       "      <td>0.0</td>\n",
       "      <td>0.0</td>\n",
       "      <td>0.0</td>\n",
       "      <td>0.0</td>\n",
       "      <td>0.0</td>\n",
       "      <td>0.0</td>\n",
       "      <td>0.0</td>\n",
       "      <td>0.0</td>\n",
       "      <td>0.0</td>\n",
       "      <td>0.0</td>\n",
       "    </tr>\n",
       "    <tr>\n",
       "      <th>2393</th>\n",
       "      <td>1.0</td>\n",
       "      <td>0.0</td>\n",
       "      <td>0.0</td>\n",
       "      <td>0.0</td>\n",
       "      <td>0.0</td>\n",
       "      <td>0.0</td>\n",
       "      <td>0.0</td>\n",
       "      <td>0.0</td>\n",
       "      <td>0.0</td>\n",
       "      <td>0.0</td>\n",
       "      <td>...</td>\n",
       "      <td>0.0</td>\n",
       "      <td>0.0</td>\n",
       "      <td>0.0</td>\n",
       "      <td>0.0</td>\n",
       "      <td>0.0</td>\n",
       "      <td>0.0</td>\n",
       "      <td>0.0</td>\n",
       "      <td>0.0</td>\n",
       "      <td>0.0</td>\n",
       "      <td>0.0</td>\n",
       "    </tr>\n",
       "    <tr>\n",
       "      <th>2394</th>\n",
       "      <td>2.0</td>\n",
       "      <td>0.0</td>\n",
       "      <td>0.0</td>\n",
       "      <td>0.0</td>\n",
       "      <td>0.0</td>\n",
       "      <td>0.0</td>\n",
       "      <td>0.0</td>\n",
       "      <td>0.0</td>\n",
       "      <td>0.0</td>\n",
       "      <td>0.0</td>\n",
       "      <td>...</td>\n",
       "      <td>0.0</td>\n",
       "      <td>0.0</td>\n",
       "      <td>0.0</td>\n",
       "      <td>0.0</td>\n",
       "      <td>0.0</td>\n",
       "      <td>0.0</td>\n",
       "      <td>0.0</td>\n",
       "      <td>0.0</td>\n",
       "      <td>0.0</td>\n",
       "      <td>0.0</td>\n",
       "    </tr>\n",
       "    <tr>\n",
       "      <th>2395</th>\n",
       "      <td>0.0</td>\n",
       "      <td>0.0</td>\n",
       "      <td>0.0</td>\n",
       "      <td>0.0</td>\n",
       "      <td>0.0</td>\n",
       "      <td>0.0</td>\n",
       "      <td>0.0</td>\n",
       "      <td>0.0</td>\n",
       "      <td>0.0</td>\n",
       "      <td>0.0</td>\n",
       "      <td>...</td>\n",
       "      <td>0.0</td>\n",
       "      <td>0.0</td>\n",
       "      <td>0.0</td>\n",
       "      <td>0.0</td>\n",
       "      <td>0.0</td>\n",
       "      <td>0.0</td>\n",
       "      <td>0.0</td>\n",
       "      <td>0.0</td>\n",
       "      <td>0.0</td>\n",
       "      <td>0.0</td>\n",
       "    </tr>\n",
       "    <tr>\n",
       "      <th>2396</th>\n",
       "      <td>1.0</td>\n",
       "      <td>0.0</td>\n",
       "      <td>0.0</td>\n",
       "      <td>0.0</td>\n",
       "      <td>0.0</td>\n",
       "      <td>0.0</td>\n",
       "      <td>0.0</td>\n",
       "      <td>0.0</td>\n",
       "      <td>0.0</td>\n",
       "      <td>0.0</td>\n",
       "      <td>...</td>\n",
       "      <td>0.0</td>\n",
       "      <td>0.0</td>\n",
       "      <td>0.0</td>\n",
       "      <td>0.0</td>\n",
       "      <td>0.0</td>\n",
       "      <td>0.0</td>\n",
       "      <td>0.0</td>\n",
       "      <td>0.0</td>\n",
       "      <td>0.0</td>\n",
       "      <td>0.0</td>\n",
       "    </tr>\n",
       "  </tbody>\n",
       "</table>\n",
       "<p>5 rows × 32 columns</p>\n",
       "</div>"
      ],
      "text/plain": [
       "      item_cnt_day_1  item_cnt_day_2  item_cnt_day_3  item_cnt_day_4  \\\n",
       "0               31.0             0.0             0.0             0.0   \n",
       "2393             1.0             0.0             0.0             0.0   \n",
       "2394             2.0             0.0             0.0             0.0   \n",
       "2395             0.0             0.0             0.0             0.0   \n",
       "2396             1.0             0.0             0.0             0.0   \n",
       "\n",
       "      item_cnt_day_5  item_cnt_day_6  item_cnt_day_7  item_cnt_day_8  \\\n",
       "0                0.0             0.0             0.0             0.0   \n",
       "2393             0.0             0.0             0.0             0.0   \n",
       "2394             0.0             0.0             0.0             0.0   \n",
       "2395             0.0             0.0             0.0             0.0   \n",
       "2396             0.0             0.0             0.0             0.0   \n",
       "\n",
       "      item_cnt_day_9  item_cnt_day_10  ...  item_cnt_day_23  item_cnt_day_24  \\\n",
       "0                0.0              0.0  ...              0.0              0.0   \n",
       "2393             0.0              0.0  ...              0.0              0.0   \n",
       "2394             0.0              0.0  ...              0.0              0.0   \n",
       "2395             0.0              0.0  ...              0.0              0.0   \n",
       "2396             0.0              0.0  ...              0.0              0.0   \n",
       "\n",
       "      item_cnt_day_25  item_cnt_day_26  item_cnt_day_27  item_cnt_day_28  \\\n",
       "0                 0.0              0.0              0.0              0.0   \n",
       "2393              0.0              0.0              0.0              0.0   \n",
       "2394              0.0              0.0              0.0              0.0   \n",
       "2395              0.0              0.0              0.0              0.0   \n",
       "2396              0.0              0.0              0.0              0.0   \n",
       "\n",
       "      item_cnt_day_29  item_cnt_day_30  item_cnt_day_31  item_cnt_day_32  \n",
       "0                 0.0              0.0              0.0              0.0  \n",
       "2393              0.0              0.0              0.0              0.0  \n",
       "2394              0.0              0.0              0.0              0.0  \n",
       "2395              0.0              0.0              0.0              0.0  \n",
       "2396              0.0              0.0              0.0              0.0  \n",
       "\n",
       "[5 rows x 32 columns]"
      ]
     },
     "execution_count": 42,
     "metadata": {},
     "output_type": "execute_result"
    }
   ],
   "source": [
    "X_val_cnt.iloc[:,36:].head()"
   ]
  },
  {
   "cell_type": "code",
   "execution_count": 43,
   "metadata": {},
   "outputs": [
    {
     "data": {
      "text/html": [
       "<div>\n",
       "<style scoped>\n",
       "    .dataframe tbody tr th:only-of-type {\n",
       "        vertical-align: middle;\n",
       "    }\n",
       "\n",
       "    .dataframe tbody tr th {\n",
       "        vertical-align: top;\n",
       "    }\n",
       "\n",
       "    .dataframe thead th {\n",
       "        text-align: right;\n",
       "    }\n",
       "</style>\n",
       "<table border=\"1\" class=\"dataframe\">\n",
       "  <thead>\n",
       "    <tr style=\"text-align: right;\">\n",
       "      <th></th>\n",
       "      <th>shop_id</th>\n",
       "      <th>item_id</th>\n",
       "      <th>item_category_id</th>\n",
       "      <th>top_categories_id</th>\n",
       "      <th>item_price_2</th>\n",
       "      <th>item_price_3</th>\n",
       "      <th>item_price_4</th>\n",
       "      <th>item_price_5</th>\n",
       "      <th>item_price_6</th>\n",
       "      <th>item_price_7</th>\n",
       "      <th>...</th>\n",
       "      <th>item_cnt_day_24</th>\n",
       "      <th>item_cnt_day_25</th>\n",
       "      <th>item_cnt_day_26</th>\n",
       "      <th>item_cnt_day_27</th>\n",
       "      <th>item_cnt_day_28</th>\n",
       "      <th>item_cnt_day_29</th>\n",
       "      <th>item_cnt_day_30</th>\n",
       "      <th>item_cnt_day_31</th>\n",
       "      <th>item_cnt_day_32</th>\n",
       "      <th>item_cnt_day_33</th>\n",
       "    </tr>\n",
       "  </thead>\n",
       "  <tbody>\n",
       "    <tr>\n",
       "      <th>0</th>\n",
       "      <td>0.0</td>\n",
       "      <td>30.0</td>\n",
       "      <td>40.0</td>\n",
       "      <td>13.0</td>\n",
       "      <td>0.0</td>\n",
       "      <td>0.0</td>\n",
       "      <td>0.0</td>\n",
       "      <td>0.0</td>\n",
       "      <td>0.0</td>\n",
       "      <td>0.0</td>\n",
       "      <td>...</td>\n",
       "      <td>0.0</td>\n",
       "      <td>0.0</td>\n",
       "      <td>0.0</td>\n",
       "      <td>0.0</td>\n",
       "      <td>0.0</td>\n",
       "      <td>0.0</td>\n",
       "      <td>0.0</td>\n",
       "      <td>0.0</td>\n",
       "      <td>0.0</td>\n",
       "      <td>0.0</td>\n",
       "    </tr>\n",
       "    <tr>\n",
       "      <th>2393</th>\n",
       "      <td>0.0</td>\n",
       "      <td>14798.0</td>\n",
       "      <td>40.0</td>\n",
       "      <td>13.0</td>\n",
       "      <td>0.0</td>\n",
       "      <td>0.0</td>\n",
       "      <td>0.0</td>\n",
       "      <td>0.0</td>\n",
       "      <td>0.0</td>\n",
       "      <td>0.0</td>\n",
       "      <td>...</td>\n",
       "      <td>0.0</td>\n",
       "      <td>0.0</td>\n",
       "      <td>0.0</td>\n",
       "      <td>0.0</td>\n",
       "      <td>0.0</td>\n",
       "      <td>0.0</td>\n",
       "      <td>0.0</td>\n",
       "      <td>0.0</td>\n",
       "      <td>0.0</td>\n",
       "      <td>0.0</td>\n",
       "    </tr>\n",
       "    <tr>\n",
       "      <th>2394</th>\n",
       "      <td>0.0</td>\n",
       "      <td>14799.0</td>\n",
       "      <td>37.0</td>\n",
       "      <td>13.0</td>\n",
       "      <td>0.0</td>\n",
       "      <td>0.0</td>\n",
       "      <td>0.0</td>\n",
       "      <td>0.0</td>\n",
       "      <td>0.0</td>\n",
       "      <td>0.0</td>\n",
       "      <td>...</td>\n",
       "      <td>0.0</td>\n",
       "      <td>0.0</td>\n",
       "      <td>0.0</td>\n",
       "      <td>0.0</td>\n",
       "      <td>0.0</td>\n",
       "      <td>0.0</td>\n",
       "      <td>0.0</td>\n",
       "      <td>0.0</td>\n",
       "      <td>0.0</td>\n",
       "      <td>0.0</td>\n",
       "    </tr>\n",
       "    <tr>\n",
       "      <th>2395</th>\n",
       "      <td>0.0</td>\n",
       "      <td>14800.0</td>\n",
       "      <td>40.0</td>\n",
       "      <td>13.0</td>\n",
       "      <td>0.0</td>\n",
       "      <td>0.0</td>\n",
       "      <td>0.0</td>\n",
       "      <td>0.0</td>\n",
       "      <td>0.0</td>\n",
       "      <td>0.0</td>\n",
       "      <td>...</td>\n",
       "      <td>0.0</td>\n",
       "      <td>0.0</td>\n",
       "      <td>0.0</td>\n",
       "      <td>0.0</td>\n",
       "      <td>0.0</td>\n",
       "      <td>0.0</td>\n",
       "      <td>0.0</td>\n",
       "      <td>0.0</td>\n",
       "      <td>0.0</td>\n",
       "      <td>0.0</td>\n",
       "    </tr>\n",
       "    <tr>\n",
       "      <th>2396</th>\n",
       "      <td>0.0</td>\n",
       "      <td>14804.0</td>\n",
       "      <td>37.0</td>\n",
       "      <td>13.0</td>\n",
       "      <td>0.0</td>\n",
       "      <td>0.0</td>\n",
       "      <td>0.0</td>\n",
       "      <td>0.0</td>\n",
       "      <td>0.0</td>\n",
       "      <td>0.0</td>\n",
       "      <td>...</td>\n",
       "      <td>0.0</td>\n",
       "      <td>0.0</td>\n",
       "      <td>0.0</td>\n",
       "      <td>0.0</td>\n",
       "      <td>0.0</td>\n",
       "      <td>0.0</td>\n",
       "      <td>0.0</td>\n",
       "      <td>0.0</td>\n",
       "      <td>0.0</td>\n",
       "      <td>0.0</td>\n",
       "    </tr>\n",
       "  </tbody>\n",
       "</table>\n",
       "<p>5 rows × 68 columns</p>\n",
       "</div>"
      ],
      "text/plain": [
       "      shop_id  item_id  item_category_id  top_categories_id  item_price_2  \\\n",
       "0         0.0     30.0              40.0               13.0           0.0   \n",
       "2393      0.0  14798.0              40.0               13.0           0.0   \n",
       "2394      0.0  14799.0              37.0               13.0           0.0   \n",
       "2395      0.0  14800.0              40.0               13.0           0.0   \n",
       "2396      0.0  14804.0              37.0               13.0           0.0   \n",
       "\n",
       "      item_price_3  item_price_4  item_price_5  item_price_6  item_price_7  \\\n",
       "0              0.0           0.0           0.0           0.0           0.0   \n",
       "2393           0.0           0.0           0.0           0.0           0.0   \n",
       "2394           0.0           0.0           0.0           0.0           0.0   \n",
       "2395           0.0           0.0           0.0           0.0           0.0   \n",
       "2396           0.0           0.0           0.0           0.0           0.0   \n",
       "\n",
       "      ...  item_cnt_day_24  item_cnt_day_25  item_cnt_day_26  item_cnt_day_27  \\\n",
       "0     ...              0.0              0.0              0.0              0.0   \n",
       "2393  ...              0.0              0.0              0.0              0.0   \n",
       "2394  ...              0.0              0.0              0.0              0.0   \n",
       "2395  ...              0.0              0.0              0.0              0.0   \n",
       "2396  ...              0.0              0.0              0.0              0.0   \n",
       "\n",
       "      item_cnt_day_28  item_cnt_day_29  item_cnt_day_30  item_cnt_day_31  \\\n",
       "0                 0.0              0.0              0.0              0.0   \n",
       "2393              0.0              0.0              0.0              0.0   \n",
       "2394              0.0              0.0              0.0              0.0   \n",
       "2395              0.0              0.0              0.0              0.0   \n",
       "2396              0.0              0.0              0.0              0.0   \n",
       "\n",
       "      item_cnt_day_32  item_cnt_day_33  \n",
       "0                 0.0              0.0  \n",
       "2393              0.0              0.0  \n",
       "2394              0.0              0.0  \n",
       "2395              0.0              0.0  \n",
       "2396              0.0              0.0  \n",
       "\n",
       "[5 rows x 68 columns]"
      ]
     },
     "execution_count": 43,
     "metadata": {},
     "output_type": "execute_result"
    }
   ],
   "source": [
    "#test\n",
    "test = result_stacked.drop(columns=[\"item_price_0\",\"item_cnt_day_0\",\"item_price_1\",\"item_cnt_day_1\"])\n",
    "test.head()"
   ]
  },
  {
   "cell_type": "code",
   "execution_count": 44,
   "metadata": {},
   "outputs": [
    {
     "data": {
      "text/html": [
       "<div>\n",
       "<style scoped>\n",
       "    .dataframe tbody tr th:only-of-type {\n",
       "        vertical-align: middle;\n",
       "    }\n",
       "\n",
       "    .dataframe tbody tr th {\n",
       "        vertical-align: top;\n",
       "    }\n",
       "\n",
       "    .dataframe thead th {\n",
       "        text-align: right;\n",
       "    }\n",
       "</style>\n",
       "<table border=\"1\" class=\"dataframe\">\n",
       "  <thead>\n",
       "    <tr style=\"text-align: right;\">\n",
       "      <th></th>\n",
       "      <th>item_price_2</th>\n",
       "      <th>item_price_3</th>\n",
       "      <th>item_price_4</th>\n",
       "      <th>item_price_5</th>\n",
       "      <th>item_price_6</th>\n",
       "      <th>item_price_7</th>\n",
       "      <th>item_price_8</th>\n",
       "      <th>item_price_9</th>\n",
       "      <th>item_price_10</th>\n",
       "      <th>item_price_11</th>\n",
       "      <th>...</th>\n",
       "      <th>item_price_24</th>\n",
       "      <th>item_price_25</th>\n",
       "      <th>item_price_26</th>\n",
       "      <th>item_price_27</th>\n",
       "      <th>item_price_28</th>\n",
       "      <th>item_price_29</th>\n",
       "      <th>item_price_30</th>\n",
       "      <th>item_price_31</th>\n",
       "      <th>item_price_32</th>\n",
       "      <th>item_price_33</th>\n",
       "    </tr>\n",
       "  </thead>\n",
       "  <tbody>\n",
       "    <tr>\n",
       "      <th>0</th>\n",
       "      <td>0.0</td>\n",
       "      <td>0.0</td>\n",
       "      <td>0.0</td>\n",
       "      <td>0.0</td>\n",
       "      <td>0.0</td>\n",
       "      <td>0.0</td>\n",
       "      <td>0.0</td>\n",
       "      <td>0.0</td>\n",
       "      <td>0.0</td>\n",
       "      <td>0.0</td>\n",
       "      <td>...</td>\n",
       "      <td>0.0</td>\n",
       "      <td>0.0</td>\n",
       "      <td>0.0</td>\n",
       "      <td>0.0</td>\n",
       "      <td>0.0</td>\n",
       "      <td>0.0</td>\n",
       "      <td>0.0</td>\n",
       "      <td>0.0</td>\n",
       "      <td>0.0</td>\n",
       "      <td>0.0</td>\n",
       "    </tr>\n",
       "    <tr>\n",
       "      <th>2393</th>\n",
       "      <td>0.0</td>\n",
       "      <td>0.0</td>\n",
       "      <td>0.0</td>\n",
       "      <td>0.0</td>\n",
       "      <td>0.0</td>\n",
       "      <td>0.0</td>\n",
       "      <td>0.0</td>\n",
       "      <td>0.0</td>\n",
       "      <td>0.0</td>\n",
       "      <td>0.0</td>\n",
       "      <td>...</td>\n",
       "      <td>0.0</td>\n",
       "      <td>0.0</td>\n",
       "      <td>0.0</td>\n",
       "      <td>0.0</td>\n",
       "      <td>0.0</td>\n",
       "      <td>0.0</td>\n",
       "      <td>0.0</td>\n",
       "      <td>0.0</td>\n",
       "      <td>0.0</td>\n",
       "      <td>0.0</td>\n",
       "    </tr>\n",
       "    <tr>\n",
       "      <th>2394</th>\n",
       "      <td>0.0</td>\n",
       "      <td>0.0</td>\n",
       "      <td>0.0</td>\n",
       "      <td>0.0</td>\n",
       "      <td>0.0</td>\n",
       "      <td>0.0</td>\n",
       "      <td>0.0</td>\n",
       "      <td>0.0</td>\n",
       "      <td>0.0</td>\n",
       "      <td>0.0</td>\n",
       "      <td>...</td>\n",
       "      <td>0.0</td>\n",
       "      <td>0.0</td>\n",
       "      <td>0.0</td>\n",
       "      <td>0.0</td>\n",
       "      <td>0.0</td>\n",
       "      <td>0.0</td>\n",
       "      <td>0.0</td>\n",
       "      <td>0.0</td>\n",
       "      <td>0.0</td>\n",
       "      <td>0.0</td>\n",
       "    </tr>\n",
       "    <tr>\n",
       "      <th>2395</th>\n",
       "      <td>0.0</td>\n",
       "      <td>0.0</td>\n",
       "      <td>0.0</td>\n",
       "      <td>0.0</td>\n",
       "      <td>0.0</td>\n",
       "      <td>0.0</td>\n",
       "      <td>0.0</td>\n",
       "      <td>0.0</td>\n",
       "      <td>0.0</td>\n",
       "      <td>0.0</td>\n",
       "      <td>...</td>\n",
       "      <td>0.0</td>\n",
       "      <td>0.0</td>\n",
       "      <td>0.0</td>\n",
       "      <td>0.0</td>\n",
       "      <td>0.0</td>\n",
       "      <td>0.0</td>\n",
       "      <td>0.0</td>\n",
       "      <td>0.0</td>\n",
       "      <td>0.0</td>\n",
       "      <td>0.0</td>\n",
       "    </tr>\n",
       "    <tr>\n",
       "      <th>2396</th>\n",
       "      <td>0.0</td>\n",
       "      <td>0.0</td>\n",
       "      <td>0.0</td>\n",
       "      <td>0.0</td>\n",
       "      <td>0.0</td>\n",
       "      <td>0.0</td>\n",
       "      <td>0.0</td>\n",
       "      <td>0.0</td>\n",
       "      <td>0.0</td>\n",
       "      <td>0.0</td>\n",
       "      <td>...</td>\n",
       "      <td>0.0</td>\n",
       "      <td>0.0</td>\n",
       "      <td>0.0</td>\n",
       "      <td>0.0</td>\n",
       "      <td>0.0</td>\n",
       "      <td>0.0</td>\n",
       "      <td>0.0</td>\n",
       "      <td>0.0</td>\n",
       "      <td>0.0</td>\n",
       "      <td>0.0</td>\n",
       "    </tr>\n",
       "  </tbody>\n",
       "</table>\n",
       "<p>5 rows × 32 columns</p>\n",
       "</div>"
      ],
      "text/plain": [
       "      item_price_2  item_price_3  item_price_4  item_price_5  item_price_6  \\\n",
       "0              0.0           0.0           0.0           0.0           0.0   \n",
       "2393           0.0           0.0           0.0           0.0           0.0   \n",
       "2394           0.0           0.0           0.0           0.0           0.0   \n",
       "2395           0.0           0.0           0.0           0.0           0.0   \n",
       "2396           0.0           0.0           0.0           0.0           0.0   \n",
       "\n",
       "      item_price_7  item_price_8  item_price_9  item_price_10  item_price_11  \\\n",
       "0              0.0           0.0           0.0            0.0            0.0   \n",
       "2393           0.0           0.0           0.0            0.0            0.0   \n",
       "2394           0.0           0.0           0.0            0.0            0.0   \n",
       "2395           0.0           0.0           0.0            0.0            0.0   \n",
       "2396           0.0           0.0           0.0            0.0            0.0   \n",
       "\n",
       "      ...  item_price_24  item_price_25  item_price_26  item_price_27  \\\n",
       "0     ...            0.0            0.0            0.0            0.0   \n",
       "2393  ...            0.0            0.0            0.0            0.0   \n",
       "2394  ...            0.0            0.0            0.0            0.0   \n",
       "2395  ...            0.0            0.0            0.0            0.0   \n",
       "2396  ...            0.0            0.0            0.0            0.0   \n",
       "\n",
       "      item_price_28  item_price_29  item_price_30  item_price_31  \\\n",
       "0               0.0            0.0            0.0            0.0   \n",
       "2393            0.0            0.0            0.0            0.0   \n",
       "2394            0.0            0.0            0.0            0.0   \n",
       "2395            0.0            0.0            0.0            0.0   \n",
       "2396            0.0            0.0            0.0            0.0   \n",
       "\n",
       "      item_price_32  item_price_33  \n",
       "0               0.0            0.0  \n",
       "2393            0.0            0.0  \n",
       "2394            0.0            0.0  \n",
       "2395            0.0            0.0  \n",
       "2396            0.0            0.0  \n",
       "\n",
       "[5 rows x 32 columns]"
      ]
     },
     "execution_count": 44,
     "metadata": {},
     "output_type": "execute_result"
    }
   ],
   "source": [
    "test.iloc[:,4:36].head()"
   ]
  },
  {
   "cell_type": "code",
   "execution_count": 45,
   "metadata": {},
   "outputs": [],
   "source": [
    "#normalize\n",
    "mean_test_price = np.mean(np.array(test.iloc[:,4:36]))\n",
    "std_test_price = np.std(np.array(test.iloc[:,4:36]))"
   ]
  },
  {
   "cell_type": "code",
   "execution_count": 46,
   "metadata": {},
   "outputs": [],
   "source": [
    "#standardize\n",
    "for c in range(32):\n",
    "    test.iloc[:,c+4] = (test.iloc[:,c+4] - mean_test_price)/std_test_price"
   ]
  },
  {
   "cell_type": "code",
   "execution_count": 47,
   "metadata": {},
   "outputs": [],
   "source": [
    "X_test_cnt = test"
   ]
  },
  {
   "cell_type": "code",
   "execution_count": 44,
   "metadata": {},
   "outputs": [],
   "source": [
    "#save the data\n",
    "save_obj(X_train_cnt,\"data/X_train_cnt_complete\")\n",
    "save_obj(y_train_cnt,\"data/y_train_cnt_complete\")\n",
    "save_obj(X_val_cnt,\"data/X_val_cnt_complete\")\n",
    "save_obj(y_val_cnt,\"data/y_val_cnt_complete\")"
   ]
  },
  {
   "cell_type": "code",
   "execution_count": 45,
   "metadata": {},
   "outputs": [],
   "source": [
    "save_obj(X_val_cnt,\"data/X_test_cnt_complete\")"
   ]
  },
  {
   "cell_type": "code",
   "execution_count": 46,
   "metadata": {},
   "outputs": [],
   "source": [
    "#load data\n",
    "X_train_cnt = load_obj(\"data/X_train_cnt_complete\")\n",
    "y_train_cnt = load_obj(\"data/y_train_cnt_complete\")\n",
    "X_val_cnt = load_obj(\"data/X_val_cnt_complete\")\n",
    "y_val_cnt = load_obj(\"data/y_val_cnt_complete\")"
   ]
  },
  {
   "cell_type": "code",
   "execution_count": 48,
   "metadata": {},
   "outputs": [
    {
     "data": {
      "text/html": [
       "<div>\n",
       "<style scoped>\n",
       "    .dataframe tbody tr th:only-of-type {\n",
       "        vertical-align: middle;\n",
       "    }\n",
       "\n",
       "    .dataframe tbody tr th {\n",
       "        vertical-align: top;\n",
       "    }\n",
       "\n",
       "    .dataframe thead th {\n",
       "        text-align: right;\n",
       "    }\n",
       "</style>\n",
       "<table border=\"1\" class=\"dataframe\">\n",
       "  <thead>\n",
       "    <tr style=\"text-align: right;\">\n",
       "      <th></th>\n",
       "      <th>item_cnt_day_1</th>\n",
       "      <th>item_cnt_day_2</th>\n",
       "      <th>item_cnt_day_3</th>\n",
       "      <th>item_cnt_day_4</th>\n",
       "      <th>item_cnt_day_5</th>\n",
       "      <th>item_cnt_day_6</th>\n",
       "      <th>item_cnt_day_7</th>\n",
       "      <th>item_cnt_day_8</th>\n",
       "      <th>item_cnt_day_9</th>\n",
       "      <th>item_cnt_day_10</th>\n",
       "      <th>...</th>\n",
       "      <th>item_cnt_day_23</th>\n",
       "      <th>item_cnt_day_24</th>\n",
       "      <th>item_cnt_day_25</th>\n",
       "      <th>item_cnt_day_26</th>\n",
       "      <th>item_cnt_day_27</th>\n",
       "      <th>item_cnt_day_28</th>\n",
       "      <th>item_cnt_day_29</th>\n",
       "      <th>item_cnt_day_30</th>\n",
       "      <th>item_cnt_day_31</th>\n",
       "      <th>item_cnt_day_32</th>\n",
       "    </tr>\n",
       "  </thead>\n",
       "  <tbody>\n",
       "    <tr>\n",
       "      <th>0</th>\n",
       "      <td>31.0</td>\n",
       "      <td>0.0</td>\n",
       "      <td>0.0</td>\n",
       "      <td>0.0</td>\n",
       "      <td>0.0</td>\n",
       "      <td>0.0</td>\n",
       "      <td>0.0</td>\n",
       "      <td>0.0</td>\n",
       "      <td>0.0</td>\n",
       "      <td>0.0</td>\n",
       "      <td>...</td>\n",
       "      <td>0.0</td>\n",
       "      <td>0.0</td>\n",
       "      <td>0.0</td>\n",
       "      <td>0.0</td>\n",
       "      <td>0.0</td>\n",
       "      <td>0.0</td>\n",
       "      <td>0.0</td>\n",
       "      <td>0.0</td>\n",
       "      <td>0.0</td>\n",
       "      <td>0.0</td>\n",
       "    </tr>\n",
       "    <tr>\n",
       "      <th>2393</th>\n",
       "      <td>1.0</td>\n",
       "      <td>0.0</td>\n",
       "      <td>0.0</td>\n",
       "      <td>0.0</td>\n",
       "      <td>0.0</td>\n",
       "      <td>0.0</td>\n",
       "      <td>0.0</td>\n",
       "      <td>0.0</td>\n",
       "      <td>0.0</td>\n",
       "      <td>0.0</td>\n",
       "      <td>...</td>\n",
       "      <td>0.0</td>\n",
       "      <td>0.0</td>\n",
       "      <td>0.0</td>\n",
       "      <td>0.0</td>\n",
       "      <td>0.0</td>\n",
       "      <td>0.0</td>\n",
       "      <td>0.0</td>\n",
       "      <td>0.0</td>\n",
       "      <td>0.0</td>\n",
       "      <td>0.0</td>\n",
       "    </tr>\n",
       "    <tr>\n",
       "      <th>2394</th>\n",
       "      <td>2.0</td>\n",
       "      <td>0.0</td>\n",
       "      <td>0.0</td>\n",
       "      <td>0.0</td>\n",
       "      <td>0.0</td>\n",
       "      <td>0.0</td>\n",
       "      <td>0.0</td>\n",
       "      <td>0.0</td>\n",
       "      <td>0.0</td>\n",
       "      <td>0.0</td>\n",
       "      <td>...</td>\n",
       "      <td>0.0</td>\n",
       "      <td>0.0</td>\n",
       "      <td>0.0</td>\n",
       "      <td>0.0</td>\n",
       "      <td>0.0</td>\n",
       "      <td>0.0</td>\n",
       "      <td>0.0</td>\n",
       "      <td>0.0</td>\n",
       "      <td>0.0</td>\n",
       "      <td>0.0</td>\n",
       "    </tr>\n",
       "    <tr>\n",
       "      <th>2395</th>\n",
       "      <td>0.0</td>\n",
       "      <td>0.0</td>\n",
       "      <td>0.0</td>\n",
       "      <td>0.0</td>\n",
       "      <td>0.0</td>\n",
       "      <td>0.0</td>\n",
       "      <td>0.0</td>\n",
       "      <td>0.0</td>\n",
       "      <td>0.0</td>\n",
       "      <td>0.0</td>\n",
       "      <td>...</td>\n",
       "      <td>0.0</td>\n",
       "      <td>0.0</td>\n",
       "      <td>0.0</td>\n",
       "      <td>0.0</td>\n",
       "      <td>0.0</td>\n",
       "      <td>0.0</td>\n",
       "      <td>0.0</td>\n",
       "      <td>0.0</td>\n",
       "      <td>0.0</td>\n",
       "      <td>0.0</td>\n",
       "    </tr>\n",
       "    <tr>\n",
       "      <th>2396</th>\n",
       "      <td>1.0</td>\n",
       "      <td>0.0</td>\n",
       "      <td>0.0</td>\n",
       "      <td>0.0</td>\n",
       "      <td>0.0</td>\n",
       "      <td>0.0</td>\n",
       "      <td>0.0</td>\n",
       "      <td>0.0</td>\n",
       "      <td>0.0</td>\n",
       "      <td>0.0</td>\n",
       "      <td>...</td>\n",
       "      <td>0.0</td>\n",
       "      <td>0.0</td>\n",
       "      <td>0.0</td>\n",
       "      <td>0.0</td>\n",
       "      <td>0.0</td>\n",
       "      <td>0.0</td>\n",
       "      <td>0.0</td>\n",
       "      <td>0.0</td>\n",
       "      <td>0.0</td>\n",
       "      <td>0.0</td>\n",
       "    </tr>\n",
       "  </tbody>\n",
       "</table>\n",
       "<p>5 rows × 32 columns</p>\n",
       "</div>"
      ],
      "text/plain": [
       "      item_cnt_day_1  item_cnt_day_2  item_cnt_day_3  item_cnt_day_4  \\\n",
       "0               31.0             0.0             0.0             0.0   \n",
       "2393             1.0             0.0             0.0             0.0   \n",
       "2394             2.0             0.0             0.0             0.0   \n",
       "2395             0.0             0.0             0.0             0.0   \n",
       "2396             1.0             0.0             0.0             0.0   \n",
       "\n",
       "      item_cnt_day_5  item_cnt_day_6  item_cnt_day_7  item_cnt_day_8  \\\n",
       "0                0.0             0.0             0.0             0.0   \n",
       "2393             0.0             0.0             0.0             0.0   \n",
       "2394             0.0             0.0             0.0             0.0   \n",
       "2395             0.0             0.0             0.0             0.0   \n",
       "2396             0.0             0.0             0.0             0.0   \n",
       "\n",
       "      item_cnt_day_9  item_cnt_day_10  ...  item_cnt_day_23  item_cnt_day_24  \\\n",
       "0                0.0              0.0  ...              0.0              0.0   \n",
       "2393             0.0              0.0  ...              0.0              0.0   \n",
       "2394             0.0              0.0  ...              0.0              0.0   \n",
       "2395             0.0              0.0  ...              0.0              0.0   \n",
       "2396             0.0              0.0  ...              0.0              0.0   \n",
       "\n",
       "      item_cnt_day_25  item_cnt_day_26  item_cnt_day_27  item_cnt_day_28  \\\n",
       "0                 0.0              0.0              0.0              0.0   \n",
       "2393              0.0              0.0              0.0              0.0   \n",
       "2394              0.0              0.0              0.0              0.0   \n",
       "2395              0.0              0.0              0.0              0.0   \n",
       "2396              0.0              0.0              0.0              0.0   \n",
       "\n",
       "      item_cnt_day_29  item_cnt_day_30  item_cnt_day_31  item_cnt_day_32  \n",
       "0                 0.0              0.0              0.0              0.0  \n",
       "2393              0.0              0.0              0.0              0.0  \n",
       "2394              0.0              0.0              0.0              0.0  \n",
       "2395              0.0              0.0              0.0              0.0  \n",
       "2396              0.0              0.0              0.0              0.0  \n",
       "\n",
       "[5 rows x 32 columns]"
      ]
     },
     "execution_count": 48,
     "metadata": {},
     "output_type": "execute_result"
    }
   ],
   "source": [
    "X_val_cnt.iloc[:,36:].head()"
   ]
  },
  {
   "cell_type": "code",
   "execution_count": 52,
   "metadata": {},
   "outputs": [],
   "source": [
    "#baseline is taking the average of past sale counts\n",
    "y_val_pred = np.mean(X_val_cnt.iloc[:,36:],axis=1)\n",
    "y_val_true = y_val_cnt"
   ]
  },
  {
   "cell_type": "code",
   "execution_count": 53,
   "metadata": {},
   "outputs": [],
   "source": [
    "from sklearn.metrics import mean_squared_error"
   ]
  },
  {
   "cell_type": "code",
   "execution_count": 54,
   "metadata": {},
   "outputs": [],
   "source": [
    "rmse_base= np.sqrt(mean_squared_error(y_val_true,y_val_pred))"
   ]
  },
  {
   "cell_type": "code",
   "execution_count": 55,
   "metadata": {},
   "outputs": [
    {
     "data": {
      "text/plain": [
       "3.3191501725184964"
      ]
     },
     "execution_count": 55,
     "metadata": {},
     "output_type": "execute_result"
    }
   ],
   "source": [
    "rmse_base"
   ]
  },
  {
   "cell_type": "code",
   "execution_count": 56,
   "metadata": {},
   "outputs": [],
   "source": [
    "#clip the data to (0,20)\n",
    "y_val_pred_clip = y_val_pred.clip(0,20)\n",
    "y_val_true_clip = y_val_true.clip(0,20)"
   ]
  },
  {
   "cell_type": "code",
   "execution_count": 57,
   "metadata": {},
   "outputs": [],
   "source": [
    "rmse_base_clipped = np.sqrt(mean_squared_error(y_val_true_clip,y_val_pred_clip))"
   ]
  },
  {
   "cell_type": "code",
   "execution_count": 58,
   "metadata": {},
   "outputs": [
    {
     "data": {
      "text/plain": [
       "0.8458738697344089"
      ]
     },
     "execution_count": 58,
     "metadata": {},
     "output_type": "execute_result"
    }
   ],
   "source": [
    "rmse_base_clipped"
   ]
  },
  {
   "cell_type": "code",
   "execution_count": 59,
   "metadata": {},
   "outputs": [],
   "source": [
    "#use XGBoost\n",
    "import xgboost as xgb"
   ]
  },
  {
   "cell_type": "code",
   "execution_count": 60,
   "metadata": {},
   "outputs": [
    {
     "name": "stderr",
     "output_type": "stream",
     "text": [
      "C:\\Users\\Zijun\\.conda\\envs\\venv\\lib\\site-packages\\xgboost\\core.py:587: FutureWarning: Series.base is deprecated and will be removed in a future version\n",
      "  if getattr(data, 'base', None) is not None and \\\n",
      "C:\\Users\\Zijun\\.conda\\envs\\venv\\lib\\site-packages\\xgboost\\core.py:588: FutureWarning: Series.base is deprecated and will be removed in a future version\n",
      "  data.base is not None and isinstance(data, np.ndarray) \\\n"
     ]
    },
    {
     "data": {
      "text/plain": [
       "XGBRegressor(base_score=0.5, booster='gbtree', colsample_bylevel=1,\n",
       "             colsample_bynode=1, colsample_bytree=1, gamma=0,\n",
       "             importance_type='gain', learning_rate=0.001, max_delta_step=0,\n",
       "             max_depth=50, min_child_weight=1, missing=None, n_estimators=150,\n",
       "             n_jobs=1, nthread=None, objective='reg:squarederror',\n",
       "             random_state=123, reg_alpha=0, reg_lambda=1, scale_pos_weight=1,\n",
       "             seed=None, silent=None, subsample=1, verbosity=1)"
      ]
     },
     "execution_count": 60,
     "metadata": {},
     "output_type": "execute_result"
    }
   ],
   "source": [
    "model_xgb=xgb.XGBRegressor(random_state=123,n_estimators=150,learning_rate=0.001,max_depth = 50,objective='reg:squarederror')\n",
    "model_xgb.fit(X_train_cnt, y_train_cnt)"
   ]
  },
  {
   "cell_type": "code",
   "execution_count": 61,
   "metadata": {},
   "outputs": [],
   "source": [
    "#rename X_val_cnt\n",
    "cols = X_train_cnt.columns\n",
    "X_val_cnt.columns = cols\n",
    "X_test_cnt.columns = cols"
   ]
  },
  {
   "cell_type": "code",
   "execution_count": 62,
   "metadata": {},
   "outputs": [],
   "source": [
    "pred_val_xgb = model_xgb.predict(X_val_cnt)"
   ]
  },
  {
   "cell_type": "code",
   "execution_count": 63,
   "metadata": {},
   "outputs": [
    {
     "data": {
      "text/plain": [
       "107.1159"
      ]
     },
     "execution_count": 63,
     "metadata": {},
     "output_type": "execute_result"
    }
   ],
   "source": [
    "max(pred_val_xgb)"
   ]
  },
  {
   "cell_type": "code",
   "execution_count": 64,
   "metadata": {},
   "outputs": [],
   "source": [
    "rmse_xgb = np.sqrt(mean_squared_error(y_val_true,pred_val_xgb))"
   ]
  },
  {
   "cell_type": "code",
   "execution_count": 65,
   "metadata": {},
   "outputs": [
    {
     "data": {
      "text/plain": [
       "3.5875433567861927"
      ]
     },
     "execution_count": 65,
     "metadata": {},
     "output_type": "execute_result"
    }
   ],
   "source": [
    "rmse_xgb"
   ]
  },
  {
   "cell_type": "code",
   "execution_count": 66,
   "metadata": {},
   "outputs": [],
   "source": [
    "#clip the data to (0,20)\n",
    "xgb_val_pred_clip = pred_val_xgb.clip(0,20)"
   ]
  },
  {
   "cell_type": "code",
   "execution_count": 67,
   "metadata": {},
   "outputs": [],
   "source": [
    "rmse_xgb_clipped = np.sqrt(mean_squared_error(y_val_true_clip,xgb_val_pred_clip))"
   ]
  },
  {
   "cell_type": "code",
   "execution_count": 68,
   "metadata": {},
   "outputs": [
    {
     "data": {
      "text/plain": [
       "0.8191243432577053"
      ]
     },
     "execution_count": 68,
     "metadata": {},
     "output_type": "execute_result"
    }
   ],
   "source": [
    "rmse_xgb_clipped "
   ]
  },
  {
   "cell_type": "code",
   "execution_count": 69,
   "metadata": {},
   "outputs": [],
   "source": [
    "#feature selection reduce features by the importance\n",
    "#random forest\n",
    "from sklearn.ensemble import RandomForestRegressor"
   ]
  },
  {
   "cell_type": "code",
   "execution_count": 70,
   "metadata": {},
   "outputs": [
    {
     "data": {
      "text/plain": [
       "RandomForestRegressor(bootstrap=False, criterion='mse', max_depth=None,\n",
       "                      max_features=20, max_leaf_nodes=None,\n",
       "                      min_impurity_decrease=0.0, min_impurity_split=None,\n",
       "                      min_samples_leaf=1, min_samples_split=2,\n",
       "                      min_weight_fraction_leaf=0.0, n_estimators=100, n_jobs=1,\n",
       "                      oob_score=False, random_state=123, verbose=0,\n",
       "                      warm_start=False)"
      ]
     },
     "execution_count": 70,
     "metadata": {},
     "output_type": "execute_result"
    }
   ],
   "source": [
    "rf_model = RandomForestRegressor(n_estimators=100, criterion='mse',max_features =20,bootstrap=False,n_jobs=1,random_state = 123)\n",
    "rf_model.fit(X_train_cnt, y_train_cnt)"
   ]
  },
  {
   "cell_type": "code",
   "execution_count": 72,
   "metadata": {},
   "outputs": [
    {
     "name": "stdout",
     "output_type": "stream",
     "text": [
      "item_cnt_day_31 = 0.15621564982269118\n",
      "item_category_id = 0.12215163619101642\n",
      "top_categories_id = 0.11779148704481171\n",
      "item_cnt_day_29 = 0.07272682154437723\n",
      "item_cnt_day_30 = 0.06909484229865002\n",
      "item_cnt_day_28 = 0.0612301621345856\n",
      "item_id = 0.05974449163626635\n",
      "shop_id = 0.04669923804765287\n",
      "item_cnt_day_27 = 0.04156589318280339\n",
      "item_price_28 = 0.034875089960411644\n"
     ]
    }
   ],
   "source": [
    "#features of importance\n",
    "\n",
    "lst_importance = zip(X_train_cnt.columns, rf_model.feature_importances_)\n",
    "lst_imp_sorted = sorted (lst_importance, key = lambda t: t[1])[::-1]\n",
    "\n",
    "#top 10 importance\n",
    "for name, importance in lst_imp_sorted[:10]:\n",
    "    print(name, \"=\", importance)"
   ]
  },
  {
   "cell_type": "code",
   "execution_count": 73,
   "metadata": {},
   "outputs": [],
   "source": [
    "pred_train_rf = rf_model.predict(X_train_cnt) "
   ]
  },
  {
   "cell_type": "code",
   "execution_count": 74,
   "metadata": {},
   "outputs": [
    {
     "data": {
      "text/plain": [
       "0.0"
      ]
     },
     "execution_count": 74,
     "metadata": {},
     "output_type": "execute_result"
    }
   ],
   "source": [
    "rmse_rf_train = np.sqrt(mean_squared_error(y_train_cnt,pred_train_rf))\n",
    "rmse_rf_train"
   ]
  },
  {
   "cell_type": "code",
   "execution_count": 75,
   "metadata": {},
   "outputs": [],
   "source": [
    "#prediction performance\n",
    "pred_val_rf = rf_model.predict(X_val_cnt) "
   ]
  },
  {
   "cell_type": "code",
   "execution_count": 76,
   "metadata": {},
   "outputs": [
    {
     "data": {
      "text/plain": [
       "5.069690661375155"
      ]
     },
     "execution_count": 76,
     "metadata": {},
     "output_type": "execute_result"
    }
   ],
   "source": [
    "rmse_rf = np.sqrt(mean_squared_error(y_val_true,pred_val_rf))\n",
    "rmse_rf "
   ]
  },
  {
   "cell_type": "code",
   "execution_count": 77,
   "metadata": {},
   "outputs": [],
   "source": [
    "pred_val_rf_clip = pred_val_rf.clip(0,20)"
   ]
  },
  {
   "cell_type": "code",
   "execution_count": 78,
   "metadata": {},
   "outputs": [
    {
     "data": {
      "text/plain": [
       "0.7842472998590544"
      ]
     },
     "execution_count": 78,
     "metadata": {},
     "output_type": "execute_result"
    }
   ],
   "source": [
    "rmse_rf_clipped = np.sqrt(mean_squared_error(y_val_true_clip,pred_val_rf_clip))\n",
    "rmse_rf_clipped "
   ]
  },
  {
   "cell_type": "code",
   "execution_count": 79,
   "metadata": {},
   "outputs": [],
   "source": [
    "#mlp\n",
    "from sklearn.neural_network import MLPRegressor"
   ]
  },
  {
   "cell_type": "code",
   "execution_count": 80,
   "metadata": {},
   "outputs": [
    {
     "data": {
      "text/plain": [
       "MLPRegressor(activation='tanh', alpha=0.01, batch_size='auto', beta_1=0.9,\n",
       "             beta_2=0.999, early_stopping=False, epsilon=1e-08,\n",
       "             hidden_layer_sizes=(100, 10), learning_rate='adaptive',\n",
       "             learning_rate_init=0.001, max_iter=500, momentum=0.9,\n",
       "             n_iter_no_change=10, nesterovs_momentum=True, power_t=0.5,\n",
       "             random_state=123, shuffle=True, solver='adam', tol=0.0001,\n",
       "             validation_fraction=0.1, verbose=False, warm_start=False)"
      ]
     },
     "execution_count": 80,
     "metadata": {},
     "output_type": "execute_result"
    }
   ],
   "source": [
    "MLP_model = MLPRegressor(hidden_layer_sizes = (100,10),activation = \"tanh\",learning_rate = \"adaptive\", max_iter = 500,alpha = 0.01,random_state=123)\n",
    "MLP_model.fit(X_train_cnt, y_train_cnt)"
   ]
  },
  {
   "cell_type": "code",
   "execution_count": 81,
   "metadata": {},
   "outputs": [],
   "source": [
    "#prediction performance\n",
    "pred_val_mlp = MLP_model.predict(X_val_cnt)"
   ]
  },
  {
   "cell_type": "code",
   "execution_count": 82,
   "metadata": {},
   "outputs": [
    {
     "data": {
      "text/plain": [
       "3.595107328822808"
      ]
     },
     "execution_count": 82,
     "metadata": {},
     "output_type": "execute_result"
    }
   ],
   "source": [
    "rmse_mlp = np.sqrt(mean_squared_error(y_val_true,pred_val_mlp))\n",
    "rmse_mlp"
   ]
  },
  {
   "cell_type": "code",
   "execution_count": 83,
   "metadata": {},
   "outputs": [
    {
     "data": {
      "text/plain": [
       "0.7746837318526485"
      ]
     },
     "execution_count": 83,
     "metadata": {},
     "output_type": "execute_result"
    }
   ],
   "source": [
    "pred_val_mlp_clip = pred_val_mlp.clip(0,20)\n",
    "rmse_mlp_clip = np.sqrt(mean_squared_error(y_val_true_clip,pred_val_mlp_clip))\n",
    "rmse_mlp_clip"
   ]
  },
  {
   "cell_type": "code",
   "execution_count": 84,
   "metadata": {},
   "outputs": [
    {
     "data": {
      "text/html": [
       "<div>\n",
       "<style scoped>\n",
       "    .dataframe tbody tr th:only-of-type {\n",
       "        vertical-align: middle;\n",
       "    }\n",
       "\n",
       "    .dataframe tbody tr th {\n",
       "        vertical-align: top;\n",
       "    }\n",
       "\n",
       "    .dataframe thead th {\n",
       "        text-align: right;\n",
       "    }\n",
       "</style>\n",
       "<table border=\"1\" class=\"dataframe\">\n",
       "  <thead>\n",
       "    <tr style=\"text-align: right;\">\n",
       "      <th></th>\n",
       "      <th>shop_id</th>\n",
       "      <th>item_id</th>\n",
       "      <th>item_category_id</th>\n",
       "      <th>top_categories_id</th>\n",
       "      <th>item_price_0</th>\n",
       "      <th>item_price_1</th>\n",
       "      <th>item_price_2</th>\n",
       "      <th>item_price_3</th>\n",
       "      <th>item_price_4</th>\n",
       "      <th>item_price_5</th>\n",
       "      <th>...</th>\n",
       "      <th>item_cnt_day_22</th>\n",
       "      <th>item_cnt_day_23</th>\n",
       "      <th>item_cnt_day_24</th>\n",
       "      <th>item_cnt_day_25</th>\n",
       "      <th>item_cnt_day_26</th>\n",
       "      <th>item_cnt_day_27</th>\n",
       "      <th>item_cnt_day_28</th>\n",
       "      <th>item_cnt_day_29</th>\n",
       "      <th>item_cnt_day_30</th>\n",
       "      <th>item_cnt_day_31</th>\n",
       "    </tr>\n",
       "  </thead>\n",
       "  <tbody>\n",
       "    <tr>\n",
       "      <th>0</th>\n",
       "      <td>0.0</td>\n",
       "      <td>30.0</td>\n",
       "      <td>40.0</td>\n",
       "      <td>13.0</td>\n",
       "      <td>-0.140107</td>\n",
       "      <td>0.379843</td>\n",
       "      <td>-0.140107</td>\n",
       "      <td>-0.140107</td>\n",
       "      <td>-0.140107</td>\n",
       "      <td>-0.140107</td>\n",
       "      <td>...</td>\n",
       "      <td>0.0</td>\n",
       "      <td>0.0</td>\n",
       "      <td>0.0</td>\n",
       "      <td>0.0</td>\n",
       "      <td>0.0</td>\n",
       "      <td>0.0</td>\n",
       "      <td>0.0</td>\n",
       "      <td>0.0</td>\n",
       "      <td>0.0</td>\n",
       "      <td>0.0</td>\n",
       "    </tr>\n",
       "    <tr>\n",
       "      <th>2393</th>\n",
       "      <td>0.0</td>\n",
       "      <td>14798.0</td>\n",
       "      <td>40.0</td>\n",
       "      <td>13.0</td>\n",
       "      <td>0.385729</td>\n",
       "      <td>0.385729</td>\n",
       "      <td>-0.140107</td>\n",
       "      <td>-0.140107</td>\n",
       "      <td>-0.140107</td>\n",
       "      <td>-0.140107</td>\n",
       "      <td>...</td>\n",
       "      <td>0.0</td>\n",
       "      <td>0.0</td>\n",
       "      <td>0.0</td>\n",
       "      <td>0.0</td>\n",
       "      <td>0.0</td>\n",
       "      <td>0.0</td>\n",
       "      <td>0.0</td>\n",
       "      <td>0.0</td>\n",
       "      <td>0.0</td>\n",
       "      <td>0.0</td>\n",
       "    </tr>\n",
       "    <tr>\n",
       "      <th>2394</th>\n",
       "      <td>0.0</td>\n",
       "      <td>14799.0</td>\n",
       "      <td>37.0</td>\n",
       "      <td>13.0</td>\n",
       "      <td>1.148975</td>\n",
       "      <td>1.148975</td>\n",
       "      <td>-0.140107</td>\n",
       "      <td>-0.140107</td>\n",
       "      <td>-0.140107</td>\n",
       "      <td>-0.140107</td>\n",
       "      <td>...</td>\n",
       "      <td>0.0</td>\n",
       "      <td>0.0</td>\n",
       "      <td>0.0</td>\n",
       "      <td>0.0</td>\n",
       "      <td>0.0</td>\n",
       "      <td>0.0</td>\n",
       "      <td>0.0</td>\n",
       "      <td>0.0</td>\n",
       "      <td>0.0</td>\n",
       "      <td>0.0</td>\n",
       "    </tr>\n",
       "    <tr>\n",
       "      <th>2395</th>\n",
       "      <td>0.0</td>\n",
       "      <td>14800.0</td>\n",
       "      <td>40.0</td>\n",
       "      <td>13.0</td>\n",
       "      <td>0.009011</td>\n",
       "      <td>-0.140107</td>\n",
       "      <td>-0.140107</td>\n",
       "      <td>-0.140107</td>\n",
       "      <td>-0.140107</td>\n",
       "      <td>-0.140107</td>\n",
       "      <td>...</td>\n",
       "      <td>0.0</td>\n",
       "      <td>0.0</td>\n",
       "      <td>0.0</td>\n",
       "      <td>0.0</td>\n",
       "      <td>0.0</td>\n",
       "      <td>0.0</td>\n",
       "      <td>0.0</td>\n",
       "      <td>0.0</td>\n",
       "      <td>0.0</td>\n",
       "      <td>0.0</td>\n",
       "    </tr>\n",
       "    <tr>\n",
       "      <th>2396</th>\n",
       "      <td>0.0</td>\n",
       "      <td>14804.0</td>\n",
       "      <td>37.0</td>\n",
       "      <td>13.0</td>\n",
       "      <td>1.076378</td>\n",
       "      <td>1.076378</td>\n",
       "      <td>-0.140107</td>\n",
       "      <td>-0.140107</td>\n",
       "      <td>-0.140107</td>\n",
       "      <td>-0.140107</td>\n",
       "      <td>...</td>\n",
       "      <td>0.0</td>\n",
       "      <td>0.0</td>\n",
       "      <td>0.0</td>\n",
       "      <td>0.0</td>\n",
       "      <td>0.0</td>\n",
       "      <td>0.0</td>\n",
       "      <td>0.0</td>\n",
       "      <td>0.0</td>\n",
       "      <td>0.0</td>\n",
       "      <td>0.0</td>\n",
       "    </tr>\n",
       "  </tbody>\n",
       "</table>\n",
       "<p>5 rows × 68 columns</p>\n",
       "</div>"
      ],
      "text/plain": [
       "      shop_id  item_id  item_category_id  top_categories_id  item_price_0  \\\n",
       "0         0.0     30.0              40.0               13.0     -0.140107   \n",
       "2393      0.0  14798.0              40.0               13.0      0.385729   \n",
       "2394      0.0  14799.0              37.0               13.0      1.148975   \n",
       "2395      0.0  14800.0              40.0               13.0      0.009011   \n",
       "2396      0.0  14804.0              37.0               13.0      1.076378   \n",
       "\n",
       "      item_price_1  item_price_2  item_price_3  item_price_4  item_price_5  \\\n",
       "0         0.379843     -0.140107     -0.140107     -0.140107     -0.140107   \n",
       "2393      0.385729     -0.140107     -0.140107     -0.140107     -0.140107   \n",
       "2394      1.148975     -0.140107     -0.140107     -0.140107     -0.140107   \n",
       "2395     -0.140107     -0.140107     -0.140107     -0.140107     -0.140107   \n",
       "2396      1.076378     -0.140107     -0.140107     -0.140107     -0.140107   \n",
       "\n",
       "      ...  item_cnt_day_22  item_cnt_day_23  item_cnt_day_24  item_cnt_day_25  \\\n",
       "0     ...              0.0              0.0              0.0              0.0   \n",
       "2393  ...              0.0              0.0              0.0              0.0   \n",
       "2394  ...              0.0              0.0              0.0              0.0   \n",
       "2395  ...              0.0              0.0              0.0              0.0   \n",
       "2396  ...              0.0              0.0              0.0              0.0   \n",
       "\n",
       "      item_cnt_day_26  item_cnt_day_27  item_cnt_day_28  item_cnt_day_29  \\\n",
       "0                 0.0              0.0              0.0              0.0   \n",
       "2393              0.0              0.0              0.0              0.0   \n",
       "2394              0.0              0.0              0.0              0.0   \n",
       "2395              0.0              0.0              0.0              0.0   \n",
       "2396              0.0              0.0              0.0              0.0   \n",
       "\n",
       "      item_cnt_day_30  item_cnt_day_31  \n",
       "0                 0.0              0.0  \n",
       "2393              0.0              0.0  \n",
       "2394              0.0              0.0  \n",
       "2395              0.0              0.0  \n",
       "2396              0.0              0.0  \n",
       "\n",
       "[5 rows x 68 columns]"
      ]
     },
     "execution_count": 84,
     "metadata": {},
     "output_type": "execute_result"
    }
   ],
   "source": [
    "#creating features using block averages on every 6 months\n",
    "X_train_cnt.head()"
   ]
  },
  {
   "cell_type": "code",
   "execution_count": 85,
   "metadata": {},
   "outputs": [],
   "source": [
    "#add block averages for every 6 months (non-overlapping)\n",
    "X_train_block_avg = X_train_cnt.copy()"
   ]
  },
  {
   "cell_type": "code",
   "execution_count": 86,
   "metadata": {},
   "outputs": [
    {
     "data": {
      "text/html": [
       "<div>\n",
       "<style scoped>\n",
       "    .dataframe tbody tr th:only-of-type {\n",
       "        vertical-align: middle;\n",
       "    }\n",
       "\n",
       "    .dataframe tbody tr th {\n",
       "        vertical-align: top;\n",
       "    }\n",
       "\n",
       "    .dataframe thead th {\n",
       "        text-align: right;\n",
       "    }\n",
       "</style>\n",
       "<table border=\"1\" class=\"dataframe\">\n",
       "  <thead>\n",
       "    <tr style=\"text-align: right;\">\n",
       "      <th></th>\n",
       "      <th>item_price_0</th>\n",
       "      <th>item_price_1</th>\n",
       "      <th>item_price_2</th>\n",
       "      <th>item_price_3</th>\n",
       "      <th>item_price_4</th>\n",
       "      <th>item_price_5</th>\n",
       "      <th>item_price_6</th>\n",
       "      <th>item_price_7</th>\n",
       "      <th>item_price_8</th>\n",
       "      <th>item_price_9</th>\n",
       "      <th>...</th>\n",
       "      <th>item_price_22</th>\n",
       "      <th>item_price_23</th>\n",
       "      <th>item_price_24</th>\n",
       "      <th>item_price_25</th>\n",
       "      <th>item_price_26</th>\n",
       "      <th>item_price_27</th>\n",
       "      <th>item_price_28</th>\n",
       "      <th>item_price_29</th>\n",
       "      <th>item_price_30</th>\n",
       "      <th>item_price_31</th>\n",
       "    </tr>\n",
       "  </thead>\n",
       "  <tbody>\n",
       "    <tr>\n",
       "      <th>0</th>\n",
       "      <td>-0.140107</td>\n",
       "      <td>0.379843</td>\n",
       "      <td>-0.140107</td>\n",
       "      <td>-0.140107</td>\n",
       "      <td>-0.140107</td>\n",
       "      <td>-0.140107</td>\n",
       "      <td>-0.140107</td>\n",
       "      <td>-0.140107</td>\n",
       "      <td>-0.140107</td>\n",
       "      <td>-0.140107</td>\n",
       "      <td>...</td>\n",
       "      <td>-0.140107</td>\n",
       "      <td>-0.140107</td>\n",
       "      <td>-0.140107</td>\n",
       "      <td>-0.140107</td>\n",
       "      <td>-0.140107</td>\n",
       "      <td>-0.140107</td>\n",
       "      <td>-0.140107</td>\n",
       "      <td>-0.140107</td>\n",
       "      <td>-0.140107</td>\n",
       "      <td>-0.140107</td>\n",
       "    </tr>\n",
       "    <tr>\n",
       "      <th>2393</th>\n",
       "      <td>0.385729</td>\n",
       "      <td>0.385729</td>\n",
       "      <td>-0.140107</td>\n",
       "      <td>-0.140107</td>\n",
       "      <td>-0.140107</td>\n",
       "      <td>-0.140107</td>\n",
       "      <td>-0.140107</td>\n",
       "      <td>-0.140107</td>\n",
       "      <td>-0.140107</td>\n",
       "      <td>-0.140107</td>\n",
       "      <td>...</td>\n",
       "      <td>-0.140107</td>\n",
       "      <td>-0.140107</td>\n",
       "      <td>-0.140107</td>\n",
       "      <td>-0.140107</td>\n",
       "      <td>-0.140107</td>\n",
       "      <td>-0.140107</td>\n",
       "      <td>-0.140107</td>\n",
       "      <td>-0.140107</td>\n",
       "      <td>-0.140107</td>\n",
       "      <td>-0.140107</td>\n",
       "    </tr>\n",
       "    <tr>\n",
       "      <th>2394</th>\n",
       "      <td>1.148975</td>\n",
       "      <td>1.148975</td>\n",
       "      <td>-0.140107</td>\n",
       "      <td>-0.140107</td>\n",
       "      <td>-0.140107</td>\n",
       "      <td>-0.140107</td>\n",
       "      <td>-0.140107</td>\n",
       "      <td>-0.140107</td>\n",
       "      <td>-0.140107</td>\n",
       "      <td>-0.140107</td>\n",
       "      <td>...</td>\n",
       "      <td>-0.140107</td>\n",
       "      <td>-0.140107</td>\n",
       "      <td>-0.140107</td>\n",
       "      <td>-0.140107</td>\n",
       "      <td>-0.140107</td>\n",
       "      <td>-0.140107</td>\n",
       "      <td>-0.140107</td>\n",
       "      <td>-0.140107</td>\n",
       "      <td>-0.140107</td>\n",
       "      <td>-0.140107</td>\n",
       "    </tr>\n",
       "    <tr>\n",
       "      <th>2395</th>\n",
       "      <td>0.009011</td>\n",
       "      <td>-0.140107</td>\n",
       "      <td>-0.140107</td>\n",
       "      <td>-0.140107</td>\n",
       "      <td>-0.140107</td>\n",
       "      <td>-0.140107</td>\n",
       "      <td>-0.140107</td>\n",
       "      <td>-0.140107</td>\n",
       "      <td>-0.140107</td>\n",
       "      <td>-0.140107</td>\n",
       "      <td>...</td>\n",
       "      <td>-0.140107</td>\n",
       "      <td>-0.140107</td>\n",
       "      <td>-0.140107</td>\n",
       "      <td>-0.140107</td>\n",
       "      <td>-0.140107</td>\n",
       "      <td>-0.140107</td>\n",
       "      <td>-0.140107</td>\n",
       "      <td>-0.140107</td>\n",
       "      <td>-0.140107</td>\n",
       "      <td>-0.140107</td>\n",
       "    </tr>\n",
       "    <tr>\n",
       "      <th>2396</th>\n",
       "      <td>1.076378</td>\n",
       "      <td>1.076378</td>\n",
       "      <td>-0.140107</td>\n",
       "      <td>-0.140107</td>\n",
       "      <td>-0.140107</td>\n",
       "      <td>-0.140107</td>\n",
       "      <td>-0.140107</td>\n",
       "      <td>-0.140107</td>\n",
       "      <td>-0.140107</td>\n",
       "      <td>-0.140107</td>\n",
       "      <td>...</td>\n",
       "      <td>-0.140107</td>\n",
       "      <td>-0.140107</td>\n",
       "      <td>-0.140107</td>\n",
       "      <td>-0.140107</td>\n",
       "      <td>-0.140107</td>\n",
       "      <td>-0.140107</td>\n",
       "      <td>-0.140107</td>\n",
       "      <td>-0.140107</td>\n",
       "      <td>-0.140107</td>\n",
       "      <td>-0.140107</td>\n",
       "    </tr>\n",
       "  </tbody>\n",
       "</table>\n",
       "<p>5 rows × 32 columns</p>\n",
       "</div>"
      ],
      "text/plain": [
       "      item_price_0  item_price_1  item_price_2  item_price_3  item_price_4  \\\n",
       "0        -0.140107      0.379843     -0.140107     -0.140107     -0.140107   \n",
       "2393      0.385729      0.385729     -0.140107     -0.140107     -0.140107   \n",
       "2394      1.148975      1.148975     -0.140107     -0.140107     -0.140107   \n",
       "2395      0.009011     -0.140107     -0.140107     -0.140107     -0.140107   \n",
       "2396      1.076378      1.076378     -0.140107     -0.140107     -0.140107   \n",
       "\n",
       "      item_price_5  item_price_6  item_price_7  item_price_8  item_price_9  \\\n",
       "0        -0.140107     -0.140107     -0.140107     -0.140107     -0.140107   \n",
       "2393     -0.140107     -0.140107     -0.140107     -0.140107     -0.140107   \n",
       "2394     -0.140107     -0.140107     -0.140107     -0.140107     -0.140107   \n",
       "2395     -0.140107     -0.140107     -0.140107     -0.140107     -0.140107   \n",
       "2396     -0.140107     -0.140107     -0.140107     -0.140107     -0.140107   \n",
       "\n",
       "      ...  item_price_22  item_price_23  item_price_24  item_price_25  \\\n",
       "0     ...      -0.140107      -0.140107      -0.140107      -0.140107   \n",
       "2393  ...      -0.140107      -0.140107      -0.140107      -0.140107   \n",
       "2394  ...      -0.140107      -0.140107      -0.140107      -0.140107   \n",
       "2395  ...      -0.140107      -0.140107      -0.140107      -0.140107   \n",
       "2396  ...      -0.140107      -0.140107      -0.140107      -0.140107   \n",
       "\n",
       "      item_price_26  item_price_27  item_price_28  item_price_29  \\\n",
       "0         -0.140107      -0.140107      -0.140107      -0.140107   \n",
       "2393      -0.140107      -0.140107      -0.140107      -0.140107   \n",
       "2394      -0.140107      -0.140107      -0.140107      -0.140107   \n",
       "2395      -0.140107      -0.140107      -0.140107      -0.140107   \n",
       "2396      -0.140107      -0.140107      -0.140107      -0.140107   \n",
       "\n",
       "      item_price_30  item_price_31  \n",
       "0         -0.140107      -0.140107  \n",
       "2393      -0.140107      -0.140107  \n",
       "2394      -0.140107      -0.140107  \n",
       "2395      -0.140107      -0.140107  \n",
       "2396      -0.140107      -0.140107  \n",
       "\n",
       "[5 rows x 32 columns]"
      ]
     },
     "execution_count": 86,
     "metadata": {},
     "output_type": "execute_result"
    }
   ],
   "source": [
    "X_train_block_avg.iloc[:,4:36].head()"
   ]
  },
  {
   "cell_type": "code",
   "execution_count": 87,
   "metadata": {},
   "outputs": [
    {
     "data": {
      "text/html": [
       "<div>\n",
       "<style scoped>\n",
       "    .dataframe tbody tr th:only-of-type {\n",
       "        vertical-align: middle;\n",
       "    }\n",
       "\n",
       "    .dataframe tbody tr th {\n",
       "        vertical-align: top;\n",
       "    }\n",
       "\n",
       "    .dataframe thead th {\n",
       "        text-align: right;\n",
       "    }\n",
       "</style>\n",
       "<table border=\"1\" class=\"dataframe\">\n",
       "  <thead>\n",
       "    <tr style=\"text-align: right;\">\n",
       "      <th></th>\n",
       "      <th>item_cnt_day_0</th>\n",
       "      <th>item_cnt_day_1</th>\n",
       "      <th>item_cnt_day_2</th>\n",
       "      <th>item_cnt_day_3</th>\n",
       "      <th>item_cnt_day_4</th>\n",
       "      <th>item_cnt_day_5</th>\n",
       "      <th>item_cnt_day_6</th>\n",
       "      <th>item_cnt_day_7</th>\n",
       "      <th>item_cnt_day_8</th>\n",
       "      <th>item_cnt_day_9</th>\n",
       "      <th>...</th>\n",
       "      <th>item_cnt_day_22</th>\n",
       "      <th>item_cnt_day_23</th>\n",
       "      <th>item_cnt_day_24</th>\n",
       "      <th>item_cnt_day_25</th>\n",
       "      <th>item_cnt_day_26</th>\n",
       "      <th>item_cnt_day_27</th>\n",
       "      <th>item_cnt_day_28</th>\n",
       "      <th>item_cnt_day_29</th>\n",
       "      <th>item_cnt_day_30</th>\n",
       "      <th>item_cnt_day_31</th>\n",
       "    </tr>\n",
       "  </thead>\n",
       "  <tbody>\n",
       "    <tr>\n",
       "      <th>0</th>\n",
       "      <td>0.0</td>\n",
       "      <td>31.0</td>\n",
       "      <td>0.0</td>\n",
       "      <td>0.0</td>\n",
       "      <td>0.0</td>\n",
       "      <td>0.0</td>\n",
       "      <td>0.0</td>\n",
       "      <td>0.0</td>\n",
       "      <td>0.0</td>\n",
       "      <td>0.0</td>\n",
       "      <td>...</td>\n",
       "      <td>0.0</td>\n",
       "      <td>0.0</td>\n",
       "      <td>0.0</td>\n",
       "      <td>0.0</td>\n",
       "      <td>0.0</td>\n",
       "      <td>0.0</td>\n",
       "      <td>0.0</td>\n",
       "      <td>0.0</td>\n",
       "      <td>0.0</td>\n",
       "      <td>0.0</td>\n",
       "    </tr>\n",
       "    <tr>\n",
       "      <th>2393</th>\n",
       "      <td>10.0</td>\n",
       "      <td>1.0</td>\n",
       "      <td>0.0</td>\n",
       "      <td>0.0</td>\n",
       "      <td>0.0</td>\n",
       "      <td>0.0</td>\n",
       "      <td>0.0</td>\n",
       "      <td>0.0</td>\n",
       "      <td>0.0</td>\n",
       "      <td>0.0</td>\n",
       "      <td>...</td>\n",
       "      <td>0.0</td>\n",
       "      <td>0.0</td>\n",
       "      <td>0.0</td>\n",
       "      <td>0.0</td>\n",
       "      <td>0.0</td>\n",
       "      <td>0.0</td>\n",
       "      <td>0.0</td>\n",
       "      <td>0.0</td>\n",
       "      <td>0.0</td>\n",
       "      <td>0.0</td>\n",
       "    </tr>\n",
       "    <tr>\n",
       "      <th>2394</th>\n",
       "      <td>2.0</td>\n",
       "      <td>2.0</td>\n",
       "      <td>0.0</td>\n",
       "      <td>0.0</td>\n",
       "      <td>0.0</td>\n",
       "      <td>0.0</td>\n",
       "      <td>0.0</td>\n",
       "      <td>0.0</td>\n",
       "      <td>0.0</td>\n",
       "      <td>0.0</td>\n",
       "      <td>...</td>\n",
       "      <td>0.0</td>\n",
       "      <td>0.0</td>\n",
       "      <td>0.0</td>\n",
       "      <td>0.0</td>\n",
       "      <td>0.0</td>\n",
       "      <td>0.0</td>\n",
       "      <td>0.0</td>\n",
       "      <td>0.0</td>\n",
       "      <td>0.0</td>\n",
       "      <td>0.0</td>\n",
       "    </tr>\n",
       "    <tr>\n",
       "      <th>2395</th>\n",
       "      <td>2.0</td>\n",
       "      <td>0.0</td>\n",
       "      <td>0.0</td>\n",
       "      <td>0.0</td>\n",
       "      <td>0.0</td>\n",
       "      <td>0.0</td>\n",
       "      <td>0.0</td>\n",
       "      <td>0.0</td>\n",
       "      <td>0.0</td>\n",
       "      <td>0.0</td>\n",
       "      <td>...</td>\n",
       "      <td>0.0</td>\n",
       "      <td>0.0</td>\n",
       "      <td>0.0</td>\n",
       "      <td>0.0</td>\n",
       "      <td>0.0</td>\n",
       "      <td>0.0</td>\n",
       "      <td>0.0</td>\n",
       "      <td>0.0</td>\n",
       "      <td>0.0</td>\n",
       "      <td>0.0</td>\n",
       "    </tr>\n",
       "    <tr>\n",
       "      <th>2396</th>\n",
       "      <td>1.0</td>\n",
       "      <td>1.0</td>\n",
       "      <td>0.0</td>\n",
       "      <td>0.0</td>\n",
       "      <td>0.0</td>\n",
       "      <td>0.0</td>\n",
       "      <td>0.0</td>\n",
       "      <td>0.0</td>\n",
       "      <td>0.0</td>\n",
       "      <td>0.0</td>\n",
       "      <td>...</td>\n",
       "      <td>0.0</td>\n",
       "      <td>0.0</td>\n",
       "      <td>0.0</td>\n",
       "      <td>0.0</td>\n",
       "      <td>0.0</td>\n",
       "      <td>0.0</td>\n",
       "      <td>0.0</td>\n",
       "      <td>0.0</td>\n",
       "      <td>0.0</td>\n",
       "      <td>0.0</td>\n",
       "    </tr>\n",
       "  </tbody>\n",
       "</table>\n",
       "<p>5 rows × 32 columns</p>\n",
       "</div>"
      ],
      "text/plain": [
       "      item_cnt_day_0  item_cnt_day_1  item_cnt_day_2  item_cnt_day_3  \\\n",
       "0                0.0            31.0             0.0             0.0   \n",
       "2393            10.0             1.0             0.0             0.0   \n",
       "2394             2.0             2.0             0.0             0.0   \n",
       "2395             2.0             0.0             0.0             0.0   \n",
       "2396             1.0             1.0             0.0             0.0   \n",
       "\n",
       "      item_cnt_day_4  item_cnt_day_5  item_cnt_day_6  item_cnt_day_7  \\\n",
       "0                0.0             0.0             0.0             0.0   \n",
       "2393             0.0             0.0             0.0             0.0   \n",
       "2394             0.0             0.0             0.0             0.0   \n",
       "2395             0.0             0.0             0.0             0.0   \n",
       "2396             0.0             0.0             0.0             0.0   \n",
       "\n",
       "      item_cnt_day_8  item_cnt_day_9  ...  item_cnt_day_22  item_cnt_day_23  \\\n",
       "0                0.0             0.0  ...              0.0              0.0   \n",
       "2393             0.0             0.0  ...              0.0              0.0   \n",
       "2394             0.0             0.0  ...              0.0              0.0   \n",
       "2395             0.0             0.0  ...              0.0              0.0   \n",
       "2396             0.0             0.0  ...              0.0              0.0   \n",
       "\n",
       "      item_cnt_day_24  item_cnt_day_25  item_cnt_day_26  item_cnt_day_27  \\\n",
       "0                 0.0              0.0              0.0              0.0   \n",
       "2393              0.0              0.0              0.0              0.0   \n",
       "2394              0.0              0.0              0.0              0.0   \n",
       "2395              0.0              0.0              0.0              0.0   \n",
       "2396              0.0              0.0              0.0              0.0   \n",
       "\n",
       "      item_cnt_day_28  item_cnt_day_29  item_cnt_day_30  item_cnt_day_31  \n",
       "0                 0.0              0.0              0.0              0.0  \n",
       "2393              0.0              0.0              0.0              0.0  \n",
       "2394              0.0              0.0              0.0              0.0  \n",
       "2395              0.0              0.0              0.0              0.0  \n",
       "2396              0.0              0.0              0.0              0.0  \n",
       "\n",
       "[5 rows x 32 columns]"
      ]
     },
     "execution_count": 87,
     "metadata": {},
     "output_type": "execute_result"
    }
   ],
   "source": [
    "X_train_block_avg.iloc[:,36:].head()"
   ]
  },
  {
   "cell_type": "code",
   "execution_count": 88,
   "metadata": {},
   "outputs": [
    {
     "data": {
      "text/plain": [
       "0        -0.053448\n",
       "2393      0.035172\n",
       "2394      0.289587\n",
       "2395     -0.115254\n",
       "2396      0.265388\n",
       "            ...   \n",
       "418875    0.039423\n",
       "96082    -0.140107\n",
       "424018   -0.140107\n",
       "423139   -0.140107\n",
       "422843   -0.140107\n",
       "Length: 526920, dtype: float64"
      ]
     },
     "execution_count": 88,
     "metadata": {},
     "output_type": "execute_result"
    }
   ],
   "source": [
    "np.mean(X_train_cnt.iloc[:,4:10],axis=1)"
   ]
  },
  {
   "cell_type": "code",
   "execution_count": 89,
   "metadata": {},
   "outputs": [],
   "source": [
    "cols_to_drop = cols[4:]"
   ]
  },
  {
   "cell_type": "code",
   "execution_count": 90,
   "metadata": {},
   "outputs": [
    {
     "name": "stdout",
     "output_type": "stream",
     "text": [
      "0\n",
      "1\n",
      "2\n",
      "3\n",
      "4\n",
      "5\n"
     ]
    }
   ],
   "source": [
    "#adding price averages\n",
    "for i in range(6):\n",
    "    print(i)\n",
    "    if i < 5:\n",
    "        X_train_block_avg[\"item_price_avg_\"+str(i)] = np.mean(X_train_cnt.iloc[:,(6*i+4):(6*i+4+6)],axis=1)\n",
    "    else:\n",
    "        X_train_block_avg[\"item_price_avg_\"+str(i)] = np.mean(X_train_cnt.iloc[:,(6*i+4):36],axis=1)"
   ]
  },
  {
   "cell_type": "code",
   "execution_count": 91,
   "metadata": {},
   "outputs": [
    {
     "name": "stdout",
     "output_type": "stream",
     "text": [
      "0\n",
      "1\n",
      "2\n",
      "3\n",
      "4\n",
      "5\n"
     ]
    }
   ],
   "source": [
    "#same for cnt averages\n",
    "for i in range(6):\n",
    "    print(i)\n",
    "    if i < 5:\n",
    "        X_train_block_avg[\"cnt_avg_\"+str(i)] = np.mean(X_train_cnt.iloc[:,(6*i+36):(6*i+36+6)],axis=1)\n",
    "    else:\n",
    "        X_train_block_avg[\"cnt_avg_\"+str(i)] = np.mean(X_train_cnt.iloc[:,(6*i+36):],axis=1)"
   ]
  },
  {
   "cell_type": "code",
   "execution_count": 92,
   "metadata": {},
   "outputs": [],
   "source": [
    "X_train_block =  X_train_block_avg.drop(columns = cols_to_drop)"
   ]
  },
  {
   "cell_type": "code",
   "execution_count": 93,
   "metadata": {},
   "outputs": [
    {
     "data": {
      "text/html": [
       "<div>\n",
       "<style scoped>\n",
       "    .dataframe tbody tr th:only-of-type {\n",
       "        vertical-align: middle;\n",
       "    }\n",
       "\n",
       "    .dataframe tbody tr th {\n",
       "        vertical-align: top;\n",
       "    }\n",
       "\n",
       "    .dataframe thead th {\n",
       "        text-align: right;\n",
       "    }\n",
       "</style>\n",
       "<table border=\"1\" class=\"dataframe\">\n",
       "  <thead>\n",
       "    <tr style=\"text-align: right;\">\n",
       "      <th></th>\n",
       "      <th>shop_id</th>\n",
       "      <th>item_id</th>\n",
       "      <th>item_category_id</th>\n",
       "      <th>top_categories_id</th>\n",
       "      <th>item_price_avg_0</th>\n",
       "      <th>item_price_avg_1</th>\n",
       "      <th>item_price_avg_2</th>\n",
       "      <th>item_price_avg_3</th>\n",
       "      <th>item_price_avg_4</th>\n",
       "      <th>item_price_avg_5</th>\n",
       "      <th>cnt_avg_0</th>\n",
       "      <th>cnt_avg_1</th>\n",
       "      <th>cnt_avg_2</th>\n",
       "      <th>cnt_avg_3</th>\n",
       "      <th>cnt_avg_4</th>\n",
       "      <th>cnt_avg_5</th>\n",
       "    </tr>\n",
       "  </thead>\n",
       "  <tbody>\n",
       "    <tr>\n",
       "      <th>0</th>\n",
       "      <td>0.0</td>\n",
       "      <td>30.0</td>\n",
       "      <td>40.0</td>\n",
       "      <td>13.0</td>\n",
       "      <td>-0.053448</td>\n",
       "      <td>-0.140107</td>\n",
       "      <td>-0.140107</td>\n",
       "      <td>-0.140107</td>\n",
       "      <td>-0.140107</td>\n",
       "      <td>-0.140107</td>\n",
       "      <td>5.166667</td>\n",
       "      <td>0.0</td>\n",
       "      <td>0.0</td>\n",
       "      <td>0.0</td>\n",
       "      <td>0.0</td>\n",
       "      <td>0.0</td>\n",
       "    </tr>\n",
       "    <tr>\n",
       "      <th>2393</th>\n",
       "      <td>0.0</td>\n",
       "      <td>14798.0</td>\n",
       "      <td>40.0</td>\n",
       "      <td>13.0</td>\n",
       "      <td>0.035172</td>\n",
       "      <td>-0.140107</td>\n",
       "      <td>-0.140107</td>\n",
       "      <td>-0.140107</td>\n",
       "      <td>-0.140107</td>\n",
       "      <td>-0.140107</td>\n",
       "      <td>1.833333</td>\n",
       "      <td>0.0</td>\n",
       "      <td>0.0</td>\n",
       "      <td>0.0</td>\n",
       "      <td>0.0</td>\n",
       "      <td>0.0</td>\n",
       "    </tr>\n",
       "    <tr>\n",
       "      <th>2394</th>\n",
       "      <td>0.0</td>\n",
       "      <td>14799.0</td>\n",
       "      <td>37.0</td>\n",
       "      <td>13.0</td>\n",
       "      <td>0.289587</td>\n",
       "      <td>-0.140107</td>\n",
       "      <td>-0.140107</td>\n",
       "      <td>-0.140107</td>\n",
       "      <td>-0.140107</td>\n",
       "      <td>-0.140107</td>\n",
       "      <td>0.666667</td>\n",
       "      <td>0.0</td>\n",
       "      <td>0.0</td>\n",
       "      <td>0.0</td>\n",
       "      <td>0.0</td>\n",
       "      <td>0.0</td>\n",
       "    </tr>\n",
       "    <tr>\n",
       "      <th>2395</th>\n",
       "      <td>0.0</td>\n",
       "      <td>14800.0</td>\n",
       "      <td>40.0</td>\n",
       "      <td>13.0</td>\n",
       "      <td>-0.115254</td>\n",
       "      <td>-0.140107</td>\n",
       "      <td>-0.140107</td>\n",
       "      <td>-0.140107</td>\n",
       "      <td>-0.140107</td>\n",
       "      <td>-0.140107</td>\n",
       "      <td>0.333333</td>\n",
       "      <td>0.0</td>\n",
       "      <td>0.0</td>\n",
       "      <td>0.0</td>\n",
       "      <td>0.0</td>\n",
       "      <td>0.0</td>\n",
       "    </tr>\n",
       "    <tr>\n",
       "      <th>2396</th>\n",
       "      <td>0.0</td>\n",
       "      <td>14804.0</td>\n",
       "      <td>37.0</td>\n",
       "      <td>13.0</td>\n",
       "      <td>0.265388</td>\n",
       "      <td>-0.140107</td>\n",
       "      <td>-0.140107</td>\n",
       "      <td>-0.140107</td>\n",
       "      <td>-0.140107</td>\n",
       "      <td>-0.140107</td>\n",
       "      <td>0.333333</td>\n",
       "      <td>0.0</td>\n",
       "      <td>0.0</td>\n",
       "      <td>0.0</td>\n",
       "      <td>0.0</td>\n",
       "      <td>0.0</td>\n",
       "    </tr>\n",
       "  </tbody>\n",
       "</table>\n",
       "</div>"
      ],
      "text/plain": [
       "      shop_id  item_id  item_category_id  top_categories_id  item_price_avg_0  \\\n",
       "0         0.0     30.0              40.0               13.0         -0.053448   \n",
       "2393      0.0  14798.0              40.0               13.0          0.035172   \n",
       "2394      0.0  14799.0              37.0               13.0          0.289587   \n",
       "2395      0.0  14800.0              40.0               13.0         -0.115254   \n",
       "2396      0.0  14804.0              37.0               13.0          0.265388   \n",
       "\n",
       "      item_price_avg_1  item_price_avg_2  item_price_avg_3  item_price_avg_4  \\\n",
       "0            -0.140107         -0.140107         -0.140107         -0.140107   \n",
       "2393         -0.140107         -0.140107         -0.140107         -0.140107   \n",
       "2394         -0.140107         -0.140107         -0.140107         -0.140107   \n",
       "2395         -0.140107         -0.140107         -0.140107         -0.140107   \n",
       "2396         -0.140107         -0.140107         -0.140107         -0.140107   \n",
       "\n",
       "      item_price_avg_5  cnt_avg_0  cnt_avg_1  cnt_avg_2  cnt_avg_3  cnt_avg_4  \\\n",
       "0            -0.140107   5.166667        0.0        0.0        0.0        0.0   \n",
       "2393         -0.140107   1.833333        0.0        0.0        0.0        0.0   \n",
       "2394         -0.140107   0.666667        0.0        0.0        0.0        0.0   \n",
       "2395         -0.140107   0.333333        0.0        0.0        0.0        0.0   \n",
       "2396         -0.140107   0.333333        0.0        0.0        0.0        0.0   \n",
       "\n",
       "      cnt_avg_5  \n",
       "0           0.0  \n",
       "2393        0.0  \n",
       "2394        0.0  \n",
       "2395        0.0  \n",
       "2396        0.0  "
      ]
     },
     "execution_count": 93,
     "metadata": {},
     "output_type": "execute_result"
    }
   ],
   "source": [
    "X_train_block.head() "
   ]
  },
  {
   "cell_type": "code",
   "execution_count": 94,
   "metadata": {},
   "outputs": [],
   "source": [
    "#do the same to validation data\n",
    "X_val_block_avg = X_val_cnt.copy()"
   ]
  },
  {
   "cell_type": "code",
   "execution_count": 95,
   "metadata": {},
   "outputs": [
    {
     "name": "stdout",
     "output_type": "stream",
     "text": [
      "0\n",
      "1\n",
      "2\n",
      "3\n",
      "4\n",
      "5\n"
     ]
    }
   ],
   "source": [
    "#adding price averages\n",
    "for i in range(6):\n",
    "    print(i)\n",
    "    if i < 5:\n",
    "        X_val_block_avg[\"item_price_avg_\"+str(i)] = np.mean(X_val_cnt.iloc[:,(6*i+4):(6*i+4+6)],axis=1)\n",
    "    else:\n",
    "        X_val_block_avg[\"item_price_avg_\"+str(i)] = np.mean(X_val_cnt.iloc[:,(6*i+4):36],axis=1)"
   ]
  },
  {
   "cell_type": "code",
   "execution_count": 96,
   "metadata": {},
   "outputs": [
    {
     "name": "stdout",
     "output_type": "stream",
     "text": [
      "0\n",
      "1\n",
      "2\n",
      "3\n",
      "4\n",
      "5\n"
     ]
    }
   ],
   "source": [
    "#same for cnt averages\n",
    "for i in range(6):\n",
    "    print(i)\n",
    "    if i < 5:\n",
    "        X_val_block_avg[\"cnt_avg_\"+str(i)] = np.mean(X_val_cnt.iloc[:,(6*i+36):(6*i+36+6)],axis=1)\n",
    "    else:\n",
    "        X_val_block_avg[\"cnt_avg_\"+str(i)] = np.mean(X_val_cnt.iloc[:,(6*i+36):],axis=1)"
   ]
  },
  {
   "cell_type": "code",
   "execution_count": 97,
   "metadata": {},
   "outputs": [],
   "source": [
    "X_val_block =  X_val_block_avg.drop(columns = cols_to_drop)"
   ]
  },
  {
   "cell_type": "code",
   "execution_count": 98,
   "metadata": {},
   "outputs": [
    {
     "data": {
      "text/html": [
       "<div>\n",
       "<style scoped>\n",
       "    .dataframe tbody tr th:only-of-type {\n",
       "        vertical-align: middle;\n",
       "    }\n",
       "\n",
       "    .dataframe tbody tr th {\n",
       "        vertical-align: top;\n",
       "    }\n",
       "\n",
       "    .dataframe thead th {\n",
       "        text-align: right;\n",
       "    }\n",
       "</style>\n",
       "<table border=\"1\" class=\"dataframe\">\n",
       "  <thead>\n",
       "    <tr style=\"text-align: right;\">\n",
       "      <th></th>\n",
       "      <th>shop_id</th>\n",
       "      <th>item_id</th>\n",
       "      <th>item_category_id</th>\n",
       "      <th>top_categories_id</th>\n",
       "      <th>item_price_avg_0</th>\n",
       "      <th>item_price_avg_1</th>\n",
       "      <th>item_price_avg_2</th>\n",
       "      <th>item_price_avg_3</th>\n",
       "      <th>item_price_avg_4</th>\n",
       "      <th>item_price_avg_5</th>\n",
       "      <th>cnt_avg_0</th>\n",
       "      <th>cnt_avg_1</th>\n",
       "      <th>cnt_avg_2</th>\n",
       "      <th>cnt_avg_3</th>\n",
       "      <th>cnt_avg_4</th>\n",
       "      <th>cnt_avg_5</th>\n",
       "    </tr>\n",
       "  </thead>\n",
       "  <tbody>\n",
       "    <tr>\n",
       "      <th>0</th>\n",
       "      <td>0.0</td>\n",
       "      <td>30.0</td>\n",
       "      <td>40.0</td>\n",
       "      <td>13.0</td>\n",
       "      <td>-0.051996</td>\n",
       "      <td>-0.13808</td>\n",
       "      <td>-0.13808</td>\n",
       "      <td>-0.13808</td>\n",
       "      <td>-0.13808</td>\n",
       "      <td>-0.13808</td>\n",
       "      <td>5.166667</td>\n",
       "      <td>0.0</td>\n",
       "      <td>0.0</td>\n",
       "      <td>0.0</td>\n",
       "      <td>0.0</td>\n",
       "      <td>0.0</td>\n",
       "    </tr>\n",
       "    <tr>\n",
       "      <th>2393</th>\n",
       "      <td>0.0</td>\n",
       "      <td>14798.0</td>\n",
       "      <td>40.0</td>\n",
       "      <td>13.0</td>\n",
       "      <td>-0.051021</td>\n",
       "      <td>-0.13808</td>\n",
       "      <td>-0.13808</td>\n",
       "      <td>-0.13808</td>\n",
       "      <td>-0.13808</td>\n",
       "      <td>-0.13808</td>\n",
       "      <td>0.166667</td>\n",
       "      <td>0.0</td>\n",
       "      <td>0.0</td>\n",
       "      <td>0.0</td>\n",
       "      <td>0.0</td>\n",
       "      <td>0.0</td>\n",
       "    </tr>\n",
       "    <tr>\n",
       "      <th>2394</th>\n",
       "      <td>0.0</td>\n",
       "      <td>14799.0</td>\n",
       "      <td>37.0</td>\n",
       "      <td>13.0</td>\n",
       "      <td>0.075343</td>\n",
       "      <td>-0.13808</td>\n",
       "      <td>-0.13808</td>\n",
       "      <td>-0.13808</td>\n",
       "      <td>-0.13808</td>\n",
       "      <td>-0.13808</td>\n",
       "      <td>0.333333</td>\n",
       "      <td>0.0</td>\n",
       "      <td>0.0</td>\n",
       "      <td>0.0</td>\n",
       "      <td>0.0</td>\n",
       "      <td>0.0</td>\n",
       "    </tr>\n",
       "    <tr>\n",
       "      <th>2395</th>\n",
       "      <td>0.0</td>\n",
       "      <td>14800.0</td>\n",
       "      <td>40.0</td>\n",
       "      <td>13.0</td>\n",
       "      <td>-0.138080</td>\n",
       "      <td>-0.13808</td>\n",
       "      <td>-0.13808</td>\n",
       "      <td>-0.13808</td>\n",
       "      <td>-0.13808</td>\n",
       "      <td>-0.13808</td>\n",
       "      <td>0.000000</td>\n",
       "      <td>0.0</td>\n",
       "      <td>0.0</td>\n",
       "      <td>0.0</td>\n",
       "      <td>0.0</td>\n",
       "      <td>0.0</td>\n",
       "    </tr>\n",
       "    <tr>\n",
       "      <th>2396</th>\n",
       "      <td>0.0</td>\n",
       "      <td>14804.0</td>\n",
       "      <td>37.0</td>\n",
       "      <td>13.0</td>\n",
       "      <td>0.063324</td>\n",
       "      <td>-0.13808</td>\n",
       "      <td>-0.13808</td>\n",
       "      <td>-0.13808</td>\n",
       "      <td>-0.13808</td>\n",
       "      <td>-0.13808</td>\n",
       "      <td>0.166667</td>\n",
       "      <td>0.0</td>\n",
       "      <td>0.0</td>\n",
       "      <td>0.0</td>\n",
       "      <td>0.0</td>\n",
       "      <td>0.0</td>\n",
       "    </tr>\n",
       "  </tbody>\n",
       "</table>\n",
       "</div>"
      ],
      "text/plain": [
       "      shop_id  item_id  item_category_id  top_categories_id  item_price_avg_0  \\\n",
       "0         0.0     30.0              40.0               13.0         -0.051996   \n",
       "2393      0.0  14798.0              40.0               13.0         -0.051021   \n",
       "2394      0.0  14799.0              37.0               13.0          0.075343   \n",
       "2395      0.0  14800.0              40.0               13.0         -0.138080   \n",
       "2396      0.0  14804.0              37.0               13.0          0.063324   \n",
       "\n",
       "      item_price_avg_1  item_price_avg_2  item_price_avg_3  item_price_avg_4  \\\n",
       "0             -0.13808          -0.13808          -0.13808          -0.13808   \n",
       "2393          -0.13808          -0.13808          -0.13808          -0.13808   \n",
       "2394          -0.13808          -0.13808          -0.13808          -0.13808   \n",
       "2395          -0.13808          -0.13808          -0.13808          -0.13808   \n",
       "2396          -0.13808          -0.13808          -0.13808          -0.13808   \n",
       "\n",
       "      item_price_avg_5  cnt_avg_0  cnt_avg_1  cnt_avg_2  cnt_avg_3  cnt_avg_4  \\\n",
       "0             -0.13808   5.166667        0.0        0.0        0.0        0.0   \n",
       "2393          -0.13808   0.166667        0.0        0.0        0.0        0.0   \n",
       "2394          -0.13808   0.333333        0.0        0.0        0.0        0.0   \n",
       "2395          -0.13808   0.000000        0.0        0.0        0.0        0.0   \n",
       "2396          -0.13808   0.166667        0.0        0.0        0.0        0.0   \n",
       "\n",
       "      cnt_avg_5  \n",
       "0           0.0  \n",
       "2393        0.0  \n",
       "2394        0.0  \n",
       "2395        0.0  \n",
       "2396        0.0  "
      ]
     },
     "execution_count": 98,
     "metadata": {},
     "output_type": "execute_result"
    }
   ],
   "source": [
    "X_val_block.head(5)"
   ]
  },
  {
   "cell_type": "code",
   "execution_count": 99,
   "metadata": {},
   "outputs": [],
   "source": [
    "X_test_block_avg = X_test_cnt.copy()"
   ]
  },
  {
   "cell_type": "code",
   "execution_count": 100,
   "metadata": {},
   "outputs": [
    {
     "name": "stdout",
     "output_type": "stream",
     "text": [
      "0\n",
      "1\n",
      "2\n",
      "3\n",
      "4\n",
      "5\n"
     ]
    }
   ],
   "source": [
    "#adding price averages\n",
    "for i in range(6):\n",
    "    print(i)\n",
    "    if i < 5:\n",
    "        X_test_block_avg[\"item_price_avg_\"+str(i)] = np.mean(X_test_cnt.iloc[:,(6*i+4):(6*i+4+6)],axis=1)\n",
    "    else:\n",
    "        X_test_block_avg[\"item_price_avg_\"+str(i)] = np.mean(X_test_cnt.iloc[:,(6*i+4):36],axis=1)"
   ]
  },
  {
   "cell_type": "code",
   "execution_count": 101,
   "metadata": {},
   "outputs": [
    {
     "name": "stdout",
     "output_type": "stream",
     "text": [
      "0\n",
      "1\n",
      "2\n",
      "3\n",
      "4\n",
      "5\n"
     ]
    }
   ],
   "source": [
    "#same for cnt averages\n",
    "for i in range(6):\n",
    "    print(i)\n",
    "    if i < 5:\n",
    "        X_test_block_avg[\"cnt_avg_\"+str(i)] = np.mean(X_test_cnt.iloc[:,(6*i+36):(6*i+36+6)],axis=1)\n",
    "    else:\n",
    "        X_test_block_avg[\"cnt_avg_\"+str(i)] = np.mean(X_test_cnt.iloc[:,(6*i+36):],axis=1)"
   ]
  },
  {
   "cell_type": "code",
   "execution_count": 102,
   "metadata": {},
   "outputs": [],
   "source": [
    "X_test_block =  X_test_block_avg.drop(columns = cols_to_drop)"
   ]
  },
  {
   "cell_type": "code",
   "execution_count": 77,
   "metadata": {},
   "outputs": [],
   "source": [
    "#save block inputs\n",
    "save_obj(X_train_block, \"data/X_train_block\")\n",
    "save_obj(X_val_block, \"data/X_val_block\")\n",
    "save_obj(X_test_block, \"data/X_test_block\")"
   ]
  },
  {
   "cell_type": "code",
   "execution_count": 103,
   "metadata": {},
   "outputs": [
    {
     "name": "stderr",
     "output_type": "stream",
     "text": [
      "C:\\Users\\Zijun\\.conda\\envs\\venv\\lib\\site-packages\\xgboost\\core.py:587: FutureWarning: Series.base is deprecated and will be removed in a future version\n",
      "  if getattr(data, 'base', None) is not None and \\\n",
      "C:\\Users\\Zijun\\.conda\\envs\\venv\\lib\\site-packages\\xgboost\\core.py:588: FutureWarning: Series.base is deprecated and will be removed in a future version\n",
      "  data.base is not None and isinstance(data, np.ndarray) \\\n"
     ]
    },
    {
     "data": {
      "text/plain": [
       "XGBRegressor(base_score=0.5, booster='gbtree', colsample_bylevel=1,\n",
       "             colsample_bynode=1, colsample_bytree=1, gamma=0,\n",
       "             importance_type='gain', learning_rate=0.001, max_delta_step=0,\n",
       "             max_depth=50, min_child_weight=1, missing=None, n_estimators=200,\n",
       "             n_jobs=1, nthread=None, objective='reg:squarederror',\n",
       "             random_state=123, reg_alpha=0, reg_lambda=1, scale_pos_weight=1,\n",
       "             seed=None, silent=None, subsample=1, verbosity=1)"
      ]
     },
     "execution_count": 103,
     "metadata": {},
     "output_type": "execute_result"
    }
   ],
   "source": [
    "#try XGboost and MLP\n",
    "model_xgb=xgb.XGBRegressor(random_state=123,n_estimators=200,learning_rate=0.001,max_depth = 50,objective='reg:squarederror')\n",
    "model_xgb.fit(X_train_block, y_train_cnt)"
   ]
  },
  {
   "cell_type": "code",
   "execution_count": 104,
   "metadata": {},
   "outputs": [],
   "source": [
    "pred_val_xgb_block = model_xgb.predict(X_val_block)"
   ]
  },
  {
   "cell_type": "code",
   "execution_count": 105,
   "metadata": {},
   "outputs": [
    {
     "data": {
      "text/plain": [
       "3.577362026715606"
      ]
     },
     "execution_count": 105,
     "metadata": {},
     "output_type": "execute_result"
    }
   ],
   "source": [
    "rmse_xgb_block = np.sqrt(mean_squared_error(y_val_true,pred_val_xgb_block))\n",
    "rmse_xgb_block"
   ]
  },
  {
   "cell_type": "code",
   "execution_count": 106,
   "metadata": {},
   "outputs": [
    {
     "data": {
      "text/plain": [
       "0.8153236886984665"
      ]
     },
     "execution_count": 106,
     "metadata": {},
     "output_type": "execute_result"
    }
   ],
   "source": [
    "pred_val_xgb_block_clip = pred_val_xgb_block.clip(0,20)\n",
    "rmse_xgb_block_clip = np.sqrt(mean_squared_error(y_val_true_clip,pred_val_xgb_block_clip))\n",
    "rmse_xgb_block_clip"
   ]
  },
  {
   "cell_type": "code",
   "execution_count": 107,
   "metadata": {},
   "outputs": [
    {
     "data": {
      "text/plain": [
       "RandomForestRegressor(bootstrap=False, criterion='mse', max_depth=None,\n",
       "                      max_features=10, max_leaf_nodes=None,\n",
       "                      min_impurity_decrease=0.0, min_impurity_split=None,\n",
       "                      min_samples_leaf=1, min_samples_split=2,\n",
       "                      min_weight_fraction_leaf=0.0, n_estimators=200, n_jobs=1,\n",
       "                      oob_score=False, random_state=123, verbose=0,\n",
       "                      warm_start=False)"
      ]
     },
     "execution_count": 107,
     "metadata": {},
     "output_type": "execute_result"
    }
   ],
   "source": [
    "#rf\n",
    "rf_model_block = RandomForestRegressor(n_estimators=200, criterion='mse',max_features =10,bootstrap=False,n_jobs=1,random_state = 123)\n",
    "rf_model_block.fit(X_train_block, y_train_cnt)"
   ]
  },
  {
   "cell_type": "code",
   "execution_count": 108,
   "metadata": {},
   "outputs": [
    {
     "name": "stdout",
     "output_type": "stream",
     "text": [
      "cnt_avg_5 = 0.3613256380449574\n",
      "top_categories_id = 0.13974079441195866\n",
      "item_category_id = 0.1354005512154699\n",
      "item_price_avg_4 = 0.08012791032372166\n",
      "item_price_avg_5 = 0.06510766984895508\n",
      "item_id = 0.05841571044067629\n",
      "shop_id = 0.05697723048252361\n",
      "cnt_avg_4 = 0.05051525573840822\n",
      "cnt_avg_3 = 0.012871873184392002\n",
      "item_price_avg_3 = 0.007688670879925964\n",
      "item_price_avg_1 = 0.006990455700241864\n",
      "cnt_avg_2 = 0.006849840343090148\n",
      "cnt_avg_1 = 0.005583980717865858\n",
      "item_price_avg_0 = 0.005091413050937835\n",
      "cnt_avg_0 = 0.0042504409224638\n",
      "item_price_avg_2 = 0.0030625646944117822\n"
     ]
    }
   ],
   "source": [
    "#features of importance\n",
    "\n",
    "lst_importance = zip(X_train_block.columns, rf_model_block.feature_importances_)\n",
    "lst_imp_sorted = sorted (lst_importance, key = lambda t: t[1])[::-1]\n",
    "\n",
    "#top 10 importance\n",
    "for name, importance in lst_imp_sorted:\n",
    "    print(name, \"=\", importance)"
   ]
  },
  {
   "cell_type": "code",
   "execution_count": 109,
   "metadata": {},
   "outputs": [],
   "source": [
    "#prediction performance\n",
    "pred_val_rf_block = rf_model_block.predict(X_val_block) "
   ]
  },
  {
   "cell_type": "code",
   "execution_count": 110,
   "metadata": {},
   "outputs": [
    {
     "data": {
      "text/plain": [
       "5.27006392692154"
      ]
     },
     "execution_count": 110,
     "metadata": {},
     "output_type": "execute_result"
    }
   ],
   "source": [
    "rmse_rf_block = np.sqrt(mean_squared_error(y_val_true,pred_val_rf_block))\n",
    "rmse_rf_block "
   ]
  },
  {
   "cell_type": "code",
   "execution_count": 111,
   "metadata": {},
   "outputs": [],
   "source": [
    "pred_val_rf_block_clip = pred_val_rf_block.clip(0,20)"
   ]
  },
  {
   "cell_type": "code",
   "execution_count": 112,
   "metadata": {},
   "outputs": [
    {
     "data": {
      "text/plain": [
       "0.8633522734645953"
      ]
     },
     "execution_count": 112,
     "metadata": {},
     "output_type": "execute_result"
    }
   ],
   "source": [
    "rmse_rf_block_clipped = np.sqrt(mean_squared_error(y_val_true_clip,pred_val_rf_block_clip))\n",
    "rmse_rf_block_clipped "
   ]
  },
  {
   "cell_type": "code",
   "execution_count": 113,
   "metadata": {},
   "outputs": [
    {
     "data": {
      "text/plain": [
       "MLPRegressor(activation='tanh', alpha=0.01, batch_size='auto', beta_1=0.9,\n",
       "             beta_2=0.999, early_stopping=False, epsilon=1e-08,\n",
       "             hidden_layer_sizes=(100, 2), learning_rate='adaptive',\n",
       "             learning_rate_init=0.001, max_iter=500, momentum=0.9,\n",
       "             n_iter_no_change=10, nesterovs_momentum=True, power_t=0.5,\n",
       "             random_state=123, shuffle=True, solver='adam', tol=0.0001,\n",
       "             validation_fraction=0.1, verbose=False, warm_start=False)"
      ]
     },
     "execution_count": 113,
     "metadata": {},
     "output_type": "execute_result"
    }
   ],
   "source": [
    "#MLP\n",
    "MLP_model_block = MLPRegressor(hidden_layer_sizes = (100,2),activation = \"tanh\",learning_rate = \"adaptive\", max_iter = 500,alpha = 0.01,random_state=123)\n",
    "MLP_model_block.fit(X_train_block, y_train_cnt)"
   ]
  },
  {
   "cell_type": "code",
   "execution_count": 114,
   "metadata": {},
   "outputs": [],
   "source": [
    "#prediction performance\n",
    "pred_val_mlp_block = MLP_model_block.predict(X_val_block)"
   ]
  },
  {
   "cell_type": "code",
   "execution_count": 115,
   "metadata": {},
   "outputs": [
    {
     "data": {
      "text/plain": [
       "3.5952428207037377"
      ]
     },
     "execution_count": 115,
     "metadata": {},
     "output_type": "execute_result"
    }
   ],
   "source": [
    "rmse_mlp_block = np.sqrt(mean_squared_error(y_val_true,pred_val_mlp_block))\n",
    "rmse_mlp_block"
   ]
  },
  {
   "cell_type": "code",
   "execution_count": 116,
   "metadata": {},
   "outputs": [
    {
     "data": {
      "text/plain": [
       "0.7764198486593755"
      ]
     },
     "execution_count": 116,
     "metadata": {},
     "output_type": "execute_result"
    }
   ],
   "source": [
    "#clipped version\n",
    "pred_val_mlp_block_clip = pred_val_mlp_block.clip(0,20)\n",
    "rmse_mlp_block_clip = np.sqrt(mean_squared_error(y_val_true_clip,pred_val_mlp_block_clip))\n",
    "rmse_mlp_block_clip"
   ]
  },
  {
   "cell_type": "code",
   "execution_count": 117,
   "metadata": {},
   "outputs": [],
   "source": [
    "#validation step for MLP to optimize the result\n",
    "#test on hidden layer sizes, max_iter,alpha\n",
    "neutron_a = [50,80,100,150,200,500]\n",
    "neutron_b = [1,2,3,4,5]\n",
    "max_iter = [50,100,200,500]\n",
    "alpha = [0.001,0.002,0.005,0.05,0.1,0.2,0.5,1,2]\n",
    "count = 1"
   ]
  },
  {
   "cell_type": "code",
   "execution_count": 19,
   "metadata": {
    "collapsed": true
   },
   "outputs": [],
   "source": [
    "#using  parallel processing by ipython parallel\n",
    "import os\n",
    "import ipyparallel as ipp"
   ]
  },
  {
   "cell_type": "code",
   "execution_count": 22,
   "metadata": {},
   "outputs": [],
   "source": [
    "#parallel process\n",
    "rc = ipp.Client()\n",
    "ar = rc[:].apply_async(os.getpid)\n",
    "pid_map = ar.get_dict()\n",
    "v = rc.load_balanced_view()"
   ]
  },
  {
   "cell_type": "code",
   "execution_count": 23,
   "metadata": {
    "collapsed": true
   },
   "outputs": [],
   "source": [
    "from IPython.display import clear_output\n",
    "import sys"
   ]
  },
  {
   "cell_type": "code",
   "execution_count": 24,
   "metadata": {},
   "outputs": [
    {
     "data": {
      "text/plain": [
       "<DirectView [0, 1, 2, 3,...]>"
      ]
     },
     "execution_count": 24,
     "metadata": {},
     "output_type": "execute_result"
    }
   ],
   "source": [
    "rc[:]"
   ]
  },
  {
   "cell_type": "code",
   "execution_count": 25,
   "metadata": {},
   "outputs": [],
   "source": [
    "dview = rc[:]"
   ]
  },
  {
   "cell_type": "code",
   "execution_count": 94,
   "metadata": {},
   "outputs": [
    {
     "name": "stdout",
     "output_type": "stream",
     "text": [
      "importing MLPRegressor from sklearn.neural_network on engine(s)\n",
      "importing numpy on engine(s)\n",
      "importing mean_squared_error from sklearn.metrics on engine(s)\n"
     ]
    }
   ],
   "source": [
    "#importing packages\n",
    "with dview.sync_imports():\n",
    "    from sklearn.neural_network import MLPRegressor\n",
    "    import numpy as np\n",
    "    from sklearn.metrics import mean_squared_error"
   ]
  },
  {
   "cell_type": "code",
   "execution_count": 26,
   "metadata": {
    "collapsed": true
   },
   "outputs": [],
   "source": [
    "def validation_MLP(args):\n",
    "    from sklearn.neural_network import MLPRegressor\n",
    "    import numpy as np\n",
    "    from sklearn.metrics import mean_squared_error\n",
    "    #(neutron_a,neutron_b,maxiter_m,alpha_a,x_train,y_train,x_val)\n",
    "    val_result={}\n",
    "    \n",
    "    a = args[0]\n",
    "    b = args[1]\n",
    "    m = args[2]\n",
    "    al = args[3]\n",
    "    X_train_block = args[4]\n",
    "    y_train_cnt = args[5]\n",
    "    X_val_block = args[6]\n",
    "    y_val_true = args[7]\n",
    "    \n",
    "    MLP_model_block_temp = MLPRegressor(hidden_layer_sizes = (a,b),activation = \"tanh\",learning_rate = \"adaptive\", max_iter = m,alpha = al,random_state=123)\n",
    "    MLP_model_block_temp.fit(X_train_block, y_train_cnt)\n",
    "    pred_train = MLP_model_block_temp.predict(X_train_block)\n",
    "    pred_val = MLP_model_block_temp.predict(X_val_block)\n",
    "    pred_val_clip = pred_val.clip(0,20)\n",
    "    y_val_true_clip = y_val_true.clip(0,20)\n",
    "    train_error = np.sqrt(mean_squared_error(y_train_cnt,pred_train))\n",
    "    val_error = np.sqrt(mean_squared_error(y_val_true,pred_val))\n",
    "    val_error_clip = np.sqrt(mean_squared_error(y_val_true_clip,pred_val_clip))\n",
    "    val_result[a,b,m,al] = train_error,val_error,val_error_clip\n",
    "    \n",
    "    #delete all the inputs and outputs to free up memories\n",
    "    del MLP_model_block_temp,pred_train,pred_val,pred_val_clip,train_error,val_error,val_error_clip,a,b,m,al,X_train_block,y_train_cnt,X_val_block,y_val_true\n",
    "    \n",
    "    return val_result\n",
    "\n",
    "    del val_result\n",
    "    del MLPRegressor,np,mean_squared_error\n",
    "    "
   ]
  },
  {
   "cell_type": "code",
   "execution_count": 27,
   "metadata": {
    "scrolled": true
   },
   "outputs": [
    {
     "data": {
      "text/plain": [
       "{0: {'completed': ['4e18219e-cea9-4cdc-a3b8-1661fa9543a9'],\n",
       "  'queue': [],\n",
       "  'tasks': []},\n",
       " 1: {'completed': ['890aa4d1-688f-460d-bb43-fc3d5ef86c0f'],\n",
       "  'queue': [],\n",
       "  'tasks': []},\n",
       " 10: {'completed': ['f22c70df-0740-41f9-b94b-1fbd668a4fe6'],\n",
       "  'queue': [],\n",
       "  'tasks': []},\n",
       " 11: {'completed': ['2cda185f-08f4-4bcc-aff4-daf3dcbf2802'],\n",
       "  'queue': [],\n",
       "  'tasks': []},\n",
       " 12: {'completed': ['04d45db9-d54f-4b24-9677-38db90856e50'],\n",
       "  'queue': [],\n",
       "  'tasks': []},\n",
       " 13: {'completed': ['cd90a688-6642-49f2-b75f-d416791a9275'],\n",
       "  'queue': [],\n",
       "  'tasks': []},\n",
       " 14: {'completed': ['e44bdf42-427b-44c3-a906-74eaaac64b5d'],\n",
       "  'queue': [],\n",
       "  'tasks': []},\n",
       " 15: {'completed': ['35dec269-cc03-4dc2-8477-924d1a54e841'],\n",
       "  'queue': [],\n",
       "  'tasks': []},\n",
       " 2: {'completed': ['2abaf4b5-f251-44c6-aedc-cf7cee19a560'],\n",
       "  'queue': [],\n",
       "  'tasks': []},\n",
       " 3: {'completed': ['8ebbac40-2c21-484c-a053-81204852466b'],\n",
       "  'queue': [],\n",
       "  'tasks': []},\n",
       " 4: {'completed': ['fbb5a07b-2842-4d54-a4e5-fe1aa298af03'],\n",
       "  'queue': [],\n",
       "  'tasks': []},\n",
       " 5: {'completed': ['161da3d0-9971-4d47-a781-108bc02e15b3'],\n",
       "  'queue': [],\n",
       "  'tasks': []},\n",
       " 6: {'completed': ['73867a21-2546-4a10-8ca5-cbdc5d91bbf5'],\n",
       "  'queue': [],\n",
       "  'tasks': []},\n",
       " 7: {'completed': ['382d4300-0929-4f12-8d6f-bdd943760806'],\n",
       "  'queue': [],\n",
       "  'tasks': []},\n",
       " 8: {'completed': ['38306822-545e-45dd-b7ba-18ef48a2fe85'],\n",
       "  'queue': [],\n",
       "  'tasks': []},\n",
       " 9: {'completed': ['d586e40c-57f0-4ddd-9c26-8f5afa02bfc0'],\n",
       "  'queue': [],\n",
       "  'tasks': []},\n",
       " 'unassigned': []}"
      ]
     },
     "execution_count": 27,
     "metadata": {},
     "output_type": "execute_result"
    }
   ],
   "source": [
    "rc.queue_status(targets='all', verbose=True)"
   ]
  },
  {
   "cell_type": "code",
   "execution_count": 28,
   "metadata": {},
   "outputs": [],
   "source": [
    "#using the backend db to gather all jobs (in case a lost connection from user end)\n",
    "task_id = rc.hub_history()"
   ]
  },
  {
   "cell_type": "code",
   "execution_count": 29,
   "metadata": {},
   "outputs": [
    {
     "data": {
      "text/plain": [
       "['4e18219e-cea9-4cdc-a3b8-1661fa9543a9',\n",
       " '890aa4d1-688f-460d-bb43-fc3d5ef86c0f',\n",
       " '2abaf4b5-f251-44c6-aedc-cf7cee19a560',\n",
       " '8ebbac40-2c21-484c-a053-81204852466b',\n",
       " 'fbb5a07b-2842-4d54-a4e5-fe1aa298af03',\n",
       " '161da3d0-9971-4d47-a781-108bc02e15b3',\n",
       " '73867a21-2546-4a10-8ca5-cbdc5d91bbf5',\n",
       " '382d4300-0929-4f12-8d6f-bdd943760806',\n",
       " '38306822-545e-45dd-b7ba-18ef48a2fe85',\n",
       " 'd586e40c-57f0-4ddd-9c26-8f5afa02bfc0',\n",
       " 'f22c70df-0740-41f9-b94b-1fbd668a4fe6',\n",
       " '2cda185f-08f4-4bcc-aff4-daf3dcbf2802',\n",
       " '04d45db9-d54f-4b24-9677-38db90856e50',\n",
       " 'cd90a688-6642-49f2-b75f-d416791a9275',\n",
       " 'e44bdf42-427b-44c3-a906-74eaaac64b5d',\n",
       " '35dec269-cc03-4dc2-8477-924d1a54e841']"
      ]
     },
     "execution_count": 29,
     "metadata": {},
     "output_type": "execute_result"
    }
   ],
   "source": [
    "task_id #buffers"
   ]
  },
  {
   "cell_type": "code",
   "execution_count": 27,
   "metadata": {
    "collapsed": true
   },
   "outputs": [],
   "source": [
    "#retrive the tasks run from back rend\n",
    "result_temp = rc.get_result(task_id)"
   ]
  },
  {
   "cell_type": "code",
   "execution_count": 118,
   "metadata": {},
   "outputs": [],
   "source": [
    "#parallel process\n",
    "#val_result = {}\n",
    "### a dict to store parameters as they're submitted\n",
    "\n",
    "inputs = []\n",
    "i = 1\n",
    "for a in neutron_a:\n",
    "    for b in neutron_b:\n",
    "        for m in max_iter:\n",
    "            for al in alpha:\n",
    "                inputs.append((a,b,m,al,X_train_block,y_train_cnt,X_val_block,y_val_cnt))    \n",
    "              "
   ]
  },
  {
   "cell_type": "code",
   "execution_count": 119,
   "metadata": {},
   "outputs": [
    {
     "data": {
      "text/plain": [
       "1080"
      ]
     },
     "execution_count": 119,
     "metadata": {},
     "output_type": "execute_result"
    }
   ],
   "source": [
    "len(inputs)"
   ]
  },
  {
   "cell_type": "code",
   "execution_count": 120,
   "metadata": {},
   "outputs": [],
   "source": [
    "inputs_batch_lst = []\n",
    "inputs_batch_lst = [inputs[(x)*100:(x+1)*100] for x in range(10)]\n",
    "inputs_batch_lst.append(inputs[1000:])"
   ]
  },
  {
   "cell_type": "code",
   "execution_count": 34,
   "metadata": {},
   "outputs": [],
   "source": [
    "val_result_lst = []\n",
    "count = 1\n",
    "    \n",
    "for input_batch in inputs_batch_lst:\n",
    "    print(\"loop \"+str(count) + \"/10 started...\")\n",
    "    t = time.time()\n",
    "    val_result_tmp = v.map(validation_MLP,input_batch)\n",
    "    print(\"loop \" + str(count) + \" costed \", time.time() - t) \n",
    "    \n",
    "    #clear buffer while waiting\n",
    "    while not val_result_tmp.ready():\n",
    "        #clear_output()\n",
    "        for stdout in val_result_tmp.stdout:\n",
    "            if stdout:\n",
    "                lines = stdout.split('\\n')\n",
    "                for line in lines[-4:-1]:\n",
    "                    if line:\n",
    "                        print(line)\n",
    "        sys.stdout.flush()\n",
    "        time.sleep(30)\n",
    "\n",
    "    if (val_result_tmp.ready() == True) & (val_result_tmp.successful() == True):\n",
    "        val_result_lst.append(val_result_tmp.get())\n",
    "    else:\n",
    "        print(\"job failed at loop: \",count)\n",
    "        break\n",
    "        \n",
    "    count = count + 1\n",
    "    #clear intermediate result before moving to the next batch\n",
    "    del val_result_tmp\n",
    "    rc.purge_everything()\n",
    "    clear_output()"
   ]
  },
  {
   "cell_type": "code",
   "execution_count": 53,
   "metadata": {},
   "outputs": [
    {
     "data": {
      "text/plain": [
       "True"
      ]
     },
     "execution_count": 53,
     "metadata": {},
     "output_type": "execute_result"
    }
   ],
   "source": [
    "val_result_tmp.ready()"
   ]
  },
  {
   "cell_type": "code",
   "execution_count": 54,
   "metadata": {},
   "outputs": [
    {
     "data": {
      "text/plain": [
       "True"
      ]
     },
     "execution_count": 54,
     "metadata": {},
     "output_type": "execute_result"
    }
   ],
   "source": [
    "val_result_tmp.successful()"
   ]
  },
  {
   "cell_type": "code",
   "execution_count": 55,
   "metadata": {},
   "outputs": [],
   "source": [
    "val_result_holder = val_result_tmp.get()"
   ]
  },
  {
   "cell_type": "code",
   "execution_count": 149,
   "metadata": {
    "collapsed": true
   },
   "outputs": [],
   "source": [
    "save_obj(val_result_holder,\"data/val_result\")"
   ]
  },
  {
   "cell_type": "code",
   "execution_count": 103,
   "metadata": {},
   "outputs": [],
   "source": [
    "del val_result_tmp"
   ]
  },
  {
   "cell_type": "code",
   "execution_count": 61,
   "metadata": {},
   "outputs": [],
   "source": [
    "rc.purge_everything()\n",
    "clear_output()"
   ]
  },
  {
   "cell_type": "code",
   "execution_count": null,
   "metadata": {
    "collapsed": true
   },
   "outputs": [],
   "source": [
    "rc.close()"
   ]
  },
  {
   "cell_type": "code",
   "execution_count": 40,
   "metadata": {},
   "outputs": [],
   "source": [
    "#merge dictionaries\n",
    "result = {}\n",
    "for b in range(len(val_result_holder)):\n",
    "    for d in val_result_holder[b]:\n",
    "        Merge(d,result)"
   ]
  },
  {
   "cell_type": "code",
   "execution_count": 56,
   "metadata": {},
   "outputs": [
    {
     "data": {
      "text/plain": [
       "(80, 2, 100, 0.001)"
      ]
     },
     "execution_count": 56,
     "metadata": {},
     "output_type": "execute_result"
    }
   ],
   "source": [
    "#get the key corresponding to the minimum of the validation value (clipped)\n",
    "min(result, key=result.get)"
   ]
  },
  {
   "cell_type": "code",
   "execution_count": 79,
   "metadata": {},
   "outputs": [],
   "source": [
    "#the best parameter is neutron of size (80,2),max_iter = 100, and alpha = 0.001\n",
    "#mlp\n",
    "from sklearn.neural_network import MLPRegressor"
   ]
  },
  {
   "cell_type": "code",
   "execution_count": 80,
   "metadata": {},
   "outputs": [
    {
     "data": {
      "text/plain": [
       "MLPRegressor(activation='tanh', alpha=0.001, batch_size='auto', beta_1=0.9,\n",
       "             beta_2=0.999, early_stopping=False, epsilon=1e-08,\n",
       "             hidden_layer_sizes=(80, 2), learning_rate='adaptive',\n",
       "             learning_rate_init=0.001, max_iter=100, momentum=0.9,\n",
       "             n_iter_no_change=10, nesterovs_momentum=True, power_t=0.5,\n",
       "             random_state=123, shuffle=True, solver='adam', tol=0.0001,\n",
       "             validation_fraction=0.1, verbose=False, warm_start=False)"
      ]
     },
     "execution_count": 80,
     "metadata": {},
     "output_type": "execute_result"
    }
   ],
   "source": [
    "#MLP\n",
    "MLP_model_block = MLPRegressor(hidden_layer_sizes = (80,2),activation = \"tanh\",learning_rate = \"adaptive\", max_iter = 100,alpha = 0.001,random_state=123)\n",
    "MLP_model_block.fit(X_train_block, y_train_cnt)"
   ]
  },
  {
   "cell_type": "code",
   "execution_count": 81,
   "metadata": {},
   "outputs": [],
   "source": [
    "#prediction performance\n",
    "pred_val_mlp_block = MLP_model_block.predict(X_val_block)"
   ]
  },
  {
   "cell_type": "code",
   "execution_count": 82,
   "metadata": {},
   "outputs": [
    {
     "data": {
      "text/plain": [
       "3.59525220115477"
      ]
     },
     "execution_count": 82,
     "metadata": {},
     "output_type": "execute_result"
    }
   ],
   "source": [
    "rmse_mlp_block = np.sqrt(mean_squared_error(y_val_true,pred_val_mlp_block))\n",
    "rmse_mlp_block"
   ]
  },
  {
   "cell_type": "code",
   "execution_count": 83,
   "metadata": {},
   "outputs": [
    {
     "data": {
      "text/plain": [
       "0.7764864356096106"
      ]
     },
     "execution_count": 83,
     "metadata": {},
     "output_type": "execute_result"
    }
   ],
   "source": [
    "#clipped version\n",
    "pred_val_mlp_block_clip = pred_val_mlp_block.clip(0,20)\n",
    "rmse_mlp_block_clip = np.sqrt(mean_squared_error(y_val_true_clip,pred_val_mlp_block_clip))\n",
    "rmse_mlp_block_clip"
   ]
  },
  {
   "cell_type": "code",
   "execution_count": 84,
   "metadata": {},
   "outputs": [
    {
     "data": {
      "text/plain": [
       "array([0.16507926, 0.17073566, 0.17073566, ..., 0.17073566, 0.17073566,\n",
       "       0.17073566])"
      ]
     },
     "execution_count": 84,
     "metadata": {},
     "output_type": "execute_result"
    }
   ],
   "source": [
    "pred_val_mlp_block_clip"
   ]
  },
  {
   "cell_type": "code",
   "execution_count": 85,
   "metadata": {},
   "outputs": [],
   "source": [
    "pred_test_xgb_block = MLP_model_block.predict(X_test_block)"
   ]
  },
  {
   "cell_type": "code",
   "execution_count": 86,
   "metadata": {},
   "outputs": [
    {
     "data": {
      "text/plain": [
       "array([0.1643625 , 0.17073566, 0.17073566, ..., 0.17073566, 0.17073566,\n",
       "       0.17073566])"
      ]
     },
     "execution_count": 86,
     "metadata": {},
     "output_type": "execute_result"
    }
   ],
   "source": [
    "pred_test_xgb_block"
   ]
  },
  {
   "cell_type": "code",
   "execution_count": 87,
   "metadata": {},
   "outputs": [
    {
     "data": {
      "text/html": [
       "<div>\n",
       "<style scoped>\n",
       "    .dataframe tbody tr th:only-of-type {\n",
       "        vertical-align: middle;\n",
       "    }\n",
       "\n",
       "    .dataframe tbody tr th {\n",
       "        vertical-align: top;\n",
       "    }\n",
       "\n",
       "    .dataframe thead th {\n",
       "        text-align: right;\n",
       "    }\n",
       "</style>\n",
       "<table border=\"1\" class=\"dataframe\">\n",
       "  <thead>\n",
       "    <tr style=\"text-align: right;\">\n",
       "      <th></th>\n",
       "      <th>shop_id</th>\n",
       "      <th>item_id</th>\n",
       "      <th>item_category_id</th>\n",
       "      <th>top_categories_id</th>\n",
       "      <th>item_price_avg_0</th>\n",
       "      <th>item_price_avg_1</th>\n",
       "      <th>item_price_avg_2</th>\n",
       "      <th>item_price_avg_3</th>\n",
       "      <th>item_price_avg_4</th>\n",
       "      <th>item_price_avg_5</th>\n",
       "      <th>cnt_avg_0</th>\n",
       "      <th>cnt_avg_1</th>\n",
       "      <th>cnt_avg_2</th>\n",
       "      <th>cnt_avg_3</th>\n",
       "      <th>cnt_avg_4</th>\n",
       "      <th>cnt_avg_5</th>\n",
       "    </tr>\n",
       "  </thead>\n",
       "  <tbody>\n",
       "    <tr>\n",
       "      <th>0</th>\n",
       "      <td>0.0</td>\n",
       "      <td>30.0</td>\n",
       "      <td>40.0</td>\n",
       "      <td>13.0</td>\n",
       "      <td>-0.135903</td>\n",
       "      <td>-0.135903</td>\n",
       "      <td>-0.135903</td>\n",
       "      <td>-0.135903</td>\n",
       "      <td>-0.135903</td>\n",
       "      <td>-0.135903</td>\n",
       "      <td>0.0</td>\n",
       "      <td>0.0</td>\n",
       "      <td>0.0</td>\n",
       "      <td>0.0</td>\n",
       "      <td>0.0</td>\n",
       "      <td>0.0</td>\n",
       "    </tr>\n",
       "    <tr>\n",
       "      <th>2393</th>\n",
       "      <td>0.0</td>\n",
       "      <td>14798.0</td>\n",
       "      <td>40.0</td>\n",
       "      <td>13.0</td>\n",
       "      <td>-0.135903</td>\n",
       "      <td>-0.135903</td>\n",
       "      <td>-0.135903</td>\n",
       "      <td>-0.135903</td>\n",
       "      <td>-0.135903</td>\n",
       "      <td>-0.135903</td>\n",
       "      <td>0.0</td>\n",
       "      <td>0.0</td>\n",
       "      <td>0.0</td>\n",
       "      <td>0.0</td>\n",
       "      <td>0.0</td>\n",
       "      <td>0.0</td>\n",
       "    </tr>\n",
       "    <tr>\n",
       "      <th>2394</th>\n",
       "      <td>0.0</td>\n",
       "      <td>14799.0</td>\n",
       "      <td>37.0</td>\n",
       "      <td>13.0</td>\n",
       "      <td>-0.135903</td>\n",
       "      <td>-0.135903</td>\n",
       "      <td>-0.135903</td>\n",
       "      <td>-0.135903</td>\n",
       "      <td>-0.135903</td>\n",
       "      <td>-0.135903</td>\n",
       "      <td>0.0</td>\n",
       "      <td>0.0</td>\n",
       "      <td>0.0</td>\n",
       "      <td>0.0</td>\n",
       "      <td>0.0</td>\n",
       "      <td>0.0</td>\n",
       "    </tr>\n",
       "    <tr>\n",
       "      <th>2395</th>\n",
       "      <td>0.0</td>\n",
       "      <td>14800.0</td>\n",
       "      <td>40.0</td>\n",
       "      <td>13.0</td>\n",
       "      <td>-0.135903</td>\n",
       "      <td>-0.135903</td>\n",
       "      <td>-0.135903</td>\n",
       "      <td>-0.135903</td>\n",
       "      <td>-0.135903</td>\n",
       "      <td>-0.135903</td>\n",
       "      <td>0.0</td>\n",
       "      <td>0.0</td>\n",
       "      <td>0.0</td>\n",
       "      <td>0.0</td>\n",
       "      <td>0.0</td>\n",
       "      <td>0.0</td>\n",
       "    </tr>\n",
       "    <tr>\n",
       "      <th>2396</th>\n",
       "      <td>0.0</td>\n",
       "      <td>14804.0</td>\n",
       "      <td>37.0</td>\n",
       "      <td>13.0</td>\n",
       "      <td>-0.135903</td>\n",
       "      <td>-0.135903</td>\n",
       "      <td>-0.135903</td>\n",
       "      <td>-0.135903</td>\n",
       "      <td>-0.135903</td>\n",
       "      <td>-0.135903</td>\n",
       "      <td>0.0</td>\n",
       "      <td>0.0</td>\n",
       "      <td>0.0</td>\n",
       "      <td>0.0</td>\n",
       "      <td>0.0</td>\n",
       "      <td>0.0</td>\n",
       "    </tr>\n",
       "  </tbody>\n",
       "</table>\n",
       "</div>"
      ],
      "text/plain": [
       "      shop_id  item_id  item_category_id  top_categories_id  item_price_avg_0  \\\n",
       "0         0.0     30.0              40.0               13.0         -0.135903   \n",
       "2393      0.0  14798.0              40.0               13.0         -0.135903   \n",
       "2394      0.0  14799.0              37.0               13.0         -0.135903   \n",
       "2395      0.0  14800.0              40.0               13.0         -0.135903   \n",
       "2396      0.0  14804.0              37.0               13.0         -0.135903   \n",
       "\n",
       "      item_price_avg_1  item_price_avg_2  item_price_avg_3  item_price_avg_4  \\\n",
       "0            -0.135903         -0.135903         -0.135903         -0.135903   \n",
       "2393         -0.135903         -0.135903         -0.135903         -0.135903   \n",
       "2394         -0.135903         -0.135903         -0.135903         -0.135903   \n",
       "2395         -0.135903         -0.135903         -0.135903         -0.135903   \n",
       "2396         -0.135903         -0.135903         -0.135903         -0.135903   \n",
       "\n",
       "      item_price_avg_5  cnt_avg_0  cnt_avg_1  cnt_avg_2  cnt_avg_3  cnt_avg_4  \\\n",
       "0            -0.135903        0.0        0.0        0.0        0.0        0.0   \n",
       "2393         -0.135903        0.0        0.0        0.0        0.0        0.0   \n",
       "2394         -0.135903        0.0        0.0        0.0        0.0        0.0   \n",
       "2395         -0.135903        0.0        0.0        0.0        0.0        0.0   \n",
       "2396         -0.135903        0.0        0.0        0.0        0.0        0.0   \n",
       "\n",
       "      cnt_avg_5  \n",
       "0           0.0  \n",
       "2393        0.0  \n",
       "2394        0.0  \n",
       "2395        0.0  \n",
       "2396        0.0  "
      ]
     },
     "execution_count": 87,
     "metadata": {},
     "output_type": "execute_result"
    }
   ],
   "source": [
    "X_test_block.head()"
   ]
  },
  {
   "cell_type": "code",
   "execution_count": 88,
   "metadata": {},
   "outputs": [],
   "source": [
    "test_pred_df = X_test_block[[\"shop_id\",\"item_id\",\"item_category_id\",\"top_categories_id\"]]"
   ]
  },
  {
   "cell_type": "code",
   "execution_count": 89,
   "metadata": {},
   "outputs": [
    {
     "name": "stderr",
     "output_type": "stream",
     "text": [
      "C:\\Users\\Zijun\\AppData\\Roaming\\Python\\Python37\\site-packages\\ipykernel_launcher.py:1: SettingWithCopyWarning: \n",
      "A value is trying to be set on a copy of a slice from a DataFrame.\n",
      "Try using .loc[row_indexer,col_indexer] = value instead\n",
      "\n",
      "See the caveats in the documentation: http://pandas.pydata.org/pandas-docs/stable/user_guide/indexing.html#returning-a-view-versus-a-copy\n",
      "  \"\"\"Entry point for launching an IPython kernel.\n"
     ]
    }
   ],
   "source": [
    "test_pred_df[\"mlp_pred_block\"] = pred_test_xgb_block.clip(0,20)"
   ]
  },
  {
   "cell_type": "code",
   "execution_count": 90,
   "metadata": {},
   "outputs": [
    {
     "data": {
      "text/plain": [
       "0.03996355837429816"
      ]
     },
     "execution_count": 90,
     "metadata": {},
     "output_type": "execute_result"
    }
   ],
   "source": [
    "min(test_pred_df[\"mlp_pred_block\"])"
   ]
  },
  {
   "cell_type": "code",
   "execution_count": 91,
   "metadata": {},
   "outputs": [],
   "source": [
    "save_obj(test_pred_df,\"data/test_pred_df_mlp_complete\")"
   ]
  },
  {
   "cell_type": "code",
   "execution_count": null,
   "metadata": {},
   "outputs": [],
   "source": []
  }
 ],
 "metadata": {
  "anaconda-cloud": {},
  "kernelspec": {
   "display_name": "venv",
   "language": "python",
   "name": "venv"
  },
  "language_info": {
   "codemirror_mode": {
    "name": "ipython",
    "version": 3
   },
   "file_extension": ".py",
   "mimetype": "text/x-python",
   "name": "python",
   "nbconvert_exporter": "python",
   "pygments_lexer": "ipython3",
   "version": "3.7.3"
  }
 },
 "nbformat": 4,
 "nbformat_minor": 2
}
